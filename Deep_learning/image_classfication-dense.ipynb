{
 "cells": [
  {
   "cell_type": "markdown",
   "metadata": {},
   "source": [
    "## Frist EXAMPLE"
   ]
  },
  {
   "cell_type": "code",
   "execution_count": 46,
   "metadata": {},
   "outputs": [
    {
     "name": "stdout",
     "output_type": "stream",
     "text": [
      "Downloading data from https://s3.amazonaws.com/img-datasets/mnist.npz\n",
      "11493376/11490434 [==============================] - 4s 0us/step\n"
     ]
    }
   ],
   "source": [
    "import keras\n",
    "from keras.datasets import mnist\n",
    "  \n",
    "import ssl\n",
    "ssl._create_default_https_context = ssl._create_unverified_context\n",
    "\n",
    "(train_images, train_labels), (test_images, test_labels) = mnist.load_data()"
   ]
  },
  {
   "cell_type": "code",
   "execution_count": 47,
   "metadata": {},
   "outputs": [
    {
     "data": {
      "text/plain": [
       "(60000, 28, 28)"
      ]
     },
     "execution_count": 47,
     "metadata": {},
     "output_type": "execute_result"
    }
   ],
   "source": [
    "train_images.shape"
   ]
  },
  {
   "cell_type": "code",
   "execution_count": 49,
   "metadata": {},
   "outputs": [],
   "source": [
    "train_images = train_images.reshape((60000, 28 * 28)) \n",
    "train_images = train_images.astype('float32') / 255\n",
    "test_images = test_images.reshape((10000, 28 * 28)) \n",
    "test_images = test_images.astype('float32') / 255"
   ]
  },
  {
   "cell_type": "code",
   "execution_count": 51,
   "metadata": {},
   "outputs": [
    {
     "name": "stdout",
     "output_type": "stream",
     "text": [
      "WARNING:tensorflow:From /Users/apple/PycharmProjects/PRACTICE/venv/lib/python3.7/site-packages/tensorflow_core/python/ops/resource_variable_ops.py:1630: calling BaseResourceVariable.__init__ (from tensorflow.python.ops.resource_variable_ops) with constraint is deprecated and will be removed in a future version.\n",
      "Instructions for updating:\n",
      "If using Keras pass *_constraint arguments to layers.\n"
     ]
    }
   ],
   "source": [
    "from keras import models\n",
    "from keras import layers\n",
    "network = models.Sequential()\n",
    "network.add(layers.Dense(512, activation='relu', input_shape=(28 * 28,))) \n",
    "network.add(layers.Dense(10, activation='softmax'))"
   ]
  },
  {
   "cell_type": "markdown",
   "metadata": {},
   "source": [
    "this network consists of a chain of two Dense layers,"
   ]
  },
  {
   "cell_type": "code",
   "execution_count": 52,
   "metadata": {},
   "outputs": [],
   "source": [
    "network.compile(optimizer='rmsprop', loss='categorical_crossentropy',\n",
    "                        metrics=['accuracy'])"
   ]
  },
  {
   "cell_type": "code",
   "execution_count": 55,
   "metadata": {},
   "outputs": [],
   "source": [
    "from keras.utils import to_categorical\n",
    "\n",
    "train_labels = to_categorical(train_labels)\n",
    "test_labels = to_categorical(test_labels)"
   ]
  },
  {
   "cell_type": "code",
   "execution_count": 56,
   "metadata": {},
   "outputs": [
    {
     "name": "stdout",
     "output_type": "stream",
     "text": [
      "WARNING:tensorflow:From /Users/apple/PycharmProjects/PRACTICE/venv/lib/python3.7/site-packages/keras/backend/tensorflow_backend.py:422: The name tf.global_variables is deprecated. Please use tf.compat.v1.global_variables instead.\n",
      "\n",
      "Epoch 1/5\n",
      "60000/60000 [==============================] - 5s 84us/step - loss: 0.2547 - accuracy: 0.9268\n",
      "Epoch 2/5\n",
      "60000/60000 [==============================] - 4s 71us/step - loss: 0.1032 - accuracy: 0.9694\n",
      "Epoch 3/5\n",
      "60000/60000 [==============================] - 4s 75us/step - loss: 0.0680 - accuracy: 0.9797\n",
      "Epoch 4/5\n",
      "60000/60000 [==============================] - 5s 75us/step - loss: 0.0490 - accuracy: 0.9853\n",
      "Epoch 5/5\n",
      "60000/60000 [==============================] - 4s 74us/step - loss: 0.0373 - accuracy: 0.9888\n"
     ]
    },
    {
     "data": {
      "text/plain": [
       "<keras.callbacks.callbacks.History at 0x14d68d518>"
      ]
     },
     "execution_count": 56,
     "metadata": {},
     "output_type": "execute_result"
    }
   ],
   "source": [
    "network.fit(train_images, train_labels, epochs=5, batch_size=128)"
   ]
  },
  {
   "cell_type": "code",
   "execution_count": 57,
   "metadata": {},
   "outputs": [
    {
     "name": "stdout",
     "output_type": "stream",
     "text": [
      "10000/10000 [==============================] - 1s 82us/step\n"
     ]
    }
   ],
   "source": [
    "test_loss, test_acc = network.evaluate(test_images, test_labels)"
   ]
  },
  {
   "cell_type": "code",
   "execution_count": 58,
   "metadata": {},
   "outputs": [
    {
     "name": "stdout",
     "output_type": "stream",
     "text": [
      "test_acc: 0.9794999957084656\n"
     ]
    }
   ],
   "source": [
    "print('test_acc:', test_acc)"
   ]
  },
  {
   "cell_type": "markdown",
   "metadata": {},
   "source": [
    "## Convolution: 1D operation with Python (Numpy/Scipy)"
   ]
  },
  {
   "cell_type": "code",
   "execution_count": 72,
   "metadata": {},
   "outputs": [
    {
     "data": {
      "text/plain": [
       "array([ 6, 11, 14,  5,  0])"
      ]
     },
     "execution_count": 72,
     "metadata": {},
     "output_type": "execute_result"
    }
   ],
   "source": [
    "import numpy as np\n",
    "\n",
    "h = [2, 1, 0]\n",
    "x = [3, 4, 5]\n",
    " \n",
    "\n",
    "y = np.convolve(x, h)\n",
    "y  "
   ]
  },
  {
   "cell_type": "code",
   "execution_count": 73,
   "metadata": {},
   "outputs": [
    {
     "data": {
      "text/plain": [
       "array([14, 34, 34])"
      ]
     },
     "execution_count": 73,
     "metadata": {},
     "output_type": "execute_result"
    }
   ],
   "source": [
    "import numpy as np\n",
    "\n",
    "x = [6, 2]\n",
    "h = [1, 2, 5, 4]\n",
    "\n",
    "y = np.convolve(x, h, \"valid\")   # valid returns output of length max(x, h) - min(x, h) + 1, this is to ensure that values outside of the boundary of \n",
    "                                # h will not be used in the calculation of the convolution\n",
    "                                # in the next example we will understand why we used the argument valid\n",
    "y  "
   ]
  },
  {
   "cell_type": "markdown",
   "metadata": {},
   "source": [
    "Suppose that you have two tensors:\n",
    "\n",
    "3x3 filter (4D tensor = [3,3,1,1] = [width, height, channels, number of filters])\n",
    "10x10 image (4D tensor = [1,10,10,1] = [batch size, width, height, number of channels]\n",
    "The output size for zero padding 'SAME' mode will be:\n",
    "\n",
    "the same as input = 10x10\n",
    "The output size without zero padding 'VALID' mode:\n",
    "\n",
    "input size - kernel dimension + 1 = 10 -3 + 1 = 8 = 8x8"
   ]
  },
  {
   "cell_type": "code",
   "execution_count": 74,
   "metadata": {},
   "outputs": [
    {
     "name": "stdout",
     "output_type": "stream",
     "text": [
      "Input \n",
      "\n",
      "[[[[ 2.0113473e+00]\n",
      "   [-8.7337714e-01]\n",
      "   [ 3.5516679e-01]\n",
      "   [-1.1977479e+00]\n",
      "   [ 4.4119868e-01]\n",
      "   [ 2.1245193e+00]\n",
      "   [ 9.4798493e-01]\n",
      "   [ 4.5947332e-02]\n",
      "   [-1.6768193e+00]\n",
      "   [ 2.1280303e+00]]\n",
      "\n",
      "  [[-5.1104343e-01]\n",
      "   [-1.9291254e+00]\n",
      "   [ 1.3715962e-01]\n",
      "   [-3.2772348e+00]\n",
      "   [-1.3739942e+00]\n",
      "   [-8.8046831e-01]\n",
      "   [ 9.9437600e-01]\n",
      "   [ 4.4972238e-01]\n",
      "   [ 7.7993602e-01]\n",
      "   [-8.0588245e-01]]\n",
      "\n",
      "  [[ 8.9846805e-02]\n",
      "   [-1.1043116e+00]\n",
      "   [ 1.1253356e-01]\n",
      "   [ 1.8160851e+00]\n",
      "   [ 9.0592343e-01]\n",
      "   [-6.4272648e-01]\n",
      "   [-1.5499758e+00]\n",
      "   [-6.3216960e-01]\n",
      "   [-1.3328141e+00]\n",
      "   [-1.7601816e-01]]\n",
      "\n",
      "  [[ 3.0196819e-01]\n",
      "   [ 1.4577079e+00]\n",
      "   [ 2.2674613e+00]\n",
      "   [-6.6198575e-01]\n",
      "   [-3.2374775e-01]\n",
      "   [-2.9469353e-01]\n",
      "   [-3.0965242e-01]\n",
      "   [ 2.3285204e-01]\n",
      "   [-1.2765939e+00]\n",
      "   [-1.0166169e+00]]\n",
      "\n",
      "  [[ 3.1901779e+00]\n",
      "   [-1.2396575e+00]\n",
      "   [-4.5478813e-02]\n",
      "   [ 8.4976095e-01]\n",
      "   [ 1.8558311e+00]\n",
      "   [-5.4555196e-01]\n",
      "   [ 4.1970067e-02]\n",
      "   [-6.2908435e-01]\n",
      "   [-2.9677531e-01]\n",
      "   [ 1.0492042e+00]]\n",
      "\n",
      "  [[-1.4999063e-03]\n",
      "   [ 7.5565809e-01]\n",
      "   [-2.5115329e-01]\n",
      "   [-2.9012936e-01]\n",
      "   [-8.6378247e-01]\n",
      "   [-1.9601549e+00]\n",
      "   [-6.3578701e-01]\n",
      "   [-7.0296174e-01]\n",
      "   [ 9.7493058e-01]\n",
      "   [ 2.6176935e-01]]\n",
      "\n",
      "  [[-1.9761539e+00]\n",
      "   [-2.2959077e-01]\n",
      "   [-6.2064791e-01]\n",
      "   [-1.4611254e+00]\n",
      "   [ 9.5323288e-01]\n",
      "   [-7.2717875e-02]\n",
      "   [ 2.8522521e-01]\n",
      "   [ 2.4091353e+00]\n",
      "   [-8.2656777e-01]\n",
      "   [ 6.8022931e-01]]\n",
      "\n",
      "  [[-2.8890935e-01]\n",
      "   [ 3.8461187e-01]\n",
      "   [-1.1366181e+00]\n",
      "   [-7.2387952e-01]\n",
      "   [ 7.8660727e-01]\n",
      "   [-1.8718594e+00]\n",
      "   [-2.4492724e-02]\n",
      "   [ 4.9306807e-01]\n",
      "   [-1.1178185e+00]\n",
      "   [ 1.2606281e+00]]\n",
      "\n",
      "  [[ 2.6332766e-01]\n",
      "   [-8.5990489e-01]\n",
      "   [ 5.7417005e-01]\n",
      "   [-8.1584793e-01]\n",
      "   [-7.9017758e-01]\n",
      "   [-1.0076923e+00]\n",
      "   [-1.3153001e+00]\n",
      "   [-7.7978963e-01]\n",
      "   [-4.6912453e-01]\n",
      "   [ 1.0460762e+00]]\n",
      "\n",
      "  [[ 5.1583737e-01]\n",
      "   [ 1.0037295e+00]\n",
      "   [ 1.2630142e+00]\n",
      "   [ 6.4150095e-01]\n",
      "   [ 2.8790900e-02]\n",
      "   [ 6.1765283e-01]\n",
      "   [ 1.2642251e+00]\n",
      "   [ 2.5639573e-01]\n",
      "   [ 2.1163096e+00]\n",
      "   [ 3.3519033e-01]]]] \n",
      "\n",
      "Filter/Kernel \n",
      "\n",
      "[[[[-0.30639175]]\n",
      "\n",
      "  [[-0.9880707 ]]\n",
      "\n",
      "  [[-0.90476143]]]\n",
      "\n",
      "\n",
      " [[[ 0.2907516 ]]\n",
      "\n",
      "  [[-0.7364426 ]]\n",
      "\n",
      "  [[-0.74274915]]]\n",
      "\n",
      "\n",
      " [[[-0.29422668]]\n",
      "\n",
      "  [[-0.46487743]]\n",
      "\n",
      "  [[ 0.7983489 ]]]] \n",
      "\n",
      "Result/Feature Map with valid positions \n",
      "\n",
      "[[[[ 1.6723605e+00]\n",
      "   [ 4.4950719e+00]\n",
      "   [ 3.9952433e+00]\n",
      "   [-2.7467687e+00]\n",
      "   [-4.7868829e+00]\n",
      "   [-2.5465477e+00]\n",
      "   [ 2.4576724e-01]\n",
      "   [ 5.3739882e-01]]\n",
      "\n",
      "  [[ 3.7381186e+00]\n",
      "   [-3.4367377e-01]\n",
      "   [ 1.8437860e+00]\n",
      "   [ 3.6065969e+00]\n",
      "   [ 2.2642860e+00]\n",
      "   [ 7.2105503e-01]\n",
      "   [-1.4861439e+00]\n",
      "   [ 4.6251568e-01]]\n",
      "\n",
      "  [[-2.1067367e+00]\n",
      "   [-1.1060097e+00]\n",
      "   [-1.6135132e-01]\n",
      "   [-2.1535013e+00]\n",
      "   [ 1.8538253e+00]\n",
      "   [ 1.9085585e+00]\n",
      "   [ 3.0352499e+00]\n",
      "   [ 4.5934811e+00]]\n",
      "\n",
      "  [[-2.2614400e+00]\n",
      "   [-3.3834054e+00]\n",
      "   [-2.2459977e+00]\n",
      "   [-1.0030663e+00]\n",
      "   [ 2.2385135e+00]\n",
      "   [ 7.7438200e-01]\n",
      "   [ 3.0079219e+00]\n",
      "   [ 1.3287622e+00]]\n",
      "\n",
      "  [[ 1.1085667e-01]\n",
      "   [-5.3432256e-01]\n",
      "   [-9.9692173e-02]\n",
      "   [ 3.3592758e-01]\n",
      "   [ 1.5781330e+00]\n",
      "   [ 2.9274127e+00]\n",
      "   [-1.3778256e+00]\n",
      "   [-1.3616138e+00]]\n",
      "\n",
      "  [[-1.4646646e+00]\n",
      "   [ 1.5920116e+00]\n",
      "   [ 2.6316302e+00]\n",
      "   [-4.0589571e-03]\n",
      "   [ 3.5147092e+00]\n",
      "   [ 7.9998988e-01]\n",
      "   [-2.1844504e+00]\n",
      "   [ 1.2001784e+00]]\n",
      "\n",
      "  [[ 2.6515048e+00]\n",
      "   [ 2.8268573e+00]\n",
      "   [-3.0725744e-02]\n",
      "   [-2.4940832e-02]\n",
      "   [ 7.9801965e-01]\n",
      "   [-3.0462706e+00]\n",
      "   [-8.8494116e-01]\n",
      "   [ 7.7601612e-01]]\n",
      "\n",
      "  [[ 1.4101750e+00]\n",
      "   [ 1.2229346e+00]\n",
      "   [ 1.0596259e+00]\n",
      "   [ 2.5222988e+00]\n",
      "   [ 3.8336685e+00]\n",
      "   [ 8.4171039e-01]\n",
      "   [ 2.2703559e+00]\n",
      "   [-1.6370342e+00]]]]\n",
      "\n",
      "\n",
      "Result/Feature Map with padding \n",
      "\n",
      "[[[[-2.1350844e+00]\n",
      "   [ 2.1208653e+00]\n",
      "   [-1.7384086e+00]\n",
      "   [ 1.0438677e+00]\n",
      "   [-1.3510817e+00]\n",
      "   [-5.3298783e-01]\n",
      "   [ 4.1273233e-02]\n",
      "   [ 1.6082700e+00]\n",
      "   [-1.4706225e+00]\n",
      "   [-1.9095515e+00]]\n",
      "\n",
      "  [[-3.1133860e-01]\n",
      "   [ 1.6723605e+00]\n",
      "   [ 4.4950719e+00]\n",
      "   [ 3.9952433e+00]\n",
      "   [-2.7467687e+00]\n",
      "   [-4.7868829e+00]\n",
      "   [-2.5465477e+00]\n",
      "   [ 2.4576724e-01]\n",
      "   [ 5.3739882e-01]\n",
      "   [-2.9465055e-01]]\n",
      "\n",
      "  [[ 4.0277863e+00]\n",
      "   [ 3.7381186e+00]\n",
      "   [-3.4367377e-01]\n",
      "   [ 1.8437860e+00]\n",
      "   [ 3.6065969e+00]\n",
      "   [ 2.2642860e+00]\n",
      "   [ 7.2105503e-01]\n",
      "   [-1.4861439e+00]\n",
      "   [ 4.6251568e-01]\n",
      "   [ 1.1476226e+00]]\n",
      "\n",
      "  [[-2.8674510e+00]\n",
      "   [-2.1067367e+00]\n",
      "   [-1.1060097e+00]\n",
      "   [-1.6135132e-01]\n",
      "   [-2.1535013e+00]\n",
      "   [ 1.8538253e+00]\n",
      "   [ 1.9085585e+00]\n",
      "   [ 3.0352499e+00]\n",
      "   [ 4.5934811e+00]\n",
      "   [ 5.5935788e-01]]\n",
      "\n",
      "  [[-2.4418960e+00]\n",
      "   [-2.2614400e+00]\n",
      "   [-3.3834054e+00]\n",
      "   [-2.2459977e+00]\n",
      "   [-1.0030663e+00]\n",
      "   [ 2.2385135e+00]\n",
      "   [ 7.7438200e-01]\n",
      "   [ 3.0079219e+00]\n",
      "   [ 1.3287622e+00]\n",
      "   [ 1.2811935e-01]]\n",
      "\n",
      "  [[-1.8553113e+00]\n",
      "   [ 1.1085667e-01]\n",
      "   [-5.3432256e-01]\n",
      "   [-9.9692173e-02]\n",
      "   [ 3.3592758e-01]\n",
      "   [ 1.5781330e+00]\n",
      "   [ 2.9274127e+00]\n",
      "   [-1.3778256e+00]\n",
      "   [-1.3616138e+00]\n",
      "   [-9.2809892e-01]]\n",
      "\n",
      "  [[ 1.3850060e+00]\n",
      "   [-1.4646646e+00]\n",
      "   [ 1.5920116e+00]\n",
      "   [ 2.6316302e+00]\n",
      "   [-4.0589571e-03]\n",
      "   [ 3.5147092e+00]\n",
      "   [ 7.9998988e-01]\n",
      "   [-2.1844504e+00]\n",
      "   [ 1.2001784e+00]\n",
      "   [-1.5557785e+00]]\n",
      "\n",
      "  [[ 1.2784804e+00]\n",
      "   [ 2.6515048e+00]\n",
      "   [ 2.8268573e+00]\n",
      "   [-3.0725744e-02]\n",
      "   [-2.4940832e-02]\n",
      "   [ 7.9801965e-01]\n",
      "   [-3.0462706e+00]\n",
      "   [-8.8494116e-01]\n",
      "   [ 7.7601612e-01]\n",
      "   [-2.0205171e+00]]\n",
      "\n",
      "  [[ 9.4377393e-01]\n",
      "   [ 1.4101750e+00]\n",
      "   [ 1.2229346e+00]\n",
      "   [ 1.0596259e+00]\n",
      "   [ 2.5222988e+00]\n",
      "   [ 3.8336685e+00]\n",
      "   [ 8.4171039e-01]\n",
      "   [ 2.2703559e+00]\n",
      "   [-1.6370342e+00]\n",
      "   [-2.5883703e+00]]\n",
      "\n",
      "  [[-6.0758150e-01]\n",
      "   [-1.2778329e+00]\n",
      "   [-6.8048096e-01]\n",
      "   [ 1.2185271e+00]\n",
      "   [ 1.6489952e+00]\n",
      "   [ 1.0423110e+00]\n",
      "   [ 1.3719983e+00]\n",
      "   [ 2.0479780e-01]\n",
      "   [-1.9769557e+00]\n",
      "   [-5.2138937e-01]]]]\n"
     ]
    }
   ],
   "source": [
    "import tensorflow as tf\n",
    "\n",
    "#Building graph\n",
    "\n",
    "input = tf.Variable(tf.random_normal([1, 10, 10, 1]))\n",
    "filter = tf.Variable(tf.random_normal([3, 3, 1, 1]))\n",
    "op = tf.nn.conv2d(input, filter, strides=[1, 1, 1, 1], padding='VALID')\n",
    "op2 = tf.nn.conv2d(input, filter, strides=[1, 1, 1, 1], padding='SAME')\n",
    "\n",
    "#Initialization and session\n",
    "init = tf.global_variables_initializer()\n",
    "with tf.Session() as sess:\n",
    "    sess.run(init)\n",
    "\n",
    "    print(\"Input \\n\")\n",
    "    print('{0} \\n'.format(input.eval()))\n",
    "    print(\"Filter/Kernel \\n\")\n",
    "    print('{0} \\n'.format(filter.eval()))\n",
    "    print(\"Result/Feature Map with valid positions \\n\")\n",
    "    result = sess.run(op)\n",
    "    print(result)\n",
    "    print('\\n')\n",
    "    print(\"Result/Feature Map with padding \\n\")\n",
    "    result2 = sess.run(op2)\n",
    "    print(result2)"
   ]
  },
  {
   "cell_type": "markdown",
   "metadata": {},
   "source": [
    "## Preparing the IMDB data"
   ]
  },
  {
   "cell_type": "code",
   "execution_count": 75,
   "metadata": {},
   "outputs": [
    {
     "name": "stdout",
     "output_type": "stream",
     "text": [
      "Loading data...\n",
      "Downloading data from https://s3.amazonaws.com/text-datasets/imdb.npz\n",
      "17465344/17464789 [==============================] - 5s 0us/step\n",
      "25000 train sequences\n",
      "25000 test sequences\n",
      "Pad sequences (samples x time)\n",
      "x_train shape: (25000, 500)\n",
      "x_test shape: (25000, 500)\n"
     ]
    }
   ],
   "source": [
    "from keras.datasets import imdb\n",
    "from keras.preprocessing import sequence\n",
    "max_features = 10000\n",
    "max_len = 500\n",
    "print('Loading data...')\n",
    "(x_train, y_train), (x_test, y_test) = imdb.load_data(num_words=max_features) \n",
    "print(len(x_train), 'train sequences')\n",
    "print(len(x_test), 'test sequences')\n",
    "print('Pad sequences (samples x time)')\n",
    "x_train = sequence.pad_sequences(x_train, maxlen=max_len)\n",
    "#sequence.pad_sequences make them as the same length\n",
    "x_test = sequence.pad_sequences(x_test, maxlen=max_len) \n",
    "print('x_train shape:', x_train.shape)\n",
    "print('x_test shape:', x_test.shape)\n"
   ]
  },
  {
   "cell_type": "code",
   "execution_count": 77,
   "metadata": {},
   "outputs": [
    {
     "name": "stdout",
     "output_type": "stream",
     "text": [
      "WARNING:tensorflow:From /Users/apple/PycharmProjects/PRACTICE/venv/lib/python3.7/site-packages/keras/backend/tensorflow_backend.py:4070: The name tf.nn.max_pool is deprecated. Please use tf.nn.max_pool2d instead.\n",
      "\n",
      "Model: \"sequential_2\"\n",
      "_________________________________________________________________\n",
      "Layer (type)                 Output Shape              Param #   \n",
      "=================================================================\n",
      "embedding_1 (Embedding)      (None, 500, 128)          1280000   \n",
      "_________________________________________________________________\n",
      "conv1d_1 (Conv1D)            (None, 494, 32)           28704     \n",
      "_________________________________________________________________\n",
      "max_pooling1d_1 (MaxPooling1 (None, 98, 32)            0         \n",
      "_________________________________________________________________\n",
      "conv1d_2 (Conv1D)            (None, 92, 32)            7200      \n",
      "_________________________________________________________________\n",
      "global_max_pooling1d_1 (Glob (None, 32)                0         \n",
      "_________________________________________________________________\n",
      "dense_3 (Dense)              (None, 1)                 33        \n",
      "=================================================================\n",
      "Total params: 1,315,937\n",
      "Trainable params: 1,315,937\n",
      "Non-trainable params: 0\n",
      "_________________________________________________________________\n"
     ]
    }
   ],
   "source": [
    "from keras.models import Sequential \n",
    "from keras import layers\n",
    "from keras.optimizers import RMSprop\n",
    "model = Sequential()\n",
    "model.add(layers.Embedding(max_features, 128, input_length=max_len)) \n",
    "model.add(layers.Conv1D(32, 7, activation='relu')) \n",
    "model.add(layers.MaxPooling1D(5))\n",
    "model.add(layers.Conv1D(32, 7, activation='relu')) \n",
    "model.add(layers.GlobalMaxPooling1D())\n",
    "model.add(layers.Dense(1))\n",
    "model.summary()\n"
   ]
  },
  {
   "cell_type": "code",
   "execution_count": 78,
   "metadata": {},
   "outputs": [
    {
     "name": "stdout",
     "output_type": "stream",
     "text": [
      "WARNING:tensorflow:From /Users/apple/PycharmProjects/PRACTICE/venv/lib/python3.7/site-packages/tensorflow_core/python/ops/math_grad.py:1424: where (from tensorflow.python.ops.array_ops) is deprecated and will be removed in a future version.\n",
      "Instructions for updating:\n",
      "Use tf.where in 2.0, which has the same broadcast rule as np.where\n",
      "WARNING:tensorflow:From /Users/apple/PycharmProjects/PRACTICE/venv/lib/python3.7/site-packages/keras/backend/tensorflow_backend.py:431: The name tf.is_variable_initialized is deprecated. Please use tf.compat.v1.is_variable_initialized instead.\n",
      "\n",
      "WARNING:tensorflow:From /Users/apple/PycharmProjects/PRACTICE/venv/lib/python3.7/site-packages/keras/backend/tensorflow_backend.py:438: The name tf.variables_initializer is deprecated. Please use tf.compat.v1.variables_initializer instead.\n",
      "\n",
      "Train on 20000 samples, validate on 5000 samples\n",
      "Epoch 1/10\n",
      "20000/20000 [==============================] - 57s 3ms/step - loss: 0.8335 - acc: 0.5089 - val_loss: 0.6879 - val_acc: 0.5442\n",
      "Epoch 2/10\n",
      "20000/20000 [==============================] - 56s 3ms/step - loss: 0.6718 - acc: 0.6488 - val_loss: 0.6651 - val_acc: 0.6700\n",
      "Epoch 3/10\n",
      "20000/20000 [==============================] - 58s 3ms/step - loss: 0.6285 - acc: 0.7466 - val_loss: 0.6122 - val_acc: 0.7466\n",
      "Epoch 4/10\n",
      "20000/20000 [==============================] - 56s 3ms/step - loss: 0.5410 - acc: 0.8062 - val_loss: 0.4992 - val_acc: 0.8062\n",
      "Epoch 5/10\n",
      "20000/20000 [==============================] - 51s 3ms/step - loss: 0.4150 - acc: 0.8454 - val_loss: 0.4194 - val_acc: 0.8306\n",
      "Epoch 6/10\n",
      "20000/20000 [==============================] - 52s 3ms/step - loss: 0.3481 - acc: 0.8682 - val_loss: 0.4164 - val_acc: 0.8278\n",
      "Epoch 7/10\n",
      "20000/20000 [==============================] - 52s 3ms/step - loss: 0.3121 - acc: 0.8612 - val_loss: 0.4100 - val_acc: 0.8236\n",
      "Epoch 8/10\n",
      "20000/20000 [==============================] - 57s 3ms/step - loss: 0.2796 - acc: 0.8490 - val_loss: 0.4038 - val_acc: 0.8074\n",
      "Epoch 9/10\n",
      "20000/20000 [==============================] - 65s 3ms/step - loss: 0.2553 - acc: 0.8229 - val_loss: 0.4309 - val_acc: 0.7848\n",
      "Epoch 10/10\n",
      "20000/20000 [==============================] - 52s 3ms/step - loss: 0.2336 - acc: 0.8027 - val_loss: 0.4456 - val_acc: 0.7552\n"
     ]
    }
   ],
   "source": [
    "model.compile(optimizer=RMSprop(lr=1e-4), loss='binary_crossentropy',\n",
    "metrics=['acc']) \n",
    "history = model.fit(x_train, y_train,\n",
    "epochs=10, batch_size=128, validation_split=0.2)"
   ]
  },
  {
   "cell_type": "code",
   "execution_count": 83,
   "metadata": {},
   "outputs": [
    {
     "data": {
      "text/plain": [
       "dict_keys(['val_loss', 'val_acc', 'loss', 'acc'])"
      ]
     },
     "execution_count": 83,
     "metadata": {},
     "output_type": "execute_result"
    }
   ],
   "source": [
    "history_dict = history.history\n",
    "val_loss_values, history_dict.keys()"
   ]
  },
  {
   "cell_type": "markdown",
   "metadata": {},
   "source": [
    "this is a convincing demonstration that a 1D convnet can offer a fast, cheap alternative to a recurrent network on a word-level sentiment-classification task."
   ]
  },
  {
   "cell_type": "code",
   "execution_count": 86,
   "metadata": {},
   "outputs": [
    {
     "data": {
      "image/png": "[encoded data removed]",
      "text/plain": [
       "<Figure size 432x288 with 1 Axes>"
      ]
     },
     "metadata": {
      "needs_background": "light"
     },
     "output_type": "display_data"
    }
   ],
   "source": [
    "import matplotlib.pyplot as plt\n",
    "history_dict = history.history\n",
    "loss_values = history_dict['loss'] \n",
    "val_loss_values = history_dict['val_loss']\n",
    "epochs = range(1, 11)\n",
    "plt.plot(epochs, loss_values, 'bo', label='Training loss') \n",
    "plt.plot(epochs, val_loss_values, 'b', label='Validation loss')\n",
    "\n",
    "plt.title('Training and validation loss') \n",
    "plt.xlabel('Epochs')\n",
    "plt.ylabel('Loss')\n",
    "plt.legend()\n",
    "\n",
    "plt.show()"
   ]
  },
  {
   "cell_type": "code",
   "execution_count": 89,
   "metadata": {},
   "outputs": [
    {
     "data": {
      "image/png": "[encoded data removed]",
      "text/plain": [
       "<Figure size 432x288 with 1 Axes>"
      ]
     },
     "metadata": {
      "needs_background": "light"
     },
     "output_type": "display_data"
    }
   ],
   "source": [
    "acc = history.history['acc']\n",
    "val_acc = history.history['val_acc']\n",
    "plt.clf() \n",
    "val_acc_values = history_dict['val_acc']\n",
    "plt.plot(epochs, acc, 'bo', label='Training acc') \n",
    "plt.plot(epochs, val_acc, 'b', label='Validation acc') \n",
    "plt.title('Training and validation accuracy') \n",
    "plt.xlabel('Epochs')\n",
    "plt.ylabel('Loss') \n",
    "plt.legend()\n",
    "plt.show()"
   ]
  },
  {
   "cell_type": "markdown",
   "metadata": {},
   "source": [
    "## boston_housing PREDICTION"
   ]
  },
  {
   "cell_type": "code",
   "execution_count": 90,
   "metadata": {},
   "outputs": [
    {
     "name": "stdout",
     "output_type": "stream",
     "text": [
      "Downloading data from https://s3.amazonaws.com/keras-datasets/boston_housing.npz\n",
      "57344/57026 [==============================] - 0s 6us/step\n"
     ]
    }
   ],
   "source": [
    "from keras.datasets import boston_housing\n",
    "(x_train,y_train),(x_test,y_test)=boston_housing.load_data()"
   ]
  },
  {
   "cell_type": "code",
   "execution_count": 91,
   "metadata": {},
   "outputs": [
    {
     "name": "stdout",
     "output_type": "stream",
     "text": [
      "(404, 13)\n",
      "(404,)\n",
      "(102, 13)\n",
      "(102,)\n"
     ]
    }
   ],
   "source": [
    "print(x_train.shape)\n",
    "print(y_train.shape)\n",
    "print(x_test.shape)\n",
    "print(y_test.shape)"
   ]
  },
  {
   "cell_type": "markdown",
   "metadata": {},
   "source": [
    "## Normalizing the data "
   ]
  },
  {
   "cell_type": "code",
   "execution_count": 97,
   "metadata": {},
   "outputs": [],
   "source": [
    "from sklearn import preprocessing\n",
    "std_scale = preprocessing.StandardScaler()\n",
    "x_train = std_scale.fit(x_train).transform(x_train)\n",
    "x_test=std_scale.fit(x_test).transform(x_test)"
   ]
  },
  {
   "cell_type": "markdown",
   "metadata": {},
   "source": [
    "## Model Definition"
   ]
  },
  {
   "cell_type": "code",
   "execution_count": 104,
   "metadata": {},
   "outputs": [],
   "source": [
    "from keras import models\n",
    "from keras import layers\n",
    "\n",
    "def build_model():\n",
    "    model=models.Sequential()\n",
    "    model.add(layers.Dense(64,activation='relu',\n",
    "                          input_shape=(x_train.shape[1],)))\n",
    "    model.add(layers.Dense(64,activation='relu'))\n",
    "    model.add(layers.Dense(1))\n",
    "    model.compile(optimizer='rmsprop',loss='mse',metrics=['mae'])\n",
    "    return model"
   ]
  },
  {
   "cell_type": "markdown",
   "metadata": {},
   "source": [
    "mse--This is a widely used loss function for regression problems."
   ]
  },
  {
   "cell_type": "markdown",
   "metadata": {},
   "source": [
    "mean absolute error (MAE) For instance, an MAE of 0.5 on this problem would mean your predictions are off by $500 on average.\n"
   ]
  },
  {
   "cell_type": "markdown",
   "metadata": {},
   "source": [
    "## K-fold validation and save the history"
   ]
  },
  {
   "cell_type": "code",
   "execution_count": 126,
   "metadata": {},
   "outputs": [],
   "source": [
    "import numpy as np\n",
    "k=4\n",
    "num_val_sample=len(x_train)//k\n",
    "num_epoch=200\n",
    "all_scores=[]\n",
    "all_mae_histories = []"
   ]
  },
  {
   "cell_type": "code",
   "execution_count": 118,
   "metadata": {},
   "outputs": [
    {
     "data": {
      "text/plain": [
       "{'val_loss': [27.060620573268615,\n",
       "  18.375446055463104,\n",
       "  17.47179553545274,\n",
       "  12.92282616610882,\n",
       "  12.183775711544135,\n",
       "  11.583727755843164,\n",
       "  11.810370877537862,\n",
       "  9.617572139455282,\n",
       "  9.403632094768351,\n",
       "  13.946130077498832,\n",
       "  9.517087389658537,\n",
       "  11.100921646143208,\n",
       "  10.090863648124657,\n",
       "  8.108117003169706,\n",
       "  8.256423112367424,\n",
       "  9.523598672471719,\n",
       "  8.877192688893786,\n",
       "  8.03749521078826,\n",
       "  8.786250181680563,\n",
       "  11.296186905287408],\n",
       " 'val_mae': [3.206486463546753,\n",
       "  2.7781951427459717,\n",
       "  3.034677028656006,\n",
       "  2.3371312618255615,\n",
       "  2.293325185775757,\n",
       "  2.158959150314331,\n",
       "  2.2043633460998535,\n",
       "  2.018859624862671,\n",
       "  2.094975709915161,\n",
       "  2.941922426223755,\n",
       "  2.2304093837738037,\n",
       "  2.2602739334106445,\n",
       "  2.1253161430358887,\n",
       "  1.9039078950881958,\n",
       "  1.9963642358779907,\n",
       "  2.4057443141937256,\n",
       "  2.2560055255889893,\n",
       "  1.9079103469848633,\n",
       "  2.203082799911499,\n",
       "  2.7751288414001465],\n",
       " 'loss': [181.18791875294824,\n",
       "  25.40688084916726,\n",
       "  18.847433053951296,\n",
       "  17.01862559750332,\n",
       "  15.724620326766862,\n",
       "  14.599842328841705,\n",
       "  13.45488842761931,\n",
       "  12.924371843306746,\n",
       "  12.296125089413826,\n",
       "  11.70739375165839,\n",
       "  11.078668269360374,\n",
       "  11.00321569507151,\n",
       "  10.879373841587674,\n",
       "  10.485817314956833,\n",
       "  10.539278148887863,\n",
       "  10.308995187469048,\n",
       "  9.721611616633453,\n",
       "  9.529837430924438,\n",
       "  9.68687878384601,\n",
       "  8.981466644863705],\n",
       " 'mae': [9.848575,\n",
       "  3.48037,\n",
       "  2.9424405,\n",
       "  2.838936,\n",
       "  2.6014876,\n",
       "  2.497954,\n",
       "  2.465649,\n",
       "  2.4296117,\n",
       "  2.3654096,\n",
       "  2.2915647,\n",
       "  2.2653997,\n",
       "  2.240965,\n",
       "  2.151931,\n",
       "  2.24758,\n",
       "  2.2119408,\n",
       "  2.0928798,\n",
       "  2.1448524,\n",
       "  2.0882006,\n",
       "  2.1008935,\n",
       "  2.0331824]}"
      ]
     },
     "execution_count": 118,
     "metadata": {},
     "output_type": "execute_result"
    }
   ],
   "source": [
    "import matplotlib.pyplot as plt\n",
    "history_dict = history.history\n",
    "history_dict"
   ]
  },
  {
   "cell_type": "code",
   "execution_count": 127,
   "metadata": {},
   "outputs": [
    {
     "name": "stdout",
     "output_type": "stream",
     "text": [
      "processing fold # 0\n",
      "processing fold # 1\n",
      "processing fold # 2\n",
      "processing fold # 3\n"
     ]
    }
   ],
   "source": [
    "for i in range(k):\n",
    "    print('processing fold #',i)\n",
    "    val_data=x_train[i*num_val_sample:(i+1)*num_val_sample]\n",
    "    val_target=y_train[i*num_val_sample:(i+1)*num_val_sample]\n",
    "    \n",
    "    partial_train_data=np.concatenate([\n",
    "    x_train[:i*num_val_sample],\n",
    "    x_train[(i+1)*num_val_sample:]],axis=0)\n",
    "    partial_train_target=np.concatenate([\n",
    "    y_train[:i*num_val_sample],\n",
    "    y_train[(i+1)*num_val_sample:]],axis=0)\n",
    "    model=build_model()\n",
    "    history = model.fit(partial_train_data, partial_train_target,\n",
    "validation_data=(val_data, val_target),\n",
    "epochs=num_epoch, batch_size=1, verbose=0)\n",
    "    \n",
    "    mae_history=history.history['mae']\n",
    "    \n",
    "    val_mse, val_mae = model.evaluate(val_data, val_target, verbose=0)\n",
    "    all_scores.append(val_mae)\n",
    "    all_mae_histories.append(mae_history)\n"
   ]
  },
  {
   "cell_type": "code",
   "execution_count": 128,
   "metadata": {},
   "outputs": [
    {
     "data": {
      "image/png": "[encoded data removed]",
      "text/plain": [
       "<Figure size 432x288 with 1 Axes>"
      ]
     },
     "metadata": {
      "needs_background": "light"
     },
     "output_type": "display_data"
    }
   ],
   "source": [
    "average_mae_history = [\n",
    "np.mean([x[i] for x in all_mae_histories]) for i in range(num_epoch)]\n",
    "\n",
    "import matplotlib.pyplot as plt\n",
    "\n",
    "plt.plot(range(1, len(average_mae_history) + 1), average_mae_history) \n",
    "plt.xlabel('Epochs')\n",
    "plt.ylabel('Validation MAE')\n",
    "plt.show()"
   ]
  },
  {
   "cell_type": "markdown",
   "metadata": {},
   "source": [
    "Replace each point with an exponential moving average of the previous points,\n",
    "to obtain a smooth curve."
   ]
  },
  {
   "cell_type": "code",
   "execution_count": 130,
   "metadata": {},
   "outputs": [
    {
     "data": {
      "image/png": "[encoded data removed]",
      "text/plain": [
       "<Figure size 432x288 with 1 Axes>"
      ]
     },
     "metadata": {
      "needs_background": "light"
     },
     "output_type": "display_data"
    }
   ],
   "source": [
    "def smooth_curve(points, factor=0.9):\n",
    "    smoothed_points = []\n",
    "    for point in points:\n",
    "        if smoothed_points:\n",
    "            previous = smoothed_points[-1]\n",
    "            smoothed_points.append(previous * factor + point * (1 - factor))\n",
    "        else: \n",
    "            smoothed_points.append(point)\n",
    "    return smoothed_points\n",
    "smooth_mae_history = smooth_curve(average_mae_history[10:])\n",
    "# exclude the first 10 point\n",
    "\n",
    "plt.plot(range(1, len(smooth_mae_history) + 1), smooth_mae_history) \n",
    "plt.xlabel('Epochs')\n",
    "plt.ylabel('Validation MAE')\n",
    "plt.show()\n"
   ]
  },
  {
   "cell_type": "code",
   "execution_count": 136,
   "metadata": {},
   "outputs": [
    {
     "data": {
      "text/plain": [
       "<keras.callbacks.callbacks.History at 0x15e57f7b8>"
      ]
     },
     "execution_count": 136,
     "metadata": {},
     "output_type": "execute_result"
    }
   ],
   "source": [
    "model = build_model() \n",
    "model.fit(x_train, y_train, epochs=80, batch_size=16, verbose=0)\n",
    "\n"
   ]
  },
  {
   "cell_type": "code",
   "execution_count": 138,
   "metadata": {},
   "outputs": [
    {
     "name": "stdout",
     "output_type": "stream",
     "text": [
      "102/102 [==============================] - 0s 4ms/step\n"
     ]
    }
   ],
   "source": [
    "test_mse_score, test_mae_score = model.evaluate(x_test, y_test)"
   ]
  },
  {
   "cell_type": "code",
   "execution_count": 139,
   "metadata": {},
   "outputs": [
    {
     "data": {
      "text/plain": [
       "2.9330952167510986"
      ]
     },
     "execution_count": 139,
     "metadata": {},
     "output_type": "execute_result"
    }
   ],
   "source": [
    "test_mae_score"
   ]
  },
  {
   "cell_type": "markdown",
   "metadata": {},
   "source": [
    "* Mean squared error (MSE) is a loss function commonly used for regression.\n",
    "* A common regression metric is mean absolute error (MAE).\n",
    "* Normaliztion --preprocessing step.\n",
    "* When there is little data available, using K-fold validation is a great way to relibly evaluate a model(train and valiate several times)."
   ]
  },
  {
   "cell_type": "markdown",
   "metadata": {},
   "source": [
    "## fashion image cnn"
   ]
  },
  {
   "cell_type": "code",
   "execution_count": 3,
   "metadata": {},
   "outputs": [],
   "source": [
    "import tensorflow as tf\n",
    "import tensorflow as tf\n",
    "from tensorflow import keras\n",
    "\n",
    "# Helper libraries\n",
    "import numpy as np\n",
    "import matplotlib.pyplot as plt"
   ]
  },
  {
   "cell_type": "code",
   "execution_count": 4,
   "metadata": {},
   "outputs": [],
   "source": [
    "fashion_mnist = keras.datasets.fashion_mnist\n",
    "\n",
    "(train_images, train_labels), (test_images, test_labels) = fashion_mnist.load_data()"
   ]
  },
  {
   "cell_type": "code",
   "execution_count": 5,
   "metadata": {},
   "outputs": [],
   "source": [
    "class_names = ['T-shirt/top', 'Trouser', 'Pullover', 'Dress', 'Coat',\n",
    "               'Sandal', 'Shirt', 'Sneaker', 'Bag', 'Ankle boot']"
   ]
  },
  {
   "cell_type": "code",
   "execution_count": 6,
   "metadata": {},
   "outputs": [
    {
     "data": {
      "text/plain": [
       "(60000, 28, 28)"
      ]
     },
     "execution_count": 6,
     "metadata": {},
     "output_type": "execute_result"
    }
   ],
   "source": [
    "train_images.shape"
   ]
  },
  {
   "cell_type": "markdown",
   "metadata": {},
   "source": [
    "## Preprocess the data"
   ]
  },
  {
   "cell_type": "code",
   "execution_count": 173,
   "metadata": {},
   "outputs": [
    {
     "data": {
      "image/png": "[encoded data removed]",
      "text/plain": [
       "<Figure size 432x288 with 2 Axes>"
      ]
     },
     "metadata": {
      "needs_background": "light"
     },
     "output_type": "display_data"
    }
   ],
   "source": [
    "plt.figure()\n",
    "plt.imshow(train_images[0])\n",
    "plt.colorbar()\n",
    "plt.grid(False)\n",
    "plt.show()"
   ]
  },
  {
   "cell_type": "code",
   "execution_count": 177,
   "metadata": {},
   "outputs": [],
   "source": [
    "train_images = train_images / 255.0\n",
    "\n",
    "test_images = test_images / 255.0"
   ]
  },
  {
   "cell_type": "code",
   "execution_count": 178,
   "metadata": {},
   "outputs": [
    {
     "data": {
      "text/plain": [
       "(60000, 28, 28)"
      ]
     },
     "execution_count": 178,
     "metadata": {},
     "output_type": "execute_result"
    }
   ],
   "source": [
    "train_images.shape"
   ]
  },
  {
   "cell_type": "code",
   "execution_count": 175,
   "metadata": {},
   "outputs": [
    {
     "data": {
      "image/png": "[encoded data removed]",
      "text/plain": [
       "<Figure size 720x720 with 25 Axes>"
      ]
     },
     "metadata": {},
     "output_type": "display_data"
    }
   ],
   "source": [
    "plt.figure(figsize=(10,10))\n",
    "for i in range(25):\n",
    "    plt.subplot(5,5,i+1)\n",
    "    plt.xticks([])\n",
    "    plt.yticks([])\n",
    "    plt.grid(False)\n",
    "    plt.imshow(train_images[i], cmap=plt.cm.binary)\n",
    "    plt.xlabel(class_names[train_labels[i]])\n",
    "plt.show()"
   ]
  },
  {
   "cell_type": "markdown",
   "metadata": {},
   "source": [
    "## Build the model"
   ]
  },
  {
   "cell_type": "code",
   "execution_count": 7,
   "metadata": {},
   "outputs": [
    {
     "name": "stdout",
     "output_type": "stream",
     "text": [
      "WARNING:tensorflow:From /Users/apple/PycharmProjects/PRACTICE/venv/lib/python3.7/site-packages/tensorflow_core/python/ops/resource_variable_ops.py:1630: calling BaseResourceVariable.__init__ (from tensorflow.python.ops.resource_variable_ops) with constraint is deprecated and will be removed in a future version.\n",
      "Instructions for updating:\n",
      "If using Keras pass *_constraint arguments to layers.\n"
     ]
    }
   ],
   "source": [
    "model = keras.Sequential([\n",
    "    keras.layers.Flatten(input_shape=(28, 28)),\n",
    "    keras.layers.Dense(128, activation='relu'),\n",
    "    keras.layers.Dense(10)\n",
    "])\n"
   ]
  },
  {
   "cell_type": "code",
   "execution_count": 8,
   "metadata": {},
   "outputs": [],
   "source": [
    "model.compile(optimizer='adam',\n",
    "              loss=tf.keras.losses.SparseCategoricalCrossentropy(from_logits=True),\n",
    "              metrics=['accuracy'])"
   ]
  },
  {
   "cell_type": "code",
   "execution_count": 9,
   "metadata": {},
   "outputs": [
    {
     "name": "stdout",
     "output_type": "stream",
     "text": [
      "Train on 60000 samples\n",
      "Epoch 1/10\n",
      "60000/60000 [==============================] - 7s 111us/sample - loss: 3.9563 - acc: 0.6806\n",
      "Epoch 2/10\n",
      "60000/60000 [==============================] - 6s 108us/sample - loss: 0.7260 - acc: 0.7325\n",
      "Epoch 3/10\n",
      "60000/60000 [==============================] - 6s 108us/sample - loss: 0.6274 - acc: 0.7713\n",
      "Epoch 4/10\n",
      "60000/60000 [==============================] - 6s 99us/sample - loss: 0.5933 - acc: 0.7918\n",
      "Epoch 5/10\n",
      "60000/60000 [==============================] - 7s 109us/sample - loss: 0.5519 - acc: 0.8056\n",
      "Epoch 6/10\n",
      "60000/60000 [==============================] - 7s 124us/sample - loss: 0.5395 - acc: 0.8094\n",
      "Epoch 7/10\n",
      "60000/60000 [==============================] - 5s 89us/sample - loss: 0.5117 - acc: 0.8213\n",
      "Epoch 8/10\n",
      "60000/60000 [==============================] - 6s 95us/sample - loss: 0.5053 - acc: 0.8261ETA: 0s - loss: 0.5065 - a\n",
      "Epoch 9/10\n",
      "60000/60000 [==============================] - 5s 81us/sample - loss: 0.5037 - acc: 0.8253\n",
      "Epoch 10/10\n",
      "60000/60000 [==============================] - 6s 94us/sample - loss: 0.4936 - acc: 0.8290: 1s - l\n"
     ]
    },
    {
     "data": {
      "text/plain": [
       "<tensorflow.python.keras.callbacks.History at 0x130260e80>"
      ]
     },
     "execution_count": 9,
     "metadata": {},
     "output_type": "execute_result"
    }
   ],
   "source": [
    "model.fit(train_images, train_labels, epochs=10)"
   ]
  },
  {
   "cell_type": "code",
   "execution_count": 10,
   "metadata": {},
   "outputs": [
    {
     "name": "stdout",
     "output_type": "stream",
     "text": [
      "10000/10000 - 0s - loss: 0.5604 - acc: 0.8145\n",
      "\n",
      "Test accuracy: 0.8145\n"
     ]
    }
   ],
   "source": [
    "test_loss, test_acc = model.evaluate(test_images,  test_labels, verbose=2)\n",
    "\n",
    "print('\\nTest accuracy:', test_acc)"
   ]
  },
  {
   "cell_type": "markdown",
   "metadata": {},
   "source": [
    "## Make predictions"
   ]
  },
  {
   "cell_type": "code",
   "execution_count": 11,
   "metadata": {},
   "outputs": [],
   "source": [
    "probability_model = tf.keras.Sequential([model, \n",
    "                                         tf.keras.layers.Softmax()])\n",
    "predictions = probability_model.predict(test_images)\n",
    "\n"
   ]
  },
  {
   "cell_type": "code",
   "execution_count": 13,
   "metadata": {},
   "outputs": [
    {
     "data": {
      "text/plain": [
       "array([5.6910182e-10, 1.2423021e-10, 2.7294388e-37, 2.1657123e-12,\n",
       "       3.0170076e-31, 2.0779487e-02, 6.7541547e-17, 3.4530473e-01,\n",
       "       6.0029888e-05, 6.3385582e-01], dtype=float32)"
      ]
     },
     "execution_count": 13,
     "metadata": {},
     "output_type": "execute_result"
    }
   ],
   "source": [
    "predictions[0]"
   ]
  },
  {
   "cell_type": "code",
   "execution_count": 14,
   "metadata": {},
   "outputs": [
    {
     "data": {
      "text/plain": [
       "9"
      ]
     },
     "execution_count": 14,
     "metadata": {},
     "output_type": "execute_result"
    }
   ],
   "source": [
    "np.argmax(predictions[0])"
   ]
  },
  {
   "cell_type": "code",
   "execution_count": 15,
   "metadata": {},
   "outputs": [
    {
     "data": {
      "text/plain": [
       "9"
      ]
     },
     "execution_count": 15,
     "metadata": {},
     "output_type": "execute_result"
    }
   ],
   "source": [
    "test_labels[0]"
   ]
  },
  {
   "cell_type": "code",
   "execution_count": 17,
   "metadata": {},
   "outputs": [],
   "source": [
    "def plot_image(i, predictions_array, true_label, img):\n",
    "  predictions_array, true_label, img = predictions_array, true_label[i], img[i]\n",
    "  plt.grid(False)\n",
    "  plt.xticks([])\n",
    "  plt.yticks([])\n",
    "\n",
    "  plt.imshow(img, cmap=plt.cm.binary)\n",
    "\n",
    "  predicted_label = np.argmax(predictions_array)\n",
    "  if predicted_label == true_label:\n",
    "    color = 'blue'\n",
    "  else:\n",
    "    color = 'red'\n",
    "\n",
    "  plt.xlabel(\"{} {:2.0f}% ({})\".format(class_names[predicted_label],\n",
    "                                100*np.max(predictions_array),\n",
    "                                class_names[true_label]),\n",
    "                                color=color)\n",
    "\n",
    "def plot_value_array(i, predictions_array, true_label):\n",
    "  predictions_array, true_label = predictions_array, true_label[i]\n",
    "  plt.grid(False)\n",
    "  plt.xticks(range(10))\n",
    "  plt.yticks([])\n",
    "  thisplot = plt.bar(range(10), predictions_array, color=\"#777777\")\n",
    "  plt.ylim([0, 1])\n",
    "  predicted_label = np.argmax(predictions_array)\n",
    "\n",
    "  thisplot[predicted_label].set_color('red')\n",
    "  thisplot[true_label].set_color('blue')"
   ]
  },
  {
   "cell_type": "code",
   "execution_count": 18,
   "metadata": {},
   "outputs": [
    {
     "data": {
      "image/png": "[encoded data removed]",
      "text/plain": [
       "<Figure size 432x216 with 2 Axes>"
      ]
     },
     "metadata": {
      "needs_background": "light"
     },
     "output_type": "display_data"
    }
   ],
   "source": [
    "i = 0\n",
    "plt.figure(figsize=(6,3))\n",
    "plt.subplot(1,2,1)\n",
    "plot_image(i, predictions[i], test_labels, test_images)\n",
    "plt.subplot(1,2,2)\n",
    "plot_value_array(i, predictions[i],  test_labels)\n",
    "plt.show()\n",
    "\n"
   ]
  },
  {
   "cell_type": "code",
   "execution_count": 19,
   "metadata": {},
   "outputs": [
    {
     "data": {
      "image/png": "[encoded data removed]",
      "text/plain": [
       "<Figure size 864x720 with 30 Axes>"
      ]
     },
     "metadata": {
      "needs_background": "light"
     },
     "output_type": "display_data"
    }
   ],
   "source": [
    "num_rows = 5\n",
    "num_cols = 3\n",
    "num_images = num_rows*num_cols\n",
    "plt.figure(figsize=(2*2*num_cols, 2*num_rows))\n",
    "for i in range(num_images):\n",
    "  plt.subplot(num_rows, 2*num_cols, 2*i+1)\n",
    "  plot_image(i, predictions[i], test_labels, test_images)\n",
    "  plt.subplot(num_rows, 2*num_cols, 2*i+2)\n",
    "  plot_value_array(i, predictions[i], test_labels)\n",
    "plt.tight_layout()\n",
    "plt.show()"
   ]
  },
  {
   "cell_type": "code",
   "execution_count": null,
   "metadata": {},
   "outputs": [],
   "source": []
  }
 ],
 "metadata": {
  "kernelspec": {
   "display_name": "Python 3",
   "language": "python",
   "name": "python3"
  },
  "language_info": {
   "codemirror_mode": {
    "name": "ipython",
    "version": 3
   },
   "file_extension": ".py",
   "mimetype": "text/x-python",
   "name": "python",
   "nbconvert_exporter": "python",
   "pygments_lexer": "ipython3",
   "version": "3.7.0"
  }
 },
 "nbformat": 4,
 "nbformat_minor": 4
}
