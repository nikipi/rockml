{
 "cells": [
  {
   "cell_type": "code",
   "execution_count": 2,
   "metadata": {},
   "outputs": [],
   "source": [
    "import torch\n",
    "a=torch.tensor([0,1,2,3,4])"
   ]
  },
  {
   "cell_type": "code",
   "execution_count": 3,
   "metadata": {},
   "outputs": [
    {
     "data": {
      "text/plain": [
       "'torch.LongTensor'"
      ]
     },
     "execution_count": 3,
     "metadata": {},
     "output_type": "execute_result"
    }
   ],
   "source": [
    "a.type()"
   ]
  },
  {
   "cell_type": "code",
   "execution_count": 4,
   "metadata": {},
   "outputs": [
    {
     "data": {
      "text/plain": [
       "torch.int64"
      ]
     },
     "execution_count": 4,
     "metadata": {},
     "output_type": "execute_result"
    }
   ],
   "source": [
    "a.dtype"
   ]
  },
  {
   "cell_type": "code",
   "execution_count": 5,
   "metadata": {},
   "outputs": [],
   "source": [
    "a=torch.tensor([1.2,3.0,3.8])"
   ]
  },
  {
   "cell_type": "code",
   "execution_count": 6,
   "metadata": {},
   "outputs": [
    {
     "data": {
      "text/plain": [
       "'torch.FloatTensor'"
      ]
     },
     "execution_count": 6,
     "metadata": {},
     "output_type": "execute_result"
    }
   ],
   "source": [
    "a.type()"
   ]
  },
  {
   "cell_type": "code",
   "execution_count": 7,
   "metadata": {},
   "outputs": [
    {
     "data": {
      "text/plain": [
       "torch.float32"
      ]
     },
     "execution_count": 7,
     "metadata": {},
     "output_type": "execute_result"
    }
   ],
   "source": [
    "a.dtype"
   ]
  },
  {
   "cell_type": "code",
   "execution_count": 8,
   "metadata": {},
   "outputs": [],
   "source": [
    "a=torch.tensor([0,1,2,3,4,7])"
   ]
  },
  {
   "cell_type": "code",
   "execution_count": 9,
   "metadata": {},
   "outputs": [
    {
     "data": {
      "text/plain": [
       "tensor([[0, 1],\n",
       "        [2, 3],\n",
       "        [4, 7]])"
      ]
     },
     "execution_count": 9,
     "metadata": {},
     "output_type": "execute_result"
    }
   ],
   "source": [
    "a.view(3,-1)"
   ]
  },
  {
   "cell_type": "code",
   "execution_count": 10,
   "metadata": {},
   "outputs": [],
   "source": [
    "import numpy as np\n",
    "array=np.array([0,1,4,5.6,7,6])"
   ]
  },
  {
   "cell_type": "code",
   "execution_count": 11,
   "metadata": {},
   "outputs": [
    {
     "data": {
      "text/plain": [
       "tensor([0.0000, 1.0000, 4.0000, 5.6000, 7.0000, 6.0000], dtype=torch.float64)"
      ]
     },
     "execution_count": 11,
     "metadata": {},
     "output_type": "execute_result"
    }
   ],
   "source": [
    "torch.from_numpy(array)"
   ]
  },
  {
   "cell_type": "code",
   "execution_count": 12,
   "metadata": {},
   "outputs": [
    {
     "data": {
      "text/plain": [
       "<module 'torch' from '/Users/apple/PycharmProjects/PRACTICE/venv/lib/python3.7/site-packages/torch/__init__.py'>"
      ]
     },
     "execution_count": 12,
     "metadata": {},
     "output_type": "execute_result"
    }
   ],
   "source": [
    "torch"
   ]
  },
  {
   "cell_type": "code",
   "execution_count": 13,
   "metadata": {},
   "outputs": [],
   "source": [
    "import pandas as pd\n",
    "pan=pd.Series([1,2,5,6,8])"
   ]
  },
  {
   "cell_type": "code",
   "execution_count": 14,
   "metadata": {},
   "outputs": [],
   "source": [
    "torch1=torch.from_numpy(pan.values)"
   ]
  },
  {
   "cell_type": "code",
   "execution_count": 15,
   "metadata": {},
   "outputs": [
    {
     "data": {
      "text/plain": [
       "tensor([1, 2, 5, 6, 8])"
      ]
     },
     "execution_count": 15,
     "metadata": {},
     "output_type": "execute_result"
    }
   ],
   "source": [
    "torch1"
   ]
  },
  {
   "cell_type": "code",
   "execution_count": 16,
   "metadata": {},
   "outputs": [
    {
     "data": {
      "text/plain": [
       "tensor(6)"
      ]
     },
     "execution_count": 16,
     "metadata": {},
     "output_type": "execute_result"
    }
   ],
   "source": [
    "torch1[3]"
   ]
  },
  {
   "cell_type": "code",
   "execution_count": 17,
   "metadata": {},
   "outputs": [],
   "source": [
    "x=torch.tensor([0,np.pi/2,np.pi])\n",
    "y=torch.sin(x)"
   ]
  },
  {
   "cell_type": "code",
   "execution_count": 18,
   "metadata": {},
   "outputs": [
    {
     "data": {
      "text/plain": [
       "tensor([ 0.0000e+00,  1.0000e+00, -8.7423e-08])"
      ]
     },
     "execution_count": 18,
     "metadata": {},
     "output_type": "execute_result"
    }
   ],
   "source": [
    "y"
   ]
  },
  {
   "cell_type": "code",
   "execution_count": 19,
   "metadata": {},
   "outputs": [
    {
     "data": {
      "text/plain": [
       "tensor([-2.0000, -1.2000, -0.4000,  0.4000,  1.2000,  2.0000])"
      ]
     },
     "execution_count": 19,
     "metadata": {},
     "output_type": "execute_result"
    }
   ],
   "source": [
    "torch.linspace(-2,2,steps=6)"
   ]
  },
  {
   "cell_type": "code",
   "execution_count": 20,
   "metadata": {},
   "outputs": [],
   "source": [
    "x=torch.linspace(0,2*np.pi,100)\n",
    "y=torch.sin(x)"
   ]
  },
  {
   "cell_type": "code",
   "execution_count": 21,
   "metadata": {},
   "outputs": [
    {
     "data": {
      "text/plain": [
       "[<matplotlib.lines.Line2D at 0x1275b3160>]"
      ]
     },
     "execution_count": 21,
     "metadata": {},
     "output_type": "execute_result"
    },
    {
     "data": {
      "image/png": "[encoded data removed]",
      "text/plain": [
       "<Figure size 432x288 with 1 Axes>"
      ]
     },
     "metadata": {
      "needs_background": "light"
     },
     "output_type": "display_data"
    }
   ],
   "source": [
    "import matplotlib.pyplot as plt\n",
    "%matplotlib inline\n",
    "plt.plot(x.numpy(),y.numpy())"
   ]
  },
  {
   "cell_type": "code",
   "execution_count": 22,
   "metadata": {},
   "outputs": [],
   "source": [
    "def plotVec(vectors):\n",
    "    ax = plt.axes()\n",
    "    \n",
    "    # For loop to draw the vectors\n",
    "    for vec in vectors:\n",
    "        ax.arrow(0, 0, *vec[\"vector\"], head_width = 0.05,color = vec[\"color\"], head_length = 0.1)\n",
    "        plt.text(*(vec[\"vector\"] + 0.1), vec[\"name\"])\n",
    "    \n",
    "    plt.ylim(-2,2)\n",
    "    plt.xlim(-2,2)"
   ]
  },
  {
   "cell_type": "code",
   "execution_count": 23,
   "metadata": {},
   "outputs": [
    {
     "name": "stdout",
     "output_type": "stream",
     "text": [
      "The type of the new_float_tensor: torch.FloatTensor\n"
     ]
    }
   ],
   "source": [
    "new_float_tensor = torch.FloatTensor([0, 1, 2, 3, 4])\n",
    "new_float_tensor.type()\n",
    "print(\"The type of the new_float_tensor:\", new_float_tensor.type())"
   ]
  },
  {
   "cell_type": "code",
   "execution_count": 24,
   "metadata": {},
   "outputs": [],
   "source": [
    "x=torch.linspace(0,np.pi/2,steps=25)\n",
    "y=torch.sin(x)"
   ]
  },
  {
   "cell_type": "code",
   "execution_count": 25,
   "metadata": {},
   "outputs": [
    {
     "data": {
      "text/plain": [
       "[<matplotlib.lines.Line2D at 0x127790128>]"
      ]
     },
     "execution_count": 25,
     "metadata": {},
     "output_type": "execute_result"
    },
    {
     "data": {
      "image/png": "[encoded data removed]",
      "text/plain": [
       "<Figure size 432x288 with 1 Axes>"
      ]
     },
     "metadata": {
      "needs_background": "light"
     },
     "output_type": "display_data"
    }
   ],
   "source": [
    "plt.plot(x.numpy(),y.numpy())"
   ]
  },
  {
   "cell_type": "code",
   "execution_count": 26,
   "metadata": {},
   "outputs": [
    {
     "data": {
      "text/plain": [
       "tensor(0.)"
      ]
     },
     "execution_count": 26,
     "metadata": {},
     "output_type": "execute_result"
    }
   ],
   "source": [
    "y.min()"
   ]
  },
  {
   "cell_type": "code",
   "execution_count": 27,
   "metadata": {},
   "outputs": [
    {
     "data": {
      "text/plain": [
       "tensor(1.)"
      ]
     },
     "execution_count": 27,
     "metadata": {},
     "output_type": "execute_result"
    }
   ],
   "source": [
    "y.max()"
   ]
  },
  {
   "cell_type": "code",
   "execution_count": 28,
   "metadata": {},
   "outputs": [],
   "source": [
    "import tensorflow  as tf"
   ]
  },
  {
   "cell_type": "markdown",
   "metadata": {},
   "source": [
    "# Tensorflow Basic"
   ]
  },
  {
   "cell_type": "code",
   "execution_count": 33,
   "metadata": {},
   "outputs": [
    {
     "data": {
      "text/plain": [
       "tensor(6.)"
      ]
     },
     "execution_count": 33,
     "metadata": {},
     "output_type": "execute_result"
    }
   ],
   "source": [
    "x=torch.tensor(2.0,requires_grad=True)\n",
    "z=x**2+2*x+1\n",
    "z.backward()\n",
    "x.grad"
   ]
  },
  {
   "cell_type": "code",
   "execution_count": 34,
   "metadata": {},
   "outputs": [],
   "source": [
    "u=torch.tensor(1.0,requires_grad=True)\n",
    "v=torch.tensor(2.0,requires_grad=True)\n",
    "f=u*v+u**2\n",
    "f.backward()"
   ]
  },
  {
   "cell_type": "code",
   "execution_count": 35,
   "metadata": {},
   "outputs": [
    {
     "data": {
      "text/plain": [
       "tensor(1.)"
      ]
     },
     "execution_count": 35,
     "metadata": {},
     "output_type": "execute_result"
    }
   ],
   "source": [
    "v.grad"
   ]
  },
  {
   "cell_type": "code",
   "execution_count": 36,
   "metadata": {},
   "outputs": [
    {
     "data": {
      "text/plain": [
       "tensor(4.)"
      ]
     },
     "execution_count": 36,
     "metadata": {},
     "output_type": "execute_result"
    }
   ],
   "source": [
    "u.grad"
   ]
  },
  {
   "cell_type": "code",
   "execution_count": 38,
   "metadata": {},
   "outputs": [],
   "source": [
    "x=torch.linspace(-10,10,10,requires_grad=True)\n",
    "Y=x**2\n",
    "y=torch.sum(x**2)\n",
    "y.backward()"
   ]
  },
  {
   "cell_type": "code",
   "execution_count": 40,
   "metadata": {},
   "outputs": [
    {
     "data": {
      "text/plain": [
       "<matplotlib.legend.Legend at 0x1277ac9b0>"
      ]
     },
     "execution_count": 40,
     "metadata": {},
     "output_type": "execute_result"
    },
    {
     "data": {
      "image/png": "[encoded data removed]",
      "text/plain": [
       "<Figure size 432x288 with 1 Axes>"
      ]
     },
     "metadata": {
      "needs_background": "light"
     },
     "output_type": "display_data"
    }
   ],
   "source": [
    "plt.plot(x.detach(),Y.detach().numpy(),label='fx')\n",
    "plt.plot(x.detach(),x.grad.detach().numpy(),label='derivative')\n",
    "plt.legend()"
   ]
  },
  {
   "cell_type": "code",
   "execution_count": 59,
   "metadata": {},
   "outputs": [],
   "source": [
    "graph1 = tf.Graph()"
   ]
  },
  {
   "cell_type": "code",
   "execution_count": 60,
   "metadata": {},
   "outputs": [],
   "source": [
    "with graph1.as_default():\n",
    "    a=tf.constant([2],name='constant_a')\n",
    "    b=tf.constant([3],name='constant_b')\n",
    "    "
   ]
  },
  {
   "cell_type": "code",
   "execution_count": 61,
   "metadata": {},
   "outputs": [
    {
     "data": {
      "text/plain": [
       "<tf.Tensor 'constant_a:0' shape=(1,) dtype=int32>"
      ]
     },
     "execution_count": 61,
     "metadata": {},
     "output_type": "execute_result"
    }
   ],
   "source": [
    "a"
   ]
  },
  {
   "cell_type": "code",
   "execution_count": 62,
   "metadata": {},
   "outputs": [
    {
     "name": "stdout",
     "output_type": "stream",
     "text": [
      "[2]\n"
     ]
    }
   ],
   "source": [
    "sess = tf.Session(graph = graph1)\n",
    "result = sess.run(a)\n",
    "print(result)\n",
    "sess.close()"
   ]
  },
  {
   "cell_type": "code",
   "execution_count": 63,
   "metadata": {},
   "outputs": [],
   "source": [
    "with graph1.as_default():\n",
    "    c=tf.add(a,b)\n",
    " \n"
   ]
  },
  {
   "cell_type": "code",
   "execution_count": 64,
   "metadata": {},
   "outputs": [],
   "source": [
    "sess=tf.Session(graph=graph1)"
   ]
  },
  {
   "cell_type": "code",
   "execution_count": 65,
   "metadata": {},
   "outputs": [
    {
     "data": {
      "text/plain": [
       "array([5], dtype=int32)"
      ]
     },
     "execution_count": 65,
     "metadata": {},
     "output_type": "execute_result"
    }
   ],
   "source": [
    "result=sess.run(c)\n",
    "result"
   ]
  },
  {
   "cell_type": "code",
   "execution_count": 66,
   "metadata": {},
   "outputs": [
    {
     "name": "stdout",
     "output_type": "stream",
     "text": [
      "Scalar (1 entry):\n",
      " 2 \n",
      "\n",
      "Vector (3 entries) :\n",
      " [5 6 2] \n",
      "\n",
      "Matrix (3x3 entries):\n",
      " [[1 2 3]\n",
      " [2 3 4]\n",
      " [3 4 5]] \n",
      "\n",
      "Tensor (3x3x3 entries) :\n",
      " [[[ 1  2  3]\n",
      "  [ 2  3  4]\n",
      "  [ 3  4  5]]\n",
      "\n",
      " [[ 4  5  6]\n",
      "  [ 5  6  7]\n",
      "  [ 6  7  8]]\n",
      "\n",
      " [[ 7  8  9]\n",
      "  [ 8  9 10]\n",
      "  [ 9 10 11]]] \n",
      "\n"
     ]
    }
   ],
   "source": [
    "graph2 = tf.Graph()\n",
    "with graph2.as_default():\n",
    "    Scalar = tf.constant(2)\n",
    "    Vector = tf.constant([5,6,2])\n",
    "    Matrix = tf.constant([[1,2,3],[2,3,4],[3,4,5]])\n",
    "    Tensor = tf.constant( [ [[1,2,3],[2,3,4],[3,4,5]] , [[4,5,6],[5,6,7],[6,7,8]] , [[7,8,9],[8,9,10],[9,10,11]] ] )\n",
    "with tf.Session(graph = graph2) as sess:\n",
    "    result = sess.run(Scalar)\n",
    "    print (\"Scalar (1 entry):\\n %s \\n\" % result)\n",
    "    result = sess.run(Vector)\n",
    "    print (\"Vector (3 entries) :\\n %s \\n\" % result)\n",
    "    result = sess.run(Matrix)\n",
    "    print (\"Matrix (3x3 entries):\\n %s \\n\" % result)\n",
    "    result = sess.run(Tensor)\n",
    "    print (\"Tensor (3x3x3 entries) :\\n %s \\n\" % result)"
   ]
  },
  {
   "cell_type": "code",
   "execution_count": 67,
   "metadata": {},
   "outputs": [
    {
     "name": "stdout",
     "output_type": "stream",
     "text": [
      "Defined using tensorflow function :\n",
      "[[3 4 5]\n",
      " [4 5 6]\n",
      " [5 6 7]]\n",
      "Defined using normal expressions :\n",
      "[[3 4 5]\n",
      " [4 5 6]\n",
      " [5 6 7]]\n"
     ]
    }
   ],
   "source": [
    "graph3 = tf.Graph()\n",
    "with graph3.as_default():\n",
    "    Matrix_one = tf.constant([[1,2,3],[2,3,4],[3,4,5]])\n",
    "    Matrix_two = tf.constant([[2,2,2],[2,2,2],[2,2,2]])\n",
    "\n",
    "    add_1_operation = tf.add(Matrix_one, Matrix_two)\n",
    "    add_2_operation = Matrix_one + Matrix_two\n",
    "\n",
    "with tf.Session(graph =graph3) as sess:\n",
    "    result = sess.run(add_1_operation)\n",
    "    print (\"Defined using tensorflow function :\")\n",
    "    print(result)\n",
    "    result = sess.run(add_2_operation)\n",
    "    print (\"Defined using normal expressions :\")\n",
    "    print(result)"
   ]
  },
  {
   "cell_type": "markdown",
   "metadata": {},
   "source": [
    "regular matrix product--tf.matmul"
   ]
  },
  {
   "cell_type": "code",
   "execution_count": 68,
   "metadata": {},
   "outputs": [
    {
     "name": "stdout",
     "output_type": "stream",
     "text": [
      "Defined using tensorflow function :\n",
      "[[13 18]\n",
      " [18 25]]\n"
     ]
    }
   ],
   "source": [
    "graph4 = tf.Graph()\n",
    "with graph4.as_default():\n",
    "    Matrix_one = tf.constant([[2,3],[3,4]])\n",
    "    Matrix_two = tf.constant([[2,3],[3,4]])\n",
    "\n",
    "    mul_operation = tf.matmul(Matrix_one, Matrix_two)\n",
    "\n",
    "with tf.Session(graph = graph4) as sess:\n",
    "    result = sess.run(mul_operation)\n",
    "    print (\"Defined using tensorflow function :\")\n",
    "    print(result)"
   ]
  },
  {
   "cell_type": "markdown",
   "metadata": {},
   "source": [
    "If you want to feed data to a TensorFlow graph from outside a graph, you will need to use placeholders."
   ]
  },
  {
   "cell_type": "code",
   "execution_count": 70,
   "metadata": {},
   "outputs": [],
   "source": [
    "a = tf.placeholder(tf.float32)\n",
    "b=a*2"
   ]
  },
  {
   "cell_type": "code",
   "execution_count": 71,
   "metadata": {},
   "outputs": [
    {
     "name": "stdout",
     "output_type": "stream",
     "text": [
      "7.0\n"
     ]
    }
   ],
   "source": [
    "with tf.Session() as sess:\n",
    "    result = sess.run(b,feed_dict={a:3.5})\n",
    "    print (result)"
   ]
  },
  {
   "cell_type": "markdown",
   "metadata": {},
   "source": [
    "## Frist EXAMPLE"
   ]
  },
  {
   "cell_type": "code",
   "execution_count": 46,
   "metadata": {},
   "outputs": [
    {
     "name": "stdout",
     "output_type": "stream",
     "text": [
      "Downloading data from https://s3.amazonaws.com/img-datasets/mnist.npz\n",
      "11493376/11490434 [==============================] - 4s 0us/step\n"
     ]
    }
   ],
   "source": [
    "import keras\n",
    "from keras.datasets import mnist\n",
    "  \n",
    "import ssl\n",
    "ssl._create_default_https_context = ssl._create_unverified_context\n",
    "\n",
    "(train_images, train_labels), (test_images, test_labels) = mnist.load_data()"
   ]
  },
  {
   "cell_type": "code",
   "execution_count": 47,
   "metadata": {},
   "outputs": [
    {
     "data": {
      "text/plain": [
       "(60000, 28, 28)"
      ]
     },
     "execution_count": 47,
     "metadata": {},
     "output_type": "execute_result"
    }
   ],
   "source": [
    "train_images.shape"
   ]
  },
  {
   "cell_type": "code",
   "execution_count": 49,
   "metadata": {},
   "outputs": [],
   "source": [
    "train_images = train_images.reshape((60000, 28 * 28)) \n",
    "train_images = train_images.astype('float32') / 255\n",
    "test_images = test_images.reshape((10000, 28 * 28)) \n",
    "test_images = test_images.astype('float32') / 255"
   ]
  },
  {
   "cell_type": "code",
   "execution_count": 51,
   "metadata": {},
   "outputs": [
    {
     "name": "stdout",
     "output_type": "stream",
     "text": [
      "WARNING:tensorflow:From /Users/apple/PycharmProjects/PRACTICE/venv/lib/python3.7/site-packages/tensorflow_core/python/ops/resource_variable_ops.py:1630: calling BaseResourceVariable.__init__ (from tensorflow.python.ops.resource_variable_ops) with constraint is deprecated and will be removed in a future version.\n",
      "Instructions for updating:\n",
      "If using Keras pass *_constraint arguments to layers.\n"
     ]
    }
   ],
   "source": [
    "from keras import models\n",
    "from keras import layers\n",
    "network = models.Sequential()\n",
    "network.add(layers.Dense(512, activation='relu', input_shape=(28 * 28,))) \n",
    "network.add(layers.Dense(10, activation='softmax'))"
   ]
  },
  {
   "cell_type": "markdown",
   "metadata": {},
   "source": [
    "this network consists of a chain of two Dense layers,"
   ]
  },
  {
   "cell_type": "code",
   "execution_count": 52,
   "metadata": {},
   "outputs": [],
   "source": [
    "network.compile(optimizer='rmsprop', loss='categorical_crossentropy',\n",
    "                        metrics=['accuracy'])"
   ]
  },
  {
   "cell_type": "code",
   "execution_count": 55,
   "metadata": {},
   "outputs": [],
   "source": [
    "from keras.utils import to_categorical\n",
    "\n",
    "train_labels = to_categorical(train_labels)\n",
    "test_labels = to_categorical(test_labels)"
   ]
  },
  {
   "cell_type": "code",
   "execution_count": 56,
   "metadata": {},
   "outputs": [
    {
     "name": "stdout",
     "output_type": "stream",
     "text": [
      "WARNING:tensorflow:From /Users/apple/PycharmProjects/PRACTICE/venv/lib/python3.7/site-packages/keras/backend/tensorflow_backend.py:422: The name tf.global_variables is deprecated. Please use tf.compat.v1.global_variables instead.\n",
      "\n",
      "Epoch 1/5\n",
      "60000/60000 [==============================] - 5s 84us/step - loss: 0.2547 - accuracy: 0.9268\n",
      "Epoch 2/5\n",
      "60000/60000 [==============================] - 4s 71us/step - loss: 0.1032 - accuracy: 0.9694\n",
      "Epoch 3/5\n",
      "60000/60000 [==============================] - 4s 75us/step - loss: 0.0680 - accuracy: 0.9797\n",
      "Epoch 4/5\n",
      "60000/60000 [==============================] - 5s 75us/step - loss: 0.0490 - accuracy: 0.9853\n",
      "Epoch 5/5\n",
      "60000/60000 [==============================] - 4s 74us/step - loss: 0.0373 - accuracy: 0.9888\n"
     ]
    },
    {
     "data": {
      "text/plain": [
       "<keras.callbacks.callbacks.History at 0x14d68d518>"
      ]
     },
     "execution_count": 56,
     "metadata": {},
     "output_type": "execute_result"
    }
   ],
   "source": [
    "network.fit(train_images, train_labels, epochs=5, batch_size=128)"
   ]
  },
  {
   "cell_type": "code",
   "execution_count": 57,
   "metadata": {},
   "outputs": [
    {
     "name": "stdout",
     "output_type": "stream",
     "text": [
      "10000/10000 [==============================] - 1s 82us/step\n"
     ]
    }
   ],
   "source": [
    "test_loss, test_acc = network.evaluate(test_images, test_labels)"
   ]
  },
  {
   "cell_type": "code",
   "execution_count": 58,
   "metadata": {},
   "outputs": [
    {
     "name": "stdout",
     "output_type": "stream",
     "text": [
      "test_acc: 0.9794999957084656\n"
     ]
    }
   ],
   "source": [
    "print('test_acc:', test_acc)"
   ]
  },
  {
   "cell_type": "markdown",
   "metadata": {},
   "source": [
    "## Convolution: 1D operation with Python (Numpy/Scipy)"
   ]
  },
  {
   "cell_type": "code",
   "execution_count": 72,
   "metadata": {},
   "outputs": [
    {
     "data": {
      "text/plain": [
       "array([ 6, 11, 14,  5,  0])"
      ]
     },
     "execution_count": 72,
     "metadata": {},
     "output_type": "execute_result"
    }
   ],
   "source": [
    "import numpy as np\n",
    "\n",
    "h = [2, 1, 0]\n",
    "x = [3, 4, 5]\n",
    " \n",
    "\n",
    "y = np.convolve(x, h)\n",
    "y  "
   ]
  },
  {
   "cell_type": "code",
   "execution_count": 73,
   "metadata": {},
   "outputs": [
    {
     "data": {
      "text/plain": [
       "array([14, 34, 34])"
      ]
     },
     "execution_count": 73,
     "metadata": {},
     "output_type": "execute_result"
    }
   ],
   "source": [
    "import numpy as np\n",
    "\n",
    "x = [6, 2]\n",
    "h = [1, 2, 5, 4]\n",
    "\n",
    "y = np.convolve(x, h, \"valid\")   # valid returns output of length max(x, h) - min(x, h) + 1, this is to ensure that values outside of the boundary of \n",
    "                                # h will not be used in the calculation of the convolution\n",
    "                                # in the next example we will understand why we used the argument valid\n",
    "y  "
   ]
  },
  {
   "cell_type": "markdown",
   "metadata": {},
   "source": [
    "Suppose that you have two tensors:\n",
    "\n",
    "3x3 filter (4D tensor = [3,3,1,1] = [width, height, channels, number of filters])\n",
    "10x10 image (4D tensor = [1,10,10,1] = [batch size, width, height, number of channels]\n",
    "The output size for zero padding 'SAME' mode will be:\n",
    "\n",
    "the same as input = 10x10\n",
    "The output size without zero padding 'VALID' mode:\n",
    "\n",
    "input size - kernel dimension + 1 = 10 -3 + 1 = 8 = 8x8"
   ]
  },
  {
   "cell_type": "code",
   "execution_count": 74,
   "metadata": {},
   "outputs": [
    {
     "name": "stdout",
     "output_type": "stream",
     "text": [
      "Input \n",
      "\n",
      "[[[[ 2.0113473e+00]\n",
      "   [-8.7337714e-01]\n",
      "   [ 3.5516679e-01]\n",
      "   [-1.1977479e+00]\n",
      "   [ 4.4119868e-01]\n",
      "   [ 2.1245193e+00]\n",
      "   [ 9.4798493e-01]\n",
      "   [ 4.5947332e-02]\n",
      "   [-1.6768193e+00]\n",
      "   [ 2.1280303e+00]]\n",
      "\n",
      "  [[-5.1104343e-01]\n",
      "   [-1.9291254e+00]\n",
      "   [ 1.3715962e-01]\n",
      "   [-3.2772348e+00]\n",
      "   [-1.3739942e+00]\n",
      "   [-8.8046831e-01]\n",
      "   [ 9.9437600e-01]\n",
      "   [ 4.4972238e-01]\n",
      "   [ 7.7993602e-01]\n",
      "   [-8.0588245e-01]]\n",
      "\n",
      "  [[ 8.9846805e-02]\n",
      "   [-1.1043116e+00]\n",
      "   [ 1.1253356e-01]\n",
      "   [ 1.8160851e+00]\n",
      "   [ 9.0592343e-01]\n",
      "   [-6.4272648e-01]\n",
      "   [-1.5499758e+00]\n",
      "   [-6.3216960e-01]\n",
      "   [-1.3328141e+00]\n",
      "   [-1.7601816e-01]]\n",
      "\n",
      "  [[ 3.0196819e-01]\n",
      "   [ 1.4577079e+00]\n",
      "   [ 2.2674613e+00]\n",
      "   [-6.6198575e-01]\n",
      "   [-3.2374775e-01]\n",
      "   [-2.9469353e-01]\n",
      "   [-3.0965242e-01]\n",
      "   [ 2.3285204e-01]\n",
      "   [-1.2765939e+00]\n",
      "   [-1.0166169e+00]]\n",
      "\n",
      "  [[ 3.1901779e+00]\n",
      "   [-1.2396575e+00]\n",
      "   [-4.5478813e-02]\n",
      "   [ 8.4976095e-01]\n",
      "   [ 1.8558311e+00]\n",
      "   [-5.4555196e-01]\n",
      "   [ 4.1970067e-02]\n",
      "   [-6.2908435e-01]\n",
      "   [-2.9677531e-01]\n",
      "   [ 1.0492042e+00]]\n",
      "\n",
      "  [[-1.4999063e-03]\n",
      "   [ 7.5565809e-01]\n",
      "   [-2.5115329e-01]\n",
      "   [-2.9012936e-01]\n",
      "   [-8.6378247e-01]\n",
      "   [-1.9601549e+00]\n",
      "   [-6.3578701e-01]\n",
      "   [-7.0296174e-01]\n",
      "   [ 9.7493058e-01]\n",
      "   [ 2.6176935e-01]]\n",
      "\n",
      "  [[-1.9761539e+00]\n",
      "   [-2.2959077e-01]\n",
      "   [-6.2064791e-01]\n",
      "   [-1.4611254e+00]\n",
      "   [ 9.5323288e-01]\n",
      "   [-7.2717875e-02]\n",
      "   [ 2.8522521e-01]\n",
      "   [ 2.4091353e+00]\n",
      "   [-8.2656777e-01]\n",
      "   [ 6.8022931e-01]]\n",
      "\n",
      "  [[-2.8890935e-01]\n",
      "   [ 3.8461187e-01]\n",
      "   [-1.1366181e+00]\n",
      "   [-7.2387952e-01]\n",
      "   [ 7.8660727e-01]\n",
      "   [-1.8718594e+00]\n",
      "   [-2.4492724e-02]\n",
      "   [ 4.9306807e-01]\n",
      "   [-1.1178185e+00]\n",
      "   [ 1.2606281e+00]]\n",
      "\n",
      "  [[ 2.6332766e-01]\n",
      "   [-8.5990489e-01]\n",
      "   [ 5.7417005e-01]\n",
      "   [-8.1584793e-01]\n",
      "   [-7.9017758e-01]\n",
      "   [-1.0076923e+00]\n",
      "   [-1.3153001e+00]\n",
      "   [-7.7978963e-01]\n",
      "   [-4.6912453e-01]\n",
      "   [ 1.0460762e+00]]\n",
      "\n",
      "  [[ 5.1583737e-01]\n",
      "   [ 1.0037295e+00]\n",
      "   [ 1.2630142e+00]\n",
      "   [ 6.4150095e-01]\n",
      "   [ 2.8790900e-02]\n",
      "   [ 6.1765283e-01]\n",
      "   [ 1.2642251e+00]\n",
      "   [ 2.5639573e-01]\n",
      "   [ 2.1163096e+00]\n",
      "   [ 3.3519033e-01]]]] \n",
      "\n",
      "Filter/Kernel \n",
      "\n",
      "[[[[-0.30639175]]\n",
      "\n",
      "  [[-0.9880707 ]]\n",
      "\n",
      "  [[-0.90476143]]]\n",
      "\n",
      "\n",
      " [[[ 0.2907516 ]]\n",
      "\n",
      "  [[-0.7364426 ]]\n",
      "\n",
      "  [[-0.74274915]]]\n",
      "\n",
      "\n",
      " [[[-0.29422668]]\n",
      "\n",
      "  [[-0.46487743]]\n",
      "\n",
      "  [[ 0.7983489 ]]]] \n",
      "\n",
      "Result/Feature Map with valid positions \n",
      "\n",
      "[[[[ 1.6723605e+00]\n",
      "   [ 4.4950719e+00]\n",
      "   [ 3.9952433e+00]\n",
      "   [-2.7467687e+00]\n",
      "   [-4.7868829e+00]\n",
      "   [-2.5465477e+00]\n",
      "   [ 2.4576724e-01]\n",
      "   [ 5.3739882e-01]]\n",
      "\n",
      "  [[ 3.7381186e+00]\n",
      "   [-3.4367377e-01]\n",
      "   [ 1.8437860e+00]\n",
      "   [ 3.6065969e+00]\n",
      "   [ 2.2642860e+00]\n",
      "   [ 7.2105503e-01]\n",
      "   [-1.4861439e+00]\n",
      "   [ 4.6251568e-01]]\n",
      "\n",
      "  [[-2.1067367e+00]\n",
      "   [-1.1060097e+00]\n",
      "   [-1.6135132e-01]\n",
      "   [-2.1535013e+00]\n",
      "   [ 1.8538253e+00]\n",
      "   [ 1.9085585e+00]\n",
      "   [ 3.0352499e+00]\n",
      "   [ 4.5934811e+00]]\n",
      "\n",
      "  [[-2.2614400e+00]\n",
      "   [-3.3834054e+00]\n",
      "   [-2.2459977e+00]\n",
      "   [-1.0030663e+00]\n",
      "   [ 2.2385135e+00]\n",
      "   [ 7.7438200e-01]\n",
      "   [ 3.0079219e+00]\n",
      "   [ 1.3287622e+00]]\n",
      "\n",
      "  [[ 1.1085667e-01]\n",
      "   [-5.3432256e-01]\n",
      "   [-9.9692173e-02]\n",
      "   [ 3.3592758e-01]\n",
      "   [ 1.5781330e+00]\n",
      "   [ 2.9274127e+00]\n",
      "   [-1.3778256e+00]\n",
      "   [-1.3616138e+00]]\n",
      "\n",
      "  [[-1.4646646e+00]\n",
      "   [ 1.5920116e+00]\n",
      "   [ 2.6316302e+00]\n",
      "   [-4.0589571e-03]\n",
      "   [ 3.5147092e+00]\n",
      "   [ 7.9998988e-01]\n",
      "   [-2.1844504e+00]\n",
      "   [ 1.2001784e+00]]\n",
      "\n",
      "  [[ 2.6515048e+00]\n",
      "   [ 2.8268573e+00]\n",
      "   [-3.0725744e-02]\n",
      "   [-2.4940832e-02]\n",
      "   [ 7.9801965e-01]\n",
      "   [-3.0462706e+00]\n",
      "   [-8.8494116e-01]\n",
      "   [ 7.7601612e-01]]\n",
      "\n",
      "  [[ 1.4101750e+00]\n",
      "   [ 1.2229346e+00]\n",
      "   [ 1.0596259e+00]\n",
      "   [ 2.5222988e+00]\n",
      "   [ 3.8336685e+00]\n",
      "   [ 8.4171039e-01]\n",
      "   [ 2.2703559e+00]\n",
      "   [-1.6370342e+00]]]]\n",
      "\n",
      "\n",
      "Result/Feature Map with padding \n",
      "\n",
      "[[[[-2.1350844e+00]\n",
      "   [ 2.1208653e+00]\n",
      "   [-1.7384086e+00]\n",
      "   [ 1.0438677e+00]\n",
      "   [-1.3510817e+00]\n",
      "   [-5.3298783e-01]\n",
      "   [ 4.1273233e-02]\n",
      "   [ 1.6082700e+00]\n",
      "   [-1.4706225e+00]\n",
      "   [-1.9095515e+00]]\n",
      "\n",
      "  [[-3.1133860e-01]\n",
      "   [ 1.6723605e+00]\n",
      "   [ 4.4950719e+00]\n",
      "   [ 3.9952433e+00]\n",
      "   [-2.7467687e+00]\n",
      "   [-4.7868829e+00]\n",
      "   [-2.5465477e+00]\n",
      "   [ 2.4576724e-01]\n",
      "   [ 5.3739882e-01]\n",
      "   [-2.9465055e-01]]\n",
      "\n",
      "  [[ 4.0277863e+00]\n",
      "   [ 3.7381186e+00]\n",
      "   [-3.4367377e-01]\n",
      "   [ 1.8437860e+00]\n",
      "   [ 3.6065969e+00]\n",
      "   [ 2.2642860e+00]\n",
      "   [ 7.2105503e-01]\n",
      "   [-1.4861439e+00]\n",
      "   [ 4.6251568e-01]\n",
      "   [ 1.1476226e+00]]\n",
      "\n",
      "  [[-2.8674510e+00]\n",
      "   [-2.1067367e+00]\n",
      "   [-1.1060097e+00]\n",
      "   [-1.6135132e-01]\n",
      "   [-2.1535013e+00]\n",
      "   [ 1.8538253e+00]\n",
      "   [ 1.9085585e+00]\n",
      "   [ 3.0352499e+00]\n",
      "   [ 4.5934811e+00]\n",
      "   [ 5.5935788e-01]]\n",
      "\n",
      "  [[-2.4418960e+00]\n",
      "   [-2.2614400e+00]\n",
      "   [-3.3834054e+00]\n",
      "   [-2.2459977e+00]\n",
      "   [-1.0030663e+00]\n",
      "   [ 2.2385135e+00]\n",
      "   [ 7.7438200e-01]\n",
      "   [ 3.0079219e+00]\n",
      "   [ 1.3287622e+00]\n",
      "   [ 1.2811935e-01]]\n",
      "\n",
      "  [[-1.8553113e+00]\n",
      "   [ 1.1085667e-01]\n",
      "   [-5.3432256e-01]\n",
      "   [-9.9692173e-02]\n",
      "   [ 3.3592758e-01]\n",
      "   [ 1.5781330e+00]\n",
      "   [ 2.9274127e+00]\n",
      "   [-1.3778256e+00]\n",
      "   [-1.3616138e+00]\n",
      "   [-9.2809892e-01]]\n",
      "\n",
      "  [[ 1.3850060e+00]\n",
      "   [-1.4646646e+00]\n",
      "   [ 1.5920116e+00]\n",
      "   [ 2.6316302e+00]\n",
      "   [-4.0589571e-03]\n",
      "   [ 3.5147092e+00]\n",
      "   [ 7.9998988e-01]\n",
      "   [-2.1844504e+00]\n",
      "   [ 1.2001784e+00]\n",
      "   [-1.5557785e+00]]\n",
      "\n",
      "  [[ 1.2784804e+00]\n",
      "   [ 2.6515048e+00]\n",
      "   [ 2.8268573e+00]\n",
      "   [-3.0725744e-02]\n",
      "   [-2.4940832e-02]\n",
      "   [ 7.9801965e-01]\n",
      "   [-3.0462706e+00]\n",
      "   [-8.8494116e-01]\n",
      "   [ 7.7601612e-01]\n",
      "   [-2.0205171e+00]]\n",
      "\n",
      "  [[ 9.4377393e-01]\n",
      "   [ 1.4101750e+00]\n",
      "   [ 1.2229346e+00]\n",
      "   [ 1.0596259e+00]\n",
      "   [ 2.5222988e+00]\n",
      "   [ 3.8336685e+00]\n",
      "   [ 8.4171039e-01]\n",
      "   [ 2.2703559e+00]\n",
      "   [-1.6370342e+00]\n",
      "   [-2.5883703e+00]]\n",
      "\n",
      "  [[-6.0758150e-01]\n",
      "   [-1.2778329e+00]\n",
      "   [-6.8048096e-01]\n",
      "   [ 1.2185271e+00]\n",
      "   [ 1.6489952e+00]\n",
      "   [ 1.0423110e+00]\n",
      "   [ 1.3719983e+00]\n",
      "   [ 2.0479780e-01]\n",
      "   [-1.9769557e+00]\n",
      "   [-5.2138937e-01]]]]\n"
     ]
    }
   ],
   "source": [
    "import tensorflow as tf\n",
    "\n",
    "#Building graph\n",
    "\n",
    "input = tf.Variable(tf.random_normal([1, 10, 10, 1]))\n",
    "filter = tf.Variable(tf.random_normal([3, 3, 1, 1]))\n",
    "op = tf.nn.conv2d(input, filter, strides=[1, 1, 1, 1], padding='VALID')\n",
    "op2 = tf.nn.conv2d(input, filter, strides=[1, 1, 1, 1], padding='SAME')\n",
    "\n",
    "#Initialization and session\n",
    "init = tf.global_variables_initializer()\n",
    "with tf.Session() as sess:\n",
    "    sess.run(init)\n",
    "\n",
    "    print(\"Input \\n\")\n",
    "    print('{0} \\n'.format(input.eval()))\n",
    "    print(\"Filter/Kernel \\n\")\n",
    "    print('{0} \\n'.format(filter.eval()))\n",
    "    print(\"Result/Feature Map with valid positions \\n\")\n",
    "    result = sess.run(op)\n",
    "    print(result)\n",
    "    print('\\n')\n",
    "    print(\"Result/Feature Map with padding \\n\")\n",
    "    result2 = sess.run(op2)\n",
    "    print(result2)"
   ]
  },
  {
   "cell_type": "markdown",
   "metadata": {},
   "source": [
    "## Preparing the IMDB data"
   ]
  },
  {
   "cell_type": "code",
   "execution_count": 75,
   "metadata": {},
   "outputs": [
    {
     "name": "stdout",
     "output_type": "stream",
     "text": [
      "Loading data...\n",
      "Downloading data from https://s3.amazonaws.com/text-datasets/imdb.npz\n",
      "17465344/17464789 [==============================] - 5s 0us/step\n",
      "25000 train sequences\n",
      "25000 test sequences\n",
      "Pad sequences (samples x time)\n",
      "x_train shape: (25000, 500)\n",
      "x_test shape: (25000, 500)\n"
     ]
    }
   ],
   "source": [
    "from keras.datasets import imdb\n",
    "from keras.preprocessing import sequence\n",
    "max_features = 10000\n",
    "max_len = 500\n",
    "print('Loading data...')\n",
    "(x_train, y_train), (x_test, y_test) = imdb.load_data(num_words=max_features) \n",
    "print(len(x_train), 'train sequences')\n",
    "print(len(x_test), 'test sequences')\n",
    "print('Pad sequences (samples x time)')\n",
    "x_train = sequence.pad_sequences(x_train, maxlen=max_len)\n",
    "#sequence.pad_sequences make them as the same length\n",
    "x_test = sequence.pad_sequences(x_test, maxlen=max_len) \n",
    "print('x_train shape:', x_train.shape)\n",
    "print('x_test shape:', x_test.shape)\n"
   ]
  },
  {
   "cell_type": "code",
   "execution_count": 77,
   "metadata": {},
   "outputs": [
    {
     "name": "stdout",
     "output_type": "stream",
     "text": [
      "WARNING:tensorflow:From /Users/apple/PycharmProjects/PRACTICE/venv/lib/python3.7/site-packages/keras/backend/tensorflow_backend.py:4070: The name tf.nn.max_pool is deprecated. Please use tf.nn.max_pool2d instead.\n",
      "\n",
      "Model: \"sequential_2\"\n",
      "_________________________________________________________________\n",
      "Layer (type)                 Output Shape              Param #   \n",
      "=================================================================\n",
      "embedding_1 (Embedding)      (None, 500, 128)          1280000   \n",
      "_________________________________________________________________\n",
      "conv1d_1 (Conv1D)            (None, 494, 32)           28704     \n",
      "_________________________________________________________________\n",
      "max_pooling1d_1 (MaxPooling1 (None, 98, 32)            0         \n",
      "_________________________________________________________________\n",
      "conv1d_2 (Conv1D)            (None, 92, 32)            7200      \n",
      "_________________________________________________________________\n",
      "global_max_pooling1d_1 (Glob (None, 32)                0         \n",
      "_________________________________________________________________\n",
      "dense_3 (Dense)              (None, 1)                 33        \n",
      "=================================================================\n",
      "Total params: 1,315,937\n",
      "Trainable params: 1,315,937\n",
      "Non-trainable params: 0\n",
      "_________________________________________________________________\n"
     ]
    }
   ],
   "source": [
    "from keras.models import Sequential \n",
    "from keras import layers\n",
    "from keras.optimizers import RMSprop\n",
    "model = Sequential()\n",
    "model.add(layers.Embedding(max_features, 128, input_length=max_len)) \n",
    "model.add(layers.Conv1D(32, 7, activation='relu')) \n",
    "model.add(layers.MaxPooling1D(5))\n",
    "model.add(layers.Conv1D(32, 7, activation='relu')) \n",
    "model.add(layers.GlobalMaxPooling1D())\n",
    "model.add(layers.Dense(1))\n",
    "model.summary()\n"
   ]
  },
  {
   "cell_type": "code",
   "execution_count": 78,
   "metadata": {},
   "outputs": [
    {
     "name": "stdout",
     "output_type": "stream",
     "text": [
      "WARNING:tensorflow:From /Users/apple/PycharmProjects/PRACTICE/venv/lib/python3.7/site-packages/tensorflow_core/python/ops/math_grad.py:1424: where (from tensorflow.python.ops.array_ops) is deprecated and will be removed in a future version.\n",
      "Instructions for updating:\n",
      "Use tf.where in 2.0, which has the same broadcast rule as np.where\n",
      "WARNING:tensorflow:From /Users/apple/PycharmProjects/PRACTICE/venv/lib/python3.7/site-packages/keras/backend/tensorflow_backend.py:431: The name tf.is_variable_initialized is deprecated. Please use tf.compat.v1.is_variable_initialized instead.\n",
      "\n",
      "WARNING:tensorflow:From /Users/apple/PycharmProjects/PRACTICE/venv/lib/python3.7/site-packages/keras/backend/tensorflow_backend.py:438: The name tf.variables_initializer is deprecated. Please use tf.compat.v1.variables_initializer instead.\n",
      "\n",
      "Train on 20000 samples, validate on 5000 samples\n",
      "Epoch 1/10\n",
      "20000/20000 [==============================] - 57s 3ms/step - loss: 0.8335 - acc: 0.5089 - val_loss: 0.6879 - val_acc: 0.5442\n",
      "Epoch 2/10\n",
      "20000/20000 [==============================] - 56s 3ms/step - loss: 0.6718 - acc: 0.6488 - val_loss: 0.6651 - val_acc: 0.6700\n",
      "Epoch 3/10\n",
      "20000/20000 [==============================] - 58s 3ms/step - loss: 0.6285 - acc: 0.7466 - val_loss: 0.6122 - val_acc: 0.7466\n",
      "Epoch 4/10\n",
      "20000/20000 [==============================] - 56s 3ms/step - loss: 0.5410 - acc: 0.8062 - val_loss: 0.4992 - val_acc: 0.8062\n",
      "Epoch 5/10\n",
      "20000/20000 [==============================] - 51s 3ms/step - loss: 0.4150 - acc: 0.8454 - val_loss: 0.4194 - val_acc: 0.8306\n",
      "Epoch 6/10\n",
      "20000/20000 [==============================] - 52s 3ms/step - loss: 0.3481 - acc: 0.8682 - val_loss: 0.4164 - val_acc: 0.8278\n",
      "Epoch 7/10\n",
      "20000/20000 [==============================] - 52s 3ms/step - loss: 0.3121 - acc: 0.8612 - val_loss: 0.4100 - val_acc: 0.8236\n",
      "Epoch 8/10\n",
      "20000/20000 [==============================] - 57s 3ms/step - loss: 0.2796 - acc: 0.8490 - val_loss: 0.4038 - val_acc: 0.8074\n",
      "Epoch 9/10\n",
      "20000/20000 [==============================] - 65s 3ms/step - loss: 0.2553 - acc: 0.8229 - val_loss: 0.4309 - val_acc: 0.7848\n",
      "Epoch 10/10\n",
      "20000/20000 [==============================] - 52s 3ms/step - loss: 0.2336 - acc: 0.8027 - val_loss: 0.4456 - val_acc: 0.7552\n"
     ]
    }
   ],
   "source": [
    "model.compile(optimizer=RMSprop(lr=1e-4), loss='binary_crossentropy',\n",
    "metrics=['acc']) \n",
    "history = model.fit(x_train, y_train,\n",
    "epochs=10, batch_size=128, validation_split=0.2)"
   ]
  },
  {
   "cell_type": "code",
   "execution_count": 83,
   "metadata": {},
   "outputs": [
    {
     "data": {
      "text/plain": [
       "dict_keys(['val_loss', 'val_acc', 'loss', 'acc'])"
      ]
     },
     "execution_count": 83,
     "metadata": {},
     "output_type": "execute_result"
    }
   ],
   "source": [
    "history_dict = history.history\n",
    "val_loss_values, history_dict.keys()"
   ]
  },
  {
   "cell_type": "markdown",
   "metadata": {},
   "source": [
    "this is a convincing demonstration that a 1D convnet can offer a fast, cheap alternative to a recurrent network on a word-level sentiment-classification task."
   ]
  },
  {
   "cell_type": "code",
   "execution_count": 86,
   "metadata": {},
   "outputs": [
    {
     "data": {
      "image/png": "[encoded data removed]",
      "text/plain": [
       "<Figure size 432x288 with 1 Axes>"
      ]
     },
     "metadata": {
      "needs_background": "light"
     },
     "output_type": "display_data"
    }
   ],
   "source": [
    "import matplotlib.pyplot as plt\n",
    "history_dict = history.history\n",
    "loss_values = history_dict['loss'] \n",
    "val_loss_values = history_dict['val_loss']\n",
    "epochs = range(1, 11)\n",
    "plt.plot(epochs, loss_values, 'bo', label='Training loss') \n",
    "plt.plot(epochs, val_loss_values, 'b', label='Validation loss')\n",
    "\n",
    "plt.title('Training and validation loss') \n",
    "plt.xlabel('Epochs')\n",
    "plt.ylabel('Loss')\n",
    "plt.legend()\n",
    "\n",
    "plt.show()"
   ]
  },
  {
   "cell_type": "code",
   "execution_count": 89,
   "metadata": {},
   "outputs": [
    {
     "data": {
      "image/png": "[encoded data removed]",
      "text/plain": [
       "<Figure size 432x288 with 1 Axes>"
      ]
     },
     "metadata": {
      "needs_background": "light"
     },
     "output_type": "display_data"
    }
   ],
   "source": [
    "acc = history.history['acc']\n",
    "val_acc = history.history['val_acc']\n",
    "plt.clf() \n",
    "val_acc_values = history_dict['val_acc']\n",
    "plt.plot(epochs, acc, 'bo', label='Training acc') \n",
    "plt.plot(epochs, val_acc, 'b', label='Validation acc') \n",
    "plt.title('Training and validation accuracy') \n",
    "plt.xlabel('Epochs')\n",
    "plt.ylabel('Loss') \n",
    "plt.legend()\n",
    "plt.show()"
   ]
  }
 ],
 "metadata": {
  "kernelspec": {
   "display_name": "Python 3",
   "language": "python",
   "name": "python3"
  },
  "language_info": {
   "codemirror_mode": {
    "name": "ipython",
    "version": 3
   },
   "file_extension": ".py",
   "mimetype": "text/x-python",
   "name": "python",
   "nbconvert_exporter": "python",
   "pygments_lexer": "ipython3",
   "version": "3.7.0"
  }
 },
 "nbformat": 4,
 "nbformat_minor": 4
}
