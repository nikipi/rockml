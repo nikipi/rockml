{
 "cells": [
  {
   "cell_type": "code",
   "execution_count": 1,
   "id": "92bfbb58",
   "metadata": {},
   "outputs": [],
   "source": [
    "import numpy as np\n",
    "import pandas as pd \n",
    "import os\n",
    "\n",
    "import matplotlib.pyplot as plt\n",
    "import seaborn as sns\n",
    "from pylab import rcParams\n",
    "import matplotlib.cm as cm\n"
   ]
  },
  {
   "cell_type": "code",
   "execution_count": 2,
   "id": "a0cec179",
   "metadata": {},
   "outputs": [],
   "source": [
    "df=pd.read_csv('/Users/ypi/Desktop/电子产品销售分析.csv')"
   ]
  },
  {
   "cell_type": "code",
   "execution_count": 3,
   "id": "f9d3cb84",
   "metadata": {},
   "outputs": [
    {
     "data": {
      "text/html": [
       "<div>\n",
       "<style scoped>\n",
       "    .dataframe tbody tr th:only-of-type {\n",
       "        vertical-align: middle;\n",
       "    }\n",
       "\n",
       "    .dataframe tbody tr th {\n",
       "        vertical-align: top;\n",
       "    }\n",
       "\n",
       "    .dataframe thead th {\n",
       "        text-align: right;\n",
       "    }\n",
       "</style>\n",
       "<table border=\"1\" class=\"dataframe\">\n",
       "  <thead>\n",
       "    <tr style=\"text-align: right;\">\n",
       "      <th></th>\n",
       "      <th>Unnamed: 0</th>\n",
       "      <th>event_time</th>\n",
       "      <th>order_id</th>\n",
       "      <th>product_id</th>\n",
       "      <th>category_id</th>\n",
       "      <th>category_code</th>\n",
       "      <th>brand</th>\n",
       "      <th>price</th>\n",
       "      <th>user_id</th>\n",
       "      <th>age</th>\n",
       "      <th>sex</th>\n",
       "      <th>local</th>\n",
       "    </tr>\n",
       "  </thead>\n",
       "  <tbody>\n",
       "    <tr>\n",
       "      <th>0</th>\n",
       "      <td>0</td>\n",
       "      <td>2020-04-24 11:50:39 UTC</td>\n",
       "      <td>2294359932054536986</td>\n",
       "      <td>1515966223509089906</td>\n",
       "      <td>2.268105e+18</td>\n",
       "      <td>electronics.tablet</td>\n",
       "      <td>samsung</td>\n",
       "      <td>162.01</td>\n",
       "      <td>1.515916e+18</td>\n",
       "      <td>24.0</td>\n",
       "      <td>女</td>\n",
       "      <td>海南</td>\n",
       "    </tr>\n",
       "    <tr>\n",
       "      <th>1</th>\n",
       "      <td>1</td>\n",
       "      <td>2020-04-24 11:50:39 UTC</td>\n",
       "      <td>2294359932054536986</td>\n",
       "      <td>1515966223509089906</td>\n",
       "      <td>2.268105e+18</td>\n",
       "      <td>electronics.tablet</td>\n",
       "      <td>samsung</td>\n",
       "      <td>162.01</td>\n",
       "      <td>1.515916e+18</td>\n",
       "      <td>24.0</td>\n",
       "      <td>女</td>\n",
       "      <td>海南</td>\n",
       "    </tr>\n",
       "    <tr>\n",
       "      <th>2</th>\n",
       "      <td>2</td>\n",
       "      <td>2020-04-24 14:37:43 UTC</td>\n",
       "      <td>2294444024058086220</td>\n",
       "      <td>2273948319057183658</td>\n",
       "      <td>2.268105e+18</td>\n",
       "      <td>electronics.audio.headphone</td>\n",
       "      <td>huawei</td>\n",
       "      <td>77.52</td>\n",
       "      <td>1.515916e+18</td>\n",
       "      <td>38.0</td>\n",
       "      <td>女</td>\n",
       "      <td>北京</td>\n",
       "    </tr>\n",
       "    <tr>\n",
       "      <th>3</th>\n",
       "      <td>3</td>\n",
       "      <td>2020-04-24 14:37:43 UTC</td>\n",
       "      <td>2294444024058086220</td>\n",
       "      <td>2273948319057183658</td>\n",
       "      <td>2.268105e+18</td>\n",
       "      <td>electronics.audio.headphone</td>\n",
       "      <td>huawei</td>\n",
       "      <td>77.52</td>\n",
       "      <td>1.515916e+18</td>\n",
       "      <td>38.0</td>\n",
       "      <td>女</td>\n",
       "      <td>北京</td>\n",
       "    </tr>\n",
       "    <tr>\n",
       "      <th>4</th>\n",
       "      <td>4</td>\n",
       "      <td>2020-04-24 19:16:21 UTC</td>\n",
       "      <td>2294584263154074236</td>\n",
       "      <td>2273948316817424439</td>\n",
       "      <td>2.268105e+18</td>\n",
       "      <td>NaN</td>\n",
       "      <td>karcher</td>\n",
       "      <td>217.57</td>\n",
       "      <td>1.515916e+18</td>\n",
       "      <td>32.0</td>\n",
       "      <td>女</td>\n",
       "      <td>广东</td>\n",
       "    </tr>\n",
       "  </tbody>\n",
       "</table>\n",
       "</div>"
      ],
      "text/plain": [
       "   Unnamed: 0               event_time             order_id  \\\n",
       "0           0  2020-04-24 11:50:39 UTC  2294359932054536986   \n",
       "1           1  2020-04-24 11:50:39 UTC  2294359932054536986   \n",
       "2           2  2020-04-24 14:37:43 UTC  2294444024058086220   \n",
       "3           3  2020-04-24 14:37:43 UTC  2294444024058086220   \n",
       "4           4  2020-04-24 19:16:21 UTC  2294584263154074236   \n",
       "\n",
       "            product_id   category_id                category_code    brand  \\\n",
       "0  1515966223509089906  2.268105e+18           electronics.tablet  samsung   \n",
       "1  1515966223509089906  2.268105e+18           electronics.tablet  samsung   \n",
       "2  2273948319057183658  2.268105e+18  electronics.audio.headphone   huawei   \n",
       "3  2273948319057183658  2.268105e+18  electronics.audio.headphone   huawei   \n",
       "4  2273948316817424439  2.268105e+18                          NaN  karcher   \n",
       "\n",
       "    price       user_id   age sex local  \n",
       "0  162.01  1.515916e+18  24.0   女    海南  \n",
       "1  162.01  1.515916e+18  24.0   女    海南  \n",
       "2   77.52  1.515916e+18  38.0   女    北京  \n",
       "3   77.52  1.515916e+18  38.0   女    北京  \n",
       "4  217.57  1.515916e+18  32.0   女    广东  "
      ]
     },
     "execution_count": 3,
     "metadata": {},
     "output_type": "execute_result"
    }
   ],
   "source": [
    "df.head()"
   ]
  },
  {
   "cell_type": "code",
   "execution_count": 4,
   "id": "2324d809",
   "metadata": {},
   "outputs": [
    {
     "name": "stdout",
     "output_type": "stream",
     "text": [
      "<class 'pandas.core.frame.DataFrame'>\n",
      "RangeIndex: 564169 entries, 0 to 564168\n",
      "Data columns (total 12 columns):\n",
      " #   Column         Non-Null Count   Dtype  \n",
      "---  ------         --------------   -----  \n",
      " 0   Unnamed: 0     564169 non-null  int64  \n",
      " 1   event_time     564169 non-null  object \n",
      " 2   order_id       564169 non-null  int64  \n",
      " 3   product_id     564169 non-null  int64  \n",
      " 4   category_id    564169 non-null  float64\n",
      " 5   category_code  434799 non-null  object \n",
      " 6   brand          536945 non-null  object \n",
      " 7   price          564169 non-null  float64\n",
      " 8   user_id        564169 non-null  float64\n",
      " 9   age            564169 non-null  float64\n",
      " 10  sex            564169 non-null  object \n",
      " 11  local          564169 non-null  object \n",
      "dtypes: float64(4), int64(3), object(5)\n",
      "memory usage: 51.7+ MB\n"
     ]
    }
   ],
   "source": [
    "df.info()"
   ]
  },
  {
   "cell_type": "code",
   "execution_count": 5,
   "id": "ad8fd476",
   "metadata": {},
   "outputs": [],
   "source": [
    "## date \n",
    "\n",
    "\n",
    "\n",
    "df=pd.concat([df, df['event_time'].str.split('-', expand=True)], axis=1)\n",
    "\n",
    "### df[].str.split('-',expand=True) \n",
    "\n",
    "\n"
   ]
  },
  {
   "cell_type": "code",
   "execution_count": 6,
   "id": "b83d7153",
   "metadata": {},
   "outputs": [
    {
     "data": {
      "text/plain": [
       "2020    564169\n",
       "Name: year, dtype: int64"
      ]
     },
     "execution_count": 6,
     "metadata": {},
     "output_type": "execute_result"
    }
   ],
   "source": [
    "df.columns= [   'Unnamed: 0',    'event_time',      'order_id',    'product_id',\n",
    "         'category_id', 'category_code',         'brand',         'price',\n",
    "             'user_id',           'age',           'sex',         'local',\n",
    "            'year',               'month',               'day']\n",
    "\n",
    "df['year']=df['year'].str.replace('1970','2020')\n",
    "df.year.value_counts()"
   ]
  },
  {
   "cell_type": "code",
   "execution_count": 7,
   "id": "36848436",
   "metadata": {},
   "outputs": [],
   "source": [
    "for col in df:\n",
    "    df[col] = df[col].apply(lambda x: np.NaN if x=='NaN' else x)"
   ]
  },
  {
   "cell_type": "code",
   "execution_count": 8,
   "id": "58d582d8",
   "metadata": {},
   "outputs": [
    {
     "data": {
      "text/plain": [
       "nan"
      ]
     },
     "execution_count": 8,
     "metadata": {},
     "output_type": "execute_result"
    }
   ],
   "source": [
    "df.iloc[4].category_code"
   ]
  },
  {
   "cell_type": "code",
   "execution_count": 9,
   "id": "7a95eff6",
   "metadata": {},
   "outputs": [
    {
     "data": {
      "text/plain": [
       "Unnamed: 0            0\n",
       "event_time            0\n",
       "order_id              0\n",
       "product_id            0\n",
       "category_id           0\n",
       "category_code    129370\n",
       "brand             27224\n",
       "price                 0\n",
       "user_id               0\n",
       "age                   0\n",
       "sex                   0\n",
       "local                 0\n",
       "year                  0\n",
       "month                 0\n",
       "day                   0\n",
       "dtype: int64"
      ]
     },
     "execution_count": 9,
     "metadata": {},
     "output_type": "execute_result"
    }
   ],
   "source": [
    "df.isnull().sum()"
   ]
  },
  {
   "cell_type": "code",
   "execution_count": 10,
   "id": "ee50ac84",
   "metadata": {},
   "outputs": [
    {
     "data": {
      "text/plain": [
       "广东    122909\n",
       "上海     95356\n",
       "北京     92688\n",
       "湖南     35181\n",
       "海南     34482\n",
       "四川     33849\n",
       "重庆     32131\n",
       "浙江     30945\n",
       "江苏     30216\n",
       "天津     29560\n",
       "湖北     26852\n",
       "Name: local, dtype: int64"
      ]
     },
     "execution_count": 10,
     "metadata": {},
     "output_type": "execute_result"
    }
   ],
   "source": [
    "df.local.value_counts()"
   ]
  },
  {
   "cell_type": "code",
   "execution_count": 11,
   "id": "000335b0",
   "metadata": {},
   "outputs": [
    {
     "data": {
      "image/png": "[encoded data removed]",
      "text/plain": [
       "<Figure size 432x288 with 1 Axes>"
      ]
     },
     "metadata": {},
     "output_type": "display_data"
    }
   ],
   "source": [
    "\n",
    "import seaborn as sns \n",
    "from matplotlib.font_manager import FontProperties\n",
    "\n",
    "myfont=FontProperties(fname=r'/System/Library/Fonts/STHeiti Light.ttc')\n",
    "sns.set(font=myfont.get_name())\n",
    "\n",
    "\n",
    "sns.barplot(x=df.local.value_counts().index,y=df.local.value_counts())\n",
    "plt.xlabel('购买人数')\n",
    "plt.ylabel('地区')\n",
    "plt.grid(True)"
   ]
  },
  {
   "cell_type": "code",
   "execution_count": 12,
   "id": "783fcb0c",
   "metadata": {},
   "outputs": [
    {
     "data": {
      "image/png": "[encoded data removed]",
      "text/plain": [
       "<Figure size 432x288 with 1 Axes>"
      ]
     },
     "metadata": {},
     "output_type": "display_data"
    }
   ],
   "source": [
    "reg_spend=df.groupby('local')['price'].sum().reset_index(name='total spend')\n",
    "sns.barplot(x='local',y='total spend',data=reg_spend,order=reg_spend.sort_values('total spend').local)\n",
    "\n",
    "plt.xlabel('购买总金额')\n",
    "plt.ylabel('地区')\n",
    "plt.grid(True)"
   ]
  },
  {
   "cell_type": "code",
   "execution_count": 13,
   "id": "8884ed86",
   "metadata": {},
   "outputs": [
    {
     "data": {
      "text/plain": [
       "local\n",
       "上海    32.890033\n",
       "北京    33.007002\n",
       "四川    33.126414\n",
       "天津    34.379770\n",
       "广东    33.044545\n",
       "江苏    33.100377\n",
       "浙江    32.770658\n",
       "海南    32.652282\n",
       "湖北    34.257634\n",
       "湖南    33.883915\n",
       "重庆    33.451589\n",
       "Name: age, dtype: float64"
      ]
     },
     "execution_count": 13,
     "metadata": {},
     "output_type": "execute_result"
    }
   ],
   "source": [
    "age=df.groupby('local')['age'].mean()\n",
    "age"
   ]
  },
  {
   "cell_type": "code",
   "execution_count": 14,
   "id": "637b8308",
   "metadata": {},
   "outputs": [],
   "source": [
    "bin=[16,25,30,35,40,50]\n",
    "\n",
    "\n",
    "df.age=pd.cut(df.age,bin,labels=['16-25','25-30','30-35','35-40','40-50'])\n"
   ]
  },
  {
   "cell_type": "code",
   "execution_count": 15,
   "id": "e941a668",
   "metadata": {},
   "outputs": [
    {
     "data": {
      "text/html": [
       "<div>\n",
       "<style scoped>\n",
       "    .dataframe tbody tr th:only-of-type {\n",
       "        vertical-align: middle;\n",
       "    }\n",
       "\n",
       "    .dataframe tbody tr th {\n",
       "        vertical-align: top;\n",
       "    }\n",
       "\n",
       "    .dataframe thead th {\n",
       "        text-align: right;\n",
       "    }\n",
       "</style>\n",
       "<table border=\"1\" class=\"dataframe\">\n",
       "  <thead>\n",
       "    <tr style=\"text-align: right;\">\n",
       "      <th></th>\n",
       "      <th>Unnamed: 0</th>\n",
       "      <th>event_time</th>\n",
       "      <th>order_id</th>\n",
       "      <th>product_id</th>\n",
       "      <th>category_id</th>\n",
       "      <th>category_code</th>\n",
       "      <th>brand</th>\n",
       "      <th>price</th>\n",
       "      <th>user_id</th>\n",
       "      <th>age</th>\n",
       "      <th>sex</th>\n",
       "      <th>local</th>\n",
       "      <th>year</th>\n",
       "      <th>month</th>\n",
       "      <th>day</th>\n",
       "    </tr>\n",
       "  </thead>\n",
       "  <tbody>\n",
       "    <tr>\n",
       "      <th>0</th>\n",
       "      <td>0</td>\n",
       "      <td>2020-04-24 11:50:39 UTC</td>\n",
       "      <td>2294359932054536986</td>\n",
       "      <td>1515966223509089906</td>\n",
       "      <td>2.268105e+18</td>\n",
       "      <td>electronics.tablet</td>\n",
       "      <td>samsung</td>\n",
       "      <td>162.01</td>\n",
       "      <td>1.515916e+18</td>\n",
       "      <td>16-25</td>\n",
       "      <td>女</td>\n",
       "      <td>海南</td>\n",
       "      <td>2020</td>\n",
       "      <td>04</td>\n",
       "      <td>24 11:50:39 UTC</td>\n",
       "    </tr>\n",
       "    <tr>\n",
       "      <th>1</th>\n",
       "      <td>1</td>\n",
       "      <td>2020-04-24 11:50:39 UTC</td>\n",
       "      <td>2294359932054536986</td>\n",
       "      <td>1515966223509089906</td>\n",
       "      <td>2.268105e+18</td>\n",
       "      <td>electronics.tablet</td>\n",
       "      <td>samsung</td>\n",
       "      <td>162.01</td>\n",
       "      <td>1.515916e+18</td>\n",
       "      <td>16-25</td>\n",
       "      <td>女</td>\n",
       "      <td>海南</td>\n",
       "      <td>2020</td>\n",
       "      <td>04</td>\n",
       "      <td>24 11:50:39 UTC</td>\n",
       "    </tr>\n",
       "    <tr>\n",
       "      <th>2</th>\n",
       "      <td>2</td>\n",
       "      <td>2020-04-24 14:37:43 UTC</td>\n",
       "      <td>2294444024058086220</td>\n",
       "      <td>2273948319057183658</td>\n",
       "      <td>2.268105e+18</td>\n",
       "      <td>electronics.audio.headphone</td>\n",
       "      <td>huawei</td>\n",
       "      <td>77.52</td>\n",
       "      <td>1.515916e+18</td>\n",
       "      <td>35-40</td>\n",
       "      <td>女</td>\n",
       "      <td>北京</td>\n",
       "      <td>2020</td>\n",
       "      <td>04</td>\n",
       "      <td>24 14:37:43 UTC</td>\n",
       "    </tr>\n",
       "    <tr>\n",
       "      <th>3</th>\n",
       "      <td>3</td>\n",
       "      <td>2020-04-24 14:37:43 UTC</td>\n",
       "      <td>2294444024058086220</td>\n",
       "      <td>2273948319057183658</td>\n",
       "      <td>2.268105e+18</td>\n",
       "      <td>electronics.audio.headphone</td>\n",
       "      <td>huawei</td>\n",
       "      <td>77.52</td>\n",
       "      <td>1.515916e+18</td>\n",
       "      <td>35-40</td>\n",
       "      <td>女</td>\n",
       "      <td>北京</td>\n",
       "      <td>2020</td>\n",
       "      <td>04</td>\n",
       "      <td>24 14:37:43 UTC</td>\n",
       "    </tr>\n",
       "    <tr>\n",
       "      <th>4</th>\n",
       "      <td>4</td>\n",
       "      <td>2020-04-24 19:16:21 UTC</td>\n",
       "      <td>2294584263154074236</td>\n",
       "      <td>2273948316817424439</td>\n",
       "      <td>2.268105e+18</td>\n",
       "      <td>NaN</td>\n",
       "      <td>karcher</td>\n",
       "      <td>217.57</td>\n",
       "      <td>1.515916e+18</td>\n",
       "      <td>30-35</td>\n",
       "      <td>女</td>\n",
       "      <td>广东</td>\n",
       "      <td>2020</td>\n",
       "      <td>04</td>\n",
       "      <td>24 19:16:21 UTC</td>\n",
       "    </tr>\n",
       "  </tbody>\n",
       "</table>\n",
       "</div>"
      ],
      "text/plain": [
       "   Unnamed: 0               event_time             order_id  \\\n",
       "0           0  2020-04-24 11:50:39 UTC  2294359932054536986   \n",
       "1           1  2020-04-24 11:50:39 UTC  2294359932054536986   \n",
       "2           2  2020-04-24 14:37:43 UTC  2294444024058086220   \n",
       "3           3  2020-04-24 14:37:43 UTC  2294444024058086220   \n",
       "4           4  2020-04-24 19:16:21 UTC  2294584263154074236   \n",
       "\n",
       "            product_id   category_id                category_code    brand  \\\n",
       "0  1515966223509089906  2.268105e+18           electronics.tablet  samsung   \n",
       "1  1515966223509089906  2.268105e+18           electronics.tablet  samsung   \n",
       "2  2273948319057183658  2.268105e+18  electronics.audio.headphone   huawei   \n",
       "3  2273948319057183658  2.268105e+18  electronics.audio.headphone   huawei   \n",
       "4  2273948316817424439  2.268105e+18                          NaN  karcher   \n",
       "\n",
       "    price       user_id    age sex local  year month              day  \n",
       "0  162.01  1.515916e+18  16-25   女    海南  2020    04  24 11:50:39 UTC  \n",
       "1  162.01  1.515916e+18  16-25   女    海南  2020    04  24 11:50:39 UTC  \n",
       "2   77.52  1.515916e+18  35-40   女    北京  2020    04  24 14:37:43 UTC  \n",
       "3   77.52  1.515916e+18  35-40   女    北京  2020    04  24 14:37:43 UTC  \n",
       "4  217.57  1.515916e+18  30-35   女    广东  2020    04  24 19:16:21 UTC  "
      ]
     },
     "execution_count": 15,
     "metadata": {},
     "output_type": "execute_result"
    }
   ],
   "source": [
    "df.head()"
   ]
  },
  {
   "cell_type": "code",
   "execution_count": 16,
   "id": "c15b1a33",
   "metadata": {},
   "outputs": [],
   "source": [
    "age_value=df.groupby('local')['age'].value_counts().reset_index(name='count')\n"
   ]
  },
  {
   "cell_type": "code",
   "execution_count": 17,
   "id": "228f4971",
   "metadata": {},
   "outputs": [
    {
     "data": {
      "text/plain": [
       "<AxesSubplot:xlabel='local', ylabel='count'>"
      ]
     },
     "execution_count": 17,
     "metadata": {},
     "output_type": "execute_result"
    },
    {
     "data": {
      "image/png": "[encoded data removed]",
      "text/plain": [
       "<Figure size 864x576 with 1 Axes>"
      ]
     },
     "metadata": {},
     "output_type": "display_data"
    }
   ],
   "source": [
    "import seaborn as sns \n",
    "from matplotlib.font_manager import FontProperties\n",
    "\n",
    "myfont=FontProperties(fname=r'/System/Library/Fonts/STHeiti Light.ttc')\n",
    "sns.set(font=myfont.get_name())\n",
    "\n",
    "\n",
    "rcParams[\"figure.figsize\"]=12,8\n",
    "sns.barplot(x='local',y='count',data=age_value,hue='age')\n"
   ]
  },
  {
   "cell_type": "code",
   "execution_count": 18,
   "id": "ca84b62b",
   "metadata": {},
   "outputs": [
    {
     "data": {
      "text/plain": [
       "<AxesSubplot:xlabel='local', ylabel='count'>"
      ]
     },
     "execution_count": 18,
     "metadata": {},
     "output_type": "execute_result"
    },
    {
     "data": {
      "image/png": "[encoded data removed]",
      "text/plain": [
       "<Figure size 864x576 with 1 Axes>"
      ]
     },
     "metadata": {},
     "output_type": "display_data"
    }
   ],
   "source": [
    "sex_value=df.groupby('local')['sex'].value_counts().reset_index(name='count')\n",
    "sns.barplot(x='local',y='count',data=sex_value,hue='sex')"
   ]
  },
  {
   "cell_type": "code",
   "execution_count": 19,
   "id": "fd38155e",
   "metadata": {},
   "outputs": [
    {
     "data": {
      "text/plain": [
       "<AxesSubplot:xlabel='local', ylabel='total spend'>"
      ]
     },
     "execution_count": 19,
     "metadata": {},
     "output_type": "execute_result"
    },
    {
     "data": {
      "image/png": "[encoded data removed]",
      "text/plain": [
       "<Figure size 864x576 with 1 Axes>"
      ]
     },
     "metadata": {},
     "output_type": "display_data"
    }
   ],
   "source": [
    "sex_spend=df.groupby(['local','sex'])['price'].sum().reset_index(name='total spend')\n",
    "sex_spend\n",
    "sns.barplot(x='local',y='total spend',data=sex_spend,hue='sex')"
   ]
  },
  {
   "cell_type": "code",
   "execution_count": 20,
   "id": "8353bbdd",
   "metadata": {},
   "outputs": [
    {
     "data": {
      "text/html": [
       "<div>\n",
       "<style scoped>\n",
       "    .dataframe tbody tr th:only-of-type {\n",
       "        vertical-align: middle;\n",
       "    }\n",
       "\n",
       "    .dataframe tbody tr th {\n",
       "        vertical-align: top;\n",
       "    }\n",
       "\n",
       "    .dataframe thead th {\n",
       "        text-align: right;\n",
       "    }\n",
       "</style>\n",
       "<table border=\"1\" class=\"dataframe\">\n",
       "  <thead>\n",
       "    <tr style=\"text-align: right;\">\n",
       "      <th></th>\n",
       "      <th>age</th>\n",
       "      <th>total spend</th>\n",
       "    </tr>\n",
       "  </thead>\n",
       "  <tbody>\n",
       "    <tr>\n",
       "      <th>0</th>\n",
       "      <td>16-25</td>\n",
       "      <td>3.010550e+07</td>\n",
       "    </tr>\n",
       "    <tr>\n",
       "      <th>1</th>\n",
       "      <td>25-30</td>\n",
       "      <td>1.685683e+07</td>\n",
       "    </tr>\n",
       "    <tr>\n",
       "      <th>2</th>\n",
       "      <td>30-35</td>\n",
       "      <td>1.742156e+07</td>\n",
       "    </tr>\n",
       "    <tr>\n",
       "      <th>3</th>\n",
       "      <td>35-40</td>\n",
       "      <td>1.531872e+07</td>\n",
       "    </tr>\n",
       "    <tr>\n",
       "      <th>4</th>\n",
       "      <td>40-50</td>\n",
       "      <td>3.475350e+07</td>\n",
       "    </tr>\n",
       "  </tbody>\n",
       "</table>\n",
       "</div>"
      ],
      "text/plain": [
       "     age   total spend\n",
       "0  16-25  3.010550e+07\n",
       "1  25-30  1.685683e+07\n",
       "2  30-35  1.742156e+07\n",
       "3  35-40  1.531872e+07\n",
       "4  40-50  3.475350e+07"
      ]
     },
     "execution_count": 20,
     "metadata": {},
     "output_type": "execute_result"
    }
   ],
   "source": [
    "age_spend=df.groupby('age').price.sum ().reset_index(name='total spend')\n",
    "age_spend"
   ]
  },
  {
   "cell_type": "code",
   "execution_count": 21,
   "id": "09e0597a",
   "metadata": {},
   "outputs": [
    {
     "data": {
      "text/plain": [
       "<AxesSubplot:xlabel='age', ylabel='total spend'>"
      ]
     },
     "execution_count": 21,
     "metadata": {},
     "output_type": "execute_result"
    },
    {
     "data": {
      "image/png": "[encoded data removed]",
      "text/plain": [
       "<Figure size 864x576 with 1 Axes>"
      ]
     },
     "metadata": {},
     "output_type": "display_data"
    }
   ],
   "source": [
    "import seaborn as sns \n",
    "from matplotlib.font_manager import FontProperties\n",
    "\n",
    "myfont=FontProperties(fname=r'/System/Library/Fonts/STHeiti Light.ttc')\n",
    "sns.set(font=myfont.get_name())\n",
    "\n",
    "\n",
    "rcParams[\"figure.figsize\"]=12,8\n",
    "sns.barplot(x='age',y='total spend',data=age_spend,order=age_spend.sort_values('total spend').age)"
   ]
  },
  {
   "cell_type": "code",
   "execution_count": 22,
   "id": "d4160b0e",
   "metadata": {},
   "outputs": [
    {
     "data": {
      "text/html": [
       "<div>\n",
       "<style scoped>\n",
       "    .dataframe tbody tr th:only-of-type {\n",
       "        vertical-align: middle;\n",
       "    }\n",
       "\n",
       "    .dataframe tbody tr th {\n",
       "        vertical-align: top;\n",
       "    }\n",
       "\n",
       "    .dataframe thead th {\n",
       "        text-align: right;\n",
       "    }\n",
       "</style>\n",
       "<table border=\"1\" class=\"dataframe\">\n",
       "  <thead>\n",
       "    <tr style=\"text-align: right;\">\n",
       "      <th></th>\n",
       "      <th>Unnamed: 0</th>\n",
       "      <th>event_time</th>\n",
       "      <th>order_id</th>\n",
       "      <th>product_id</th>\n",
       "      <th>category_id</th>\n",
       "      <th>category_code</th>\n",
       "      <th>brand</th>\n",
       "      <th>price</th>\n",
       "      <th>user_id</th>\n",
       "      <th>age</th>\n",
       "      <th>sex</th>\n",
       "      <th>local</th>\n",
       "      <th>year</th>\n",
       "      <th>month</th>\n",
       "      <th>day</th>\n",
       "    </tr>\n",
       "  </thead>\n",
       "  <tbody>\n",
       "    <tr>\n",
       "      <th>18</th>\n",
       "      <td>18</td>\n",
       "      <td>2020-04-28 04:25:00 UTC</td>\n",
       "      <td>2297034737199350540</td>\n",
       "      <td>1515966223509719628</td>\n",
       "      <td>2.268106e+18</td>\n",
       "      <td>NaN</td>\n",
       "      <td>NaN</td>\n",
       "      <td>6.94</td>\n",
       "      <td>1.515916e+18</td>\n",
       "      <td>35-40</td>\n",
       "      <td>女</td>\n",
       "      <td>北京</td>\n",
       "      <td>2020</td>\n",
       "      <td>04</td>\n",
       "      <td>28 04:25:00 UTC</td>\n",
       "    </tr>\n",
       "    <tr>\n",
       "      <th>19</th>\n",
       "      <td>19</td>\n",
       "      <td>2020-04-28 04:25:00 UTC</td>\n",
       "      <td>2297034737199350540</td>\n",
       "      <td>1515966223509719628</td>\n",
       "      <td>2.268106e+18</td>\n",
       "      <td>NaN</td>\n",
       "      <td>NaN</td>\n",
       "      <td>6.94</td>\n",
       "      <td>1.515916e+18</td>\n",
       "      <td>35-40</td>\n",
       "      <td>女</td>\n",
       "      <td>北京</td>\n",
       "      <td>2020</td>\n",
       "      <td>04</td>\n",
       "      <td>28 04:25:00 UTC</td>\n",
       "    </tr>\n",
       "    <tr>\n",
       "      <th>64</th>\n",
       "      <td>64</td>\n",
       "      <td>2020-04-29 12:42:12 UTC</td>\n",
       "      <td>2298009757589438761</td>\n",
       "      <td>1515966223509104402</td>\n",
       "      <td>2.268105e+18</td>\n",
       "      <td>NaN</td>\n",
       "      <td>NaN</td>\n",
       "      <td>300.90</td>\n",
       "      <td>1.515916e+18</td>\n",
       "      <td>40-50</td>\n",
       "      <td>女</td>\n",
       "      <td>广东</td>\n",
       "      <td>2020</td>\n",
       "      <td>04</td>\n",
       "      <td>29 12:42:12 UTC</td>\n",
       "    </tr>\n",
       "    <tr>\n",
       "      <th>82</th>\n",
       "      <td>82</td>\n",
       "      <td>2020-04-29 13:17:16 UTC</td>\n",
       "      <td>2298027408663511168</td>\n",
       "      <td>1515966223510206441</td>\n",
       "      <td>2.268105e+18</td>\n",
       "      <td>NaN</td>\n",
       "      <td>NaN</td>\n",
       "      <td>2.52</td>\n",
       "      <td>1.515916e+18</td>\n",
       "      <td>30-35</td>\n",
       "      <td>女</td>\n",
       "      <td>上海</td>\n",
       "      <td>2020</td>\n",
       "      <td>04</td>\n",
       "      <td>29 13:17:16 UTC</td>\n",
       "    </tr>\n",
       "    <tr>\n",
       "      <th>206</th>\n",
       "      <td>206</td>\n",
       "      <td>2020-04-29 17:12:37 UTC</td>\n",
       "      <td>2298145860900356978</td>\n",
       "      <td>1515966223509267375</td>\n",
       "      <td>2.268105e+18</td>\n",
       "      <td>NaN</td>\n",
       "      <td>NaN</td>\n",
       "      <td>1.16</td>\n",
       "      <td>1.515916e+18</td>\n",
       "      <td>40-50</td>\n",
       "      <td>女</td>\n",
       "      <td>海南</td>\n",
       "      <td>2020</td>\n",
       "      <td>04</td>\n",
       "      <td>29 17:12:37 UTC</td>\n",
       "    </tr>\n",
       "    <tr>\n",
       "      <th>...</th>\n",
       "      <td>...</td>\n",
       "      <td>...</td>\n",
       "      <td>...</td>\n",
       "      <td>...</td>\n",
       "      <td>...</td>\n",
       "      <td>...</td>\n",
       "      <td>...</td>\n",
       "      <td>...</td>\n",
       "      <td>...</td>\n",
       "      <td>...</td>\n",
       "      <td>...</td>\n",
       "      <td>...</td>\n",
       "      <td>...</td>\n",
       "      <td>...</td>\n",
       "      <td>...</td>\n",
       "    </tr>\n",
       "    <tr>\n",
       "      <th>563884</th>\n",
       "      <td>2633236</td>\n",
       "      <td>2020-11-21 02:59:47 UTC</td>\n",
       "      <td>2388440981134693699</td>\n",
       "      <td>1515966223532407394</td>\n",
       "      <td>2.268105e+18</td>\n",
       "      <td>NaN</td>\n",
       "      <td>NaN</td>\n",
       "      <td>645.81</td>\n",
       "      <td>1.515916e+18</td>\n",
       "      <td>40-50</td>\n",
       "      <td>女</td>\n",
       "      <td>湖南</td>\n",
       "      <td>2020</td>\n",
       "      <td>11</td>\n",
       "      <td>21 02:59:47 UTC</td>\n",
       "    </tr>\n",
       "    <tr>\n",
       "      <th>563918</th>\n",
       "      <td>2633270</td>\n",
       "      <td>2020-11-21 04:50:30 UTC</td>\n",
       "      <td>2388440981134693728</td>\n",
       "      <td>1515966223509296887</td>\n",
       "      <td>2.268105e+18</td>\n",
       "      <td>NaN</td>\n",
       "      <td>NaN</td>\n",
       "      <td>48.59</td>\n",
       "      <td>1.515916e+18</td>\n",
       "      <td>16-25</td>\n",
       "      <td>男</td>\n",
       "      <td>广东</td>\n",
       "      <td>2020</td>\n",
       "      <td>11</td>\n",
       "      <td>21 04:50:30 UTC</td>\n",
       "    </tr>\n",
       "    <tr>\n",
       "      <th>563964</th>\n",
       "      <td>2633316</td>\n",
       "      <td>2020-11-21 06:01:36 UTC</td>\n",
       "      <td>2388440981134693769</td>\n",
       "      <td>1515966223532411322</td>\n",
       "      <td>2.268105e+18</td>\n",
       "      <td>NaN</td>\n",
       "      <td>NaN</td>\n",
       "      <td>400.44</td>\n",
       "      <td>1.515916e+18</td>\n",
       "      <td>16-25</td>\n",
       "      <td>男</td>\n",
       "      <td>海南</td>\n",
       "      <td>2020</td>\n",
       "      <td>11</td>\n",
       "      <td>21 06:01:36 UTC</td>\n",
       "    </tr>\n",
       "    <tr>\n",
       "      <th>564009</th>\n",
       "      <td>2633361</td>\n",
       "      <td>2020-11-21 06:48:38 UTC</td>\n",
       "      <td>2388440981134693809</td>\n",
       "      <td>1515966223509266682</td>\n",
       "      <td>2.268105e+18</td>\n",
       "      <td>NaN</td>\n",
       "      <td>NaN</td>\n",
       "      <td>49.75</td>\n",
       "      <td>1.515916e+18</td>\n",
       "      <td>16-25</td>\n",
       "      <td>男</td>\n",
       "      <td>北京</td>\n",
       "      <td>2020</td>\n",
       "      <td>11</td>\n",
       "      <td>21 06:48:38 UTC</td>\n",
       "    </tr>\n",
       "    <tr>\n",
       "      <th>564106</th>\n",
       "      <td>2633458</td>\n",
       "      <td>2020-11-21 08:53:18 UTC</td>\n",
       "      <td>2388440981134693896</td>\n",
       "      <td>1515966223509127565</td>\n",
       "      <td>2.268105e+18</td>\n",
       "      <td>NaN</td>\n",
       "      <td>NaN</td>\n",
       "      <td>130.76</td>\n",
       "      <td>1.515916e+18</td>\n",
       "      <td>30-35</td>\n",
       "      <td>女</td>\n",
       "      <td>天津</td>\n",
       "      <td>2020</td>\n",
       "      <td>11</td>\n",
       "      <td>21 08:53:18 UTC</td>\n",
       "    </tr>\n",
       "  </tbody>\n",
       "</table>\n",
       "<p>13143 rows × 15 columns</p>\n",
       "</div>"
      ],
      "text/plain": [
       "        Unnamed: 0               event_time             order_id  \\\n",
       "18              18  2020-04-28 04:25:00 UTC  2297034737199350540   \n",
       "19              19  2020-04-28 04:25:00 UTC  2297034737199350540   \n",
       "64              64  2020-04-29 12:42:12 UTC  2298009757589438761   \n",
       "82              82  2020-04-29 13:17:16 UTC  2298027408663511168   \n",
       "206            206  2020-04-29 17:12:37 UTC  2298145860900356978   \n",
       "...            ...                      ...                  ...   \n",
       "563884     2633236  2020-11-21 02:59:47 UTC  2388440981134693699   \n",
       "563918     2633270  2020-11-21 04:50:30 UTC  2388440981134693728   \n",
       "563964     2633316  2020-11-21 06:01:36 UTC  2388440981134693769   \n",
       "564009     2633361  2020-11-21 06:48:38 UTC  2388440981134693809   \n",
       "564106     2633458  2020-11-21 08:53:18 UTC  2388440981134693896   \n",
       "\n",
       "                 product_id   category_id category_code brand   price  \\\n",
       "18      1515966223509719628  2.268106e+18           NaN   NaN    6.94   \n",
       "19      1515966223509719628  2.268106e+18           NaN   NaN    6.94   \n",
       "64      1515966223509104402  2.268105e+18           NaN   NaN  300.90   \n",
       "82      1515966223510206441  2.268105e+18           NaN   NaN    2.52   \n",
       "206     1515966223509267375  2.268105e+18           NaN   NaN    1.16   \n",
       "...                     ...           ...           ...   ...     ...   \n",
       "563884  1515966223532407394  2.268105e+18           NaN   NaN  645.81   \n",
       "563918  1515966223509296887  2.268105e+18           NaN   NaN   48.59   \n",
       "563964  1515966223532411322  2.268105e+18           NaN   NaN  400.44   \n",
       "564009  1515966223509266682  2.268105e+18           NaN   NaN   49.75   \n",
       "564106  1515966223509127565  2.268105e+18           NaN   NaN  130.76   \n",
       "\n",
       "             user_id    age sex local  year month              day  \n",
       "18      1.515916e+18  35-40   女    北京  2020    04  28 04:25:00 UTC  \n",
       "19      1.515916e+18  35-40   女    北京  2020    04  28 04:25:00 UTC  \n",
       "64      1.515916e+18  40-50   女    广东  2020    04  29 12:42:12 UTC  \n",
       "82      1.515916e+18  30-35   女    上海  2020    04  29 13:17:16 UTC  \n",
       "206     1.515916e+18  40-50   女    海南  2020    04  29 17:12:37 UTC  \n",
       "...              ...    ...  ..   ...   ...   ...              ...  \n",
       "563884  1.515916e+18  40-50   女    湖南  2020    11  21 02:59:47 UTC  \n",
       "563918  1.515916e+18  16-25   男    广东  2020    11  21 04:50:30 UTC  \n",
       "563964  1.515916e+18  16-25   男    海南  2020    11  21 06:01:36 UTC  \n",
       "564009  1.515916e+18  16-25   男    北京  2020    11  21 06:48:38 UTC  \n",
       "564106  1.515916e+18  30-35   女    天津  2020    11  21 08:53:18 UTC  \n",
       "\n",
       "[13143 rows x 15 columns]"
      ]
     },
     "execution_count": 22,
     "metadata": {},
     "output_type": "execute_result"
    }
   ],
   "source": [
    "df[(df.category_code.isna())&(df.brand.isna())]"
   ]
  },
  {
   "cell_type": "code",
   "execution_count": 23,
   "id": "50d3e2ec",
   "metadata": {},
   "outputs": [
    {
     "data": {
      "text/html": [
       "<div>\n",
       "<style scoped>\n",
       "    .dataframe tbody tr th:only-of-type {\n",
       "        vertical-align: middle;\n",
       "    }\n",
       "\n",
       "    .dataframe tbody tr th {\n",
       "        vertical-align: top;\n",
       "    }\n",
       "\n",
       "    .dataframe thead th {\n",
       "        text-align: right;\n",
       "    }\n",
       "</style>\n",
       "<table border=\"1\" class=\"dataframe\">\n",
       "  <thead>\n",
       "    <tr style=\"text-align: right;\">\n",
       "      <th></th>\n",
       "      <th>Unnamed: 0</th>\n",
       "      <th>event_time</th>\n",
       "      <th>order_id</th>\n",
       "      <th>product_id</th>\n",
       "      <th>category_id</th>\n",
       "      <th>category_code</th>\n",
       "      <th>brand</th>\n",
       "      <th>price</th>\n",
       "      <th>user_id</th>\n",
       "      <th>age</th>\n",
       "      <th>sex</th>\n",
       "      <th>local</th>\n",
       "      <th>year</th>\n",
       "      <th>month</th>\n",
       "      <th>day</th>\n",
       "    </tr>\n",
       "  </thead>\n",
       "  <tbody>\n",
       "    <tr>\n",
       "      <th>4</th>\n",
       "      <td>4</td>\n",
       "      <td>2020-04-24 19:16:21 UTC</td>\n",
       "      <td>2294584263154074236</td>\n",
       "      <td>2273948316817424439</td>\n",
       "      <td>2.268105e+18</td>\n",
       "      <td>NaN</td>\n",
       "      <td>karcher</td>\n",
       "      <td>217.57</td>\n",
       "      <td>1.515916e+18</td>\n",
       "      <td>30-35</td>\n",
       "      <td>女</td>\n",
       "      <td>广东</td>\n",
       "      <td>2020</td>\n",
       "      <td>04</td>\n",
       "      <td>24 19:16:21 UTC</td>\n",
       "    </tr>\n",
       "    <tr>\n",
       "      <th>16</th>\n",
       "      <td>16</td>\n",
       "      <td>2020-04-28 02:21:45 UTC</td>\n",
       "      <td>2296972701060825130</td>\n",
       "      <td>1515966223509104683</td>\n",
       "      <td>2.268105e+18</td>\n",
       "      <td>NaN</td>\n",
       "      <td>philips</td>\n",
       "      <td>23.13</td>\n",
       "      <td>1.515916e+18</td>\n",
       "      <td>16-25</td>\n",
       "      <td>男</td>\n",
       "      <td>广东</td>\n",
       "      <td>2020</td>\n",
       "      <td>04</td>\n",
       "      <td>28 02:21:45 UTC</td>\n",
       "    </tr>\n",
       "    <tr>\n",
       "      <th>18</th>\n",
       "      <td>18</td>\n",
       "      <td>2020-04-28 04:25:00 UTC</td>\n",
       "      <td>2297034737199350540</td>\n",
       "      <td>1515966223509719628</td>\n",
       "      <td>2.268106e+18</td>\n",
       "      <td>NaN</td>\n",
       "      <td>NaN</td>\n",
       "      <td>6.94</td>\n",
       "      <td>1.515916e+18</td>\n",
       "      <td>35-40</td>\n",
       "      <td>女</td>\n",
       "      <td>北京</td>\n",
       "      <td>2020</td>\n",
       "      <td>04</td>\n",
       "      <td>28 04:25:00 UTC</td>\n",
       "    </tr>\n",
       "    <tr>\n",
       "      <th>19</th>\n",
       "      <td>19</td>\n",
       "      <td>2020-04-28 04:25:00 UTC</td>\n",
       "      <td>2297034737199350540</td>\n",
       "      <td>1515966223509719628</td>\n",
       "      <td>2.268106e+18</td>\n",
       "      <td>NaN</td>\n",
       "      <td>NaN</td>\n",
       "      <td>6.94</td>\n",
       "      <td>1.515916e+18</td>\n",
       "      <td>35-40</td>\n",
       "      <td>女</td>\n",
       "      <td>北京</td>\n",
       "      <td>2020</td>\n",
       "      <td>04</td>\n",
       "      <td>28 04:25:00 UTC</td>\n",
       "    </tr>\n",
       "    <tr>\n",
       "      <th>25</th>\n",
       "      <td>25</td>\n",
       "      <td>2020-04-29 03:25:12 UTC</td>\n",
       "      <td>2297729407910937541</td>\n",
       "      <td>1515966223509105105</td>\n",
       "      <td>2.268105e+18</td>\n",
       "      <td>NaN</td>\n",
       "      <td>sbs</td>\n",
       "      <td>0.02</td>\n",
       "      <td>1.515916e+18</td>\n",
       "      <td>40-50</td>\n",
       "      <td>男</td>\n",
       "      <td>广东</td>\n",
       "      <td>2020</td>\n",
       "      <td>04</td>\n",
       "      <td>29 03:25:12 UTC</td>\n",
       "    </tr>\n",
       "    <tr>\n",
       "      <th>...</th>\n",
       "      <td>...</td>\n",
       "      <td>...</td>\n",
       "      <td>...</td>\n",
       "      <td>...</td>\n",
       "      <td>...</td>\n",
       "      <td>...</td>\n",
       "      <td>...</td>\n",
       "      <td>...</td>\n",
       "      <td>...</td>\n",
       "      <td>...</td>\n",
       "      <td>...</td>\n",
       "      <td>...</td>\n",
       "      <td>...</td>\n",
       "      <td>...</td>\n",
       "      <td>...</td>\n",
       "    </tr>\n",
       "    <tr>\n",
       "      <th>564144</th>\n",
       "      <td>2633496</td>\n",
       "      <td>2020-11-21 09:50:24 UTC</td>\n",
       "      <td>2388440981134693925</td>\n",
       "      <td>1515966223513916332</td>\n",
       "      <td>2.268105e+18</td>\n",
       "      <td>NaN</td>\n",
       "      <td>ava</td>\n",
       "      <td>78.68</td>\n",
       "      <td>1.515916e+18</td>\n",
       "      <td>40-50</td>\n",
       "      <td>男</td>\n",
       "      <td>北京</td>\n",
       "      <td>2020</td>\n",
       "      <td>11</td>\n",
       "      <td>21 09:50:24 UTC</td>\n",
       "    </tr>\n",
       "    <tr>\n",
       "      <th>564150</th>\n",
       "      <td>2633502</td>\n",
       "      <td>2020-11-21 09:59:01 UTC</td>\n",
       "      <td>2388440981134693930</td>\n",
       "      <td>1515966223510177554</td>\n",
       "      <td>2.268105e+18</td>\n",
       "      <td>NaN</td>\n",
       "      <td>dji</td>\n",
       "      <td>0.23</td>\n",
       "      <td>1.515916e+18</td>\n",
       "      <td>30-35</td>\n",
       "      <td>女</td>\n",
       "      <td>上海</td>\n",
       "      <td>2020</td>\n",
       "      <td>11</td>\n",
       "      <td>21 09:59:01 UTC</td>\n",
       "    </tr>\n",
       "    <tr>\n",
       "      <th>564151</th>\n",
       "      <td>2633503</td>\n",
       "      <td>2020-11-21 09:59:01 UTC</td>\n",
       "      <td>2388440981134693930</td>\n",
       "      <td>2273948237628965713</td>\n",
       "      <td>2.268105e+18</td>\n",
       "      <td>NaN</td>\n",
       "      <td>dji</td>\n",
       "      <td>0.23</td>\n",
       "      <td>1.515916e+18</td>\n",
       "      <td>30-35</td>\n",
       "      <td>女</td>\n",
       "      <td>上海</td>\n",
       "      <td>2020</td>\n",
       "      <td>11</td>\n",
       "      <td>21 09:59:01 UTC</td>\n",
       "    </tr>\n",
       "    <tr>\n",
       "      <th>564161</th>\n",
       "      <td>2633513</td>\n",
       "      <td>2020-11-21 10:08:14 UTC</td>\n",
       "      <td>2388440981134693940</td>\n",
       "      <td>2273948246856434093</td>\n",
       "      <td>2.268105e+18</td>\n",
       "      <td>NaN</td>\n",
       "      <td>xiaomi</td>\n",
       "      <td>16.18</td>\n",
       "      <td>1.515916e+18</td>\n",
       "      <td>35-40</td>\n",
       "      <td>女</td>\n",
       "      <td>广东</td>\n",
       "      <td>2020</td>\n",
       "      <td>11</td>\n",
       "      <td>21 10:08:14 UTC</td>\n",
       "    </tr>\n",
       "    <tr>\n",
       "      <th>564167</th>\n",
       "      <td>2633519</td>\n",
       "      <td>2020-11-21 10:10:30 UTC</td>\n",
       "      <td>2388440981134693944</td>\n",
       "      <td>2273948184839454837</td>\n",
       "      <td>2.268105e+18</td>\n",
       "      <td>NaN</td>\n",
       "      <td>moulinex</td>\n",
       "      <td>41.64</td>\n",
       "      <td>1.515916e+18</td>\n",
       "      <td>16-25</td>\n",
       "      <td>女</td>\n",
       "      <td>上海</td>\n",
       "      <td>2020</td>\n",
       "      <td>11</td>\n",
       "      <td>21 10:10:30 UTC</td>\n",
       "    </tr>\n",
       "  </tbody>\n",
       "</table>\n",
       "<p>129370 rows × 15 columns</p>\n",
       "</div>"
      ],
      "text/plain": [
       "        Unnamed: 0               event_time             order_id  \\\n",
       "4                4  2020-04-24 19:16:21 UTC  2294584263154074236   \n",
       "16              16  2020-04-28 02:21:45 UTC  2296972701060825130   \n",
       "18              18  2020-04-28 04:25:00 UTC  2297034737199350540   \n",
       "19              19  2020-04-28 04:25:00 UTC  2297034737199350540   \n",
       "25              25  2020-04-29 03:25:12 UTC  2297729407910937541   \n",
       "...            ...                      ...                  ...   \n",
       "564144     2633496  2020-11-21 09:50:24 UTC  2388440981134693925   \n",
       "564150     2633502  2020-11-21 09:59:01 UTC  2388440981134693930   \n",
       "564151     2633503  2020-11-21 09:59:01 UTC  2388440981134693930   \n",
       "564161     2633513  2020-11-21 10:08:14 UTC  2388440981134693940   \n",
       "564167     2633519  2020-11-21 10:10:30 UTC  2388440981134693944   \n",
       "\n",
       "                 product_id   category_id category_code     brand   price  \\\n",
       "4       2273948316817424439  2.268105e+18           NaN   karcher  217.57   \n",
       "16      1515966223509104683  2.268105e+18           NaN   philips   23.13   \n",
       "18      1515966223509719628  2.268106e+18           NaN       NaN    6.94   \n",
       "19      1515966223509719628  2.268106e+18           NaN       NaN    6.94   \n",
       "25      1515966223509105105  2.268105e+18           NaN       sbs    0.02   \n",
       "...                     ...           ...           ...       ...     ...   \n",
       "564144  1515966223513916332  2.268105e+18           NaN       ava   78.68   \n",
       "564150  1515966223510177554  2.268105e+18           NaN       dji    0.23   \n",
       "564151  2273948237628965713  2.268105e+18           NaN       dji    0.23   \n",
       "564161  2273948246856434093  2.268105e+18           NaN    xiaomi   16.18   \n",
       "564167  2273948184839454837  2.268105e+18           NaN  moulinex   41.64   \n",
       "\n",
       "             user_id    age sex local  year month              day  \n",
       "4       1.515916e+18  30-35   女    广东  2020    04  24 19:16:21 UTC  \n",
       "16      1.515916e+18  16-25   男    广东  2020    04  28 02:21:45 UTC  \n",
       "18      1.515916e+18  35-40   女    北京  2020    04  28 04:25:00 UTC  \n",
       "19      1.515916e+18  35-40   女    北京  2020    04  28 04:25:00 UTC  \n",
       "25      1.515916e+18  40-50   男    广东  2020    04  29 03:25:12 UTC  \n",
       "...              ...    ...  ..   ...   ...   ...              ...  \n",
       "564144  1.515916e+18  40-50   男    北京  2020    11  21 09:50:24 UTC  \n",
       "564150  1.515916e+18  30-35   女    上海  2020    11  21 09:59:01 UTC  \n",
       "564151  1.515916e+18  30-35   女    上海  2020    11  21 09:59:01 UTC  \n",
       "564161  1.515916e+18  35-40   女    广东  2020    11  21 10:08:14 UTC  \n",
       "564167  1.515916e+18  16-25   女    上海  2020    11  21 10:10:30 UTC  \n",
       "\n",
       "[129370 rows x 15 columns]"
      ]
     },
     "execution_count": 23,
     "metadata": {},
     "output_type": "execute_result"
    }
   ],
   "source": [
    "df[df.category_code.isna()]"
   ]
  },
  {
   "cell_type": "code",
   "execution_count": 24,
   "id": "2b9231ea",
   "metadata": {},
   "outputs": [
    {
     "data": {
      "text/html": [
       "<div>\n",
       "<style scoped>\n",
       "    .dataframe tbody tr th:only-of-type {\n",
       "        vertical-align: middle;\n",
       "    }\n",
       "\n",
       "    .dataframe tbody tr th {\n",
       "        vertical-align: top;\n",
       "    }\n",
       "\n",
       "    .dataframe thead th {\n",
       "        text-align: right;\n",
       "    }\n",
       "</style>\n",
       "<table border=\"1\" class=\"dataframe\">\n",
       "  <thead>\n",
       "    <tr style=\"text-align: right;\">\n",
       "      <th></th>\n",
       "      <th>Unnamed: 0</th>\n",
       "      <th>event_time</th>\n",
       "      <th>order_id</th>\n",
       "      <th>product_id</th>\n",
       "      <th>category_id</th>\n",
       "      <th>category_code</th>\n",
       "      <th>brand</th>\n",
       "      <th>price</th>\n",
       "      <th>user_id</th>\n",
       "      <th>age</th>\n",
       "      <th>sex</th>\n",
       "      <th>local</th>\n",
       "      <th>year</th>\n",
       "      <th>month</th>\n",
       "      <th>day</th>\n",
       "    </tr>\n",
       "  </thead>\n",
       "  <tbody>\n",
       "    <tr>\n",
       "      <th>4</th>\n",
       "      <td>4</td>\n",
       "      <td>2020-04-24 19:16:21 UTC</td>\n",
       "      <td>2294584263154074236</td>\n",
       "      <td>2273948316817424439</td>\n",
       "      <td>2.268105e+18</td>\n",
       "      <td>NaN</td>\n",
       "      <td>karcher</td>\n",
       "      <td>217.57</td>\n",
       "      <td>1.515916e+18</td>\n",
       "      <td>30-35</td>\n",
       "      <td>女</td>\n",
       "      <td>广东</td>\n",
       "      <td>2020</td>\n",
       "      <td>04</td>\n",
       "      <td>24 19:16:21 UTC</td>\n",
       "    </tr>\n",
       "    <tr>\n",
       "      <th>12</th>\n",
       "      <td>12</td>\n",
       "      <td>2020-04-27 07:24:51 UTC</td>\n",
       "      <td>2296400480990920715</td>\n",
       "      <td>2273948308663698152</td>\n",
       "      <td>2.374499e+18</td>\n",
       "      <td>electronics.video.tv</td>\n",
       "      <td>samsung</td>\n",
       "      <td>416.64</td>\n",
       "      <td>1.515916e+18</td>\n",
       "      <td>NaN</td>\n",
       "      <td>女</td>\n",
       "      <td>北京</td>\n",
       "      <td>2020</td>\n",
       "      <td>04</td>\n",
       "      <td>27 07:24:51 UTC</td>\n",
       "    </tr>\n",
       "    <tr>\n",
       "      <th>16</th>\n",
       "      <td>16</td>\n",
       "      <td>2020-04-28 02:21:45 UTC</td>\n",
       "      <td>2296972701060825130</td>\n",
       "      <td>1515966223509104683</td>\n",
       "      <td>2.268105e+18</td>\n",
       "      <td>NaN</td>\n",
       "      <td>philips</td>\n",
       "      <td>23.13</td>\n",
       "      <td>1.515916e+18</td>\n",
       "      <td>16-25</td>\n",
       "      <td>男</td>\n",
       "      <td>广东</td>\n",
       "      <td>2020</td>\n",
       "      <td>04</td>\n",
       "      <td>28 02:21:45 UTC</td>\n",
       "    </tr>\n",
       "    <tr>\n",
       "      <th>18</th>\n",
       "      <td>18</td>\n",
       "      <td>2020-04-28 04:25:00 UTC</td>\n",
       "      <td>2297034737199350540</td>\n",
       "      <td>1515966223509719628</td>\n",
       "      <td>2.268106e+18</td>\n",
       "      <td>NaN</td>\n",
       "      <td>NaN</td>\n",
       "      <td>6.94</td>\n",
       "      <td>1.515916e+18</td>\n",
       "      <td>35-40</td>\n",
       "      <td>女</td>\n",
       "      <td>北京</td>\n",
       "      <td>2020</td>\n",
       "      <td>04</td>\n",
       "      <td>28 04:25:00 UTC</td>\n",
       "    </tr>\n",
       "    <tr>\n",
       "      <th>19</th>\n",
       "      <td>19</td>\n",
       "      <td>2020-04-28 04:25:00 UTC</td>\n",
       "      <td>2297034737199350540</td>\n",
       "      <td>1515966223509719628</td>\n",
       "      <td>2.268106e+18</td>\n",
       "      <td>NaN</td>\n",
       "      <td>NaN</td>\n",
       "      <td>6.94</td>\n",
       "      <td>1.515916e+18</td>\n",
       "      <td>35-40</td>\n",
       "      <td>女</td>\n",
       "      <td>北京</td>\n",
       "      <td>2020</td>\n",
       "      <td>04</td>\n",
       "      <td>28 04:25:00 UTC</td>\n",
       "    </tr>\n",
       "    <tr>\n",
       "      <th>...</th>\n",
       "      <td>...</td>\n",
       "      <td>...</td>\n",
       "      <td>...</td>\n",
       "      <td>...</td>\n",
       "      <td>...</td>\n",
       "      <td>...</td>\n",
       "      <td>...</td>\n",
       "      <td>...</td>\n",
       "      <td>...</td>\n",
       "      <td>...</td>\n",
       "      <td>...</td>\n",
       "      <td>...</td>\n",
       "      <td>...</td>\n",
       "      <td>...</td>\n",
       "      <td>...</td>\n",
       "    </tr>\n",
       "    <tr>\n",
       "      <th>564144</th>\n",
       "      <td>2633496</td>\n",
       "      <td>2020-11-21 09:50:24 UTC</td>\n",
       "      <td>2388440981134693925</td>\n",
       "      <td>1515966223513916332</td>\n",
       "      <td>2.268105e+18</td>\n",
       "      <td>NaN</td>\n",
       "      <td>ava</td>\n",
       "      <td>78.68</td>\n",
       "      <td>1.515916e+18</td>\n",
       "      <td>40-50</td>\n",
       "      <td>男</td>\n",
       "      <td>北京</td>\n",
       "      <td>2020</td>\n",
       "      <td>11</td>\n",
       "      <td>21 09:50:24 UTC</td>\n",
       "    </tr>\n",
       "    <tr>\n",
       "      <th>564150</th>\n",
       "      <td>2633502</td>\n",
       "      <td>2020-11-21 09:59:01 UTC</td>\n",
       "      <td>2388440981134693930</td>\n",
       "      <td>1515966223510177554</td>\n",
       "      <td>2.268105e+18</td>\n",
       "      <td>NaN</td>\n",
       "      <td>dji</td>\n",
       "      <td>0.23</td>\n",
       "      <td>1.515916e+18</td>\n",
       "      <td>30-35</td>\n",
       "      <td>女</td>\n",
       "      <td>上海</td>\n",
       "      <td>2020</td>\n",
       "      <td>11</td>\n",
       "      <td>21 09:59:01 UTC</td>\n",
       "    </tr>\n",
       "    <tr>\n",
       "      <th>564151</th>\n",
       "      <td>2633503</td>\n",
       "      <td>2020-11-21 09:59:01 UTC</td>\n",
       "      <td>2388440981134693930</td>\n",
       "      <td>2273948237628965713</td>\n",
       "      <td>2.268105e+18</td>\n",
       "      <td>NaN</td>\n",
       "      <td>dji</td>\n",
       "      <td>0.23</td>\n",
       "      <td>1.515916e+18</td>\n",
       "      <td>30-35</td>\n",
       "      <td>女</td>\n",
       "      <td>上海</td>\n",
       "      <td>2020</td>\n",
       "      <td>11</td>\n",
       "      <td>21 09:59:01 UTC</td>\n",
       "    </tr>\n",
       "    <tr>\n",
       "      <th>564161</th>\n",
       "      <td>2633513</td>\n",
       "      <td>2020-11-21 10:08:14 UTC</td>\n",
       "      <td>2388440981134693940</td>\n",
       "      <td>2273948246856434093</td>\n",
       "      <td>2.268105e+18</td>\n",
       "      <td>NaN</td>\n",
       "      <td>xiaomi</td>\n",
       "      <td>16.18</td>\n",
       "      <td>1.515916e+18</td>\n",
       "      <td>35-40</td>\n",
       "      <td>女</td>\n",
       "      <td>广东</td>\n",
       "      <td>2020</td>\n",
       "      <td>11</td>\n",
       "      <td>21 10:08:14 UTC</td>\n",
       "    </tr>\n",
       "    <tr>\n",
       "      <th>564167</th>\n",
       "      <td>2633519</td>\n",
       "      <td>2020-11-21 10:10:30 UTC</td>\n",
       "      <td>2388440981134693944</td>\n",
       "      <td>2273948184839454837</td>\n",
       "      <td>2.268105e+18</td>\n",
       "      <td>NaN</td>\n",
       "      <td>moulinex</td>\n",
       "      <td>41.64</td>\n",
       "      <td>1.515916e+18</td>\n",
       "      <td>16-25</td>\n",
       "      <td>女</td>\n",
       "      <td>上海</td>\n",
       "      <td>2020</td>\n",
       "      <td>11</td>\n",
       "      <td>21 10:10:30 UTC</td>\n",
       "    </tr>\n",
       "  </tbody>\n",
       "</table>\n",
       "<p>154757 rows × 15 columns</p>\n",
       "</div>"
      ],
      "text/plain": [
       "        Unnamed: 0               event_time             order_id  \\\n",
       "4                4  2020-04-24 19:16:21 UTC  2294584263154074236   \n",
       "12              12  2020-04-27 07:24:51 UTC  2296400480990920715   \n",
       "16              16  2020-04-28 02:21:45 UTC  2296972701060825130   \n",
       "18              18  2020-04-28 04:25:00 UTC  2297034737199350540   \n",
       "19              19  2020-04-28 04:25:00 UTC  2297034737199350540   \n",
       "...            ...                      ...                  ...   \n",
       "564144     2633496  2020-11-21 09:50:24 UTC  2388440981134693925   \n",
       "564150     2633502  2020-11-21 09:59:01 UTC  2388440981134693930   \n",
       "564151     2633503  2020-11-21 09:59:01 UTC  2388440981134693930   \n",
       "564161     2633513  2020-11-21 10:08:14 UTC  2388440981134693940   \n",
       "564167     2633519  2020-11-21 10:10:30 UTC  2388440981134693944   \n",
       "\n",
       "                 product_id   category_id         category_code     brand  \\\n",
       "4       2273948316817424439  2.268105e+18                   NaN   karcher   \n",
       "12      2273948308663698152  2.374499e+18  electronics.video.tv   samsung   \n",
       "16      1515966223509104683  2.268105e+18                   NaN   philips   \n",
       "18      1515966223509719628  2.268106e+18                   NaN       NaN   \n",
       "19      1515966223509719628  2.268106e+18                   NaN       NaN   \n",
       "...                     ...           ...                   ...       ...   \n",
       "564144  1515966223513916332  2.268105e+18                   NaN       ava   \n",
       "564150  1515966223510177554  2.268105e+18                   NaN       dji   \n",
       "564151  2273948237628965713  2.268105e+18                   NaN       dji   \n",
       "564161  2273948246856434093  2.268105e+18                   NaN    xiaomi   \n",
       "564167  2273948184839454837  2.268105e+18                   NaN  moulinex   \n",
       "\n",
       "         price       user_id    age sex local  year month              day  \n",
       "4       217.57  1.515916e+18  30-35   女    广东  2020    04  24 19:16:21 UTC  \n",
       "12      416.64  1.515916e+18    NaN   女    北京  2020    04  27 07:24:51 UTC  \n",
       "16       23.13  1.515916e+18  16-25   男    广东  2020    04  28 02:21:45 UTC  \n",
       "18        6.94  1.515916e+18  35-40   女    北京  2020    04  28 04:25:00 UTC  \n",
       "19        6.94  1.515916e+18  35-40   女    北京  2020    04  28 04:25:00 UTC  \n",
       "...        ...           ...    ...  ..   ...   ...   ...              ...  \n",
       "564144   78.68  1.515916e+18  40-50   男    北京  2020    11  21 09:50:24 UTC  \n",
       "564150    0.23  1.515916e+18  30-35   女    上海  2020    11  21 09:59:01 UTC  \n",
       "564151    0.23  1.515916e+18  30-35   女    上海  2020    11  21 09:59:01 UTC  \n",
       "564161   16.18  1.515916e+18  35-40   女    广东  2020    11  21 10:08:14 UTC  \n",
       "564167   41.64  1.515916e+18  16-25   女    上海  2020    11  21 10:10:30 UTC  \n",
       "\n",
       "[154757 rows x 15 columns]"
      ]
     },
     "execution_count": 24,
     "metadata": {},
     "output_type": "execute_result"
    }
   ],
   "source": [
    "df[df.isna().any(axis=1)]"
   ]
  },
  {
   "cell_type": "code",
   "execution_count": 25,
   "id": "db6a92eb",
   "metadata": {},
   "outputs": [
    {
     "data": {
      "text/plain": [
       "samsung      96239\n",
       "apple        36084\n",
       "ava          26123\n",
       "tefal        17956\n",
       "lg           16696\n",
       "xiaomi       14881\n",
       "philips      12151\n",
       "polaris      10730\n",
       "huawei       10722\n",
       "bosch        10206\n",
       "asus          9118\n",
       "sony          8247\n",
       "lenovo        7924\n",
       "beko          7921\n",
       "neo           7332\n",
       "oppo          6963\n",
       "hp            6453\n",
       "vitek         6452\n",
       "braun         5446\n",
       "scarlett      5045\n",
       "moulinex      4399\n",
       "akvafor       4297\n",
       "logitech      4184\n",
       "transcend     4128\n",
       "redmond       4120\n",
       "rowenta       3920\n",
       "tp-link       3830\n",
       "panasonic     3643\n",
       "rondell       3550\n",
       "camelion      3361\n",
       "Name: brand, dtype: int64"
      ]
     },
     "execution_count": 25,
     "metadata": {},
     "output_type": "execute_result"
    }
   ],
   "source": [
    "brand=df.brand.value_counts().head(30)\n",
    "brand"
   ]
  },
  {
   "cell_type": "code",
   "execution_count": 26,
   "id": "c5c5a6b8",
   "metadata": {},
   "outputs": [
    {
     "data": {
      "text/plain": [
       "<AxesSubplot:xlabel='local', ylabel='total sell'>"
      ]
     },
     "execution_count": 26,
     "metadata": {},
     "output_type": "execute_result"
    },
    {
     "data": {
      "image/png": "[encoded data removed]",
      "text/plain": [
       "<Figure size 864x576 with 1 Axes>"
      ]
     },
     "metadata": {},
     "output_type": "display_data"
    }
   ],
   "source": [
    "reg_brand=df.groupby('local').brand.value_counts().groupby(level=0, group_keys=False).head(5).reset_index(name='total sell')\n",
    "sns.barplot(x='local',y='total sell',hue='brand',data=reg_brand)\n",
    "\n",
    "\n",
    "## groupby(level=0,group_key=False)\n",
    "## only select the first five\n",
    "## groupby(level=0,group_keys=False)"
   ]
  },
  {
   "cell_type": "code",
   "execution_count": 27,
   "id": "719a5267",
   "metadata": {},
   "outputs": [],
   "source": [
    "df.brand.fillna('No brand',inplace=True)\n",
    "\n",
    "## isna()  fillna.  isnull().sum()"
   ]
  },
  {
   "cell_type": "code",
   "execution_count": 28,
   "id": "2ce8769e",
   "metadata": {},
   "outputs": [
    {
     "data": {
      "text/plain": [
       "<AxesSubplot:ylabel='brand'>"
      ]
     },
     "execution_count": 28,
     "metadata": {},
     "output_type": "execute_result"
    },
    {
     "data": {
      "image/png": "[encoded data removed]",
      "text/plain": [
       "<Figure size 864x576 with 1 Axes>"
      ]
     },
     "metadata": {},
     "output_type": "display_data"
    }
   ],
   "source": [
    "df.brand.value_counts().nlargest(10).plot(kind='pie',autopct='%.1f%%')"
   ]
  },
  {
   "cell_type": "code",
   "execution_count": 29,
   "id": "34ba62b1",
   "metadata": {},
   "outputs": [
    {
     "data": {
      "text/plain": [
       "user_id\n",
       "1.515916e+18    1092\n",
       "1.515916e+18    1073\n",
       "1.515916e+18    1040\n",
       "1.515916e+18    1028\n",
       "1.515916e+18    1002\n",
       "                ... \n",
       "1.515916e+18       1\n",
       "1.515916e+18       1\n",
       "1.515916e+18       1\n",
       "1.515916e+18       1\n",
       "1.515916e+18       1\n",
       "Name: order_id, Length: 93823, dtype: int64"
      ]
     },
     "execution_count": 29,
     "metadata": {},
     "output_type": "execute_result"
    }
   ],
   "source": [
    "user_record= df.groupby('user_id')['order_id'].count().sort_values(ascending=False)\n",
    "user_record"
   ]
  },
  {
   "cell_type": "code",
   "execution_count": 30,
   "id": "1307f23b",
   "metadata": {},
   "outputs": [
    {
     "name": "stderr",
     "output_type": "stream",
     "text": [
      "/Users/ypi/PycharmProjects/pythonProject/venv/lib/python3.6/site-packages/ipykernel_launcher.py:2: SettingWithCopyWarning: \n",
      "A value is trying to be set on a copy of a slice from a DataFrame.\n",
      "Try using .loc[row_indexer,col_indexer] = value instead\n",
      "\n",
      "See the caveats in the documentation: https://pandas.pydata.org/pandas-docs/stable/user_guide/indexing.html#returning-a-view-versus-a-copy\n",
      "  \n",
      "/Users/ypi/PycharmProjects/pythonProject/venv/lib/python3.6/site-packages/ipykernel_launcher.py:5: SettingWithCopyWarning: \n",
      "A value is trying to be set on a copy of a slice from a DataFrame.\n",
      "Try using .loc[row_indexer,col_indexer] = value instead\n",
      "\n",
      "See the caveats in the documentation: https://pandas.pydata.org/pandas-docs/stable/user_guide/indexing.html#returning-a-view-versus-a-copy\n",
      "  \"\"\"\n"
     ]
    }
   ],
   "source": [
    "df_b = df.loc[df['user_id'].isin(user_record[user_record<30].index)]\n",
    "df_b['user_level']='B'\n",
    "\n",
    "df_a = df.loc[df['user_id'].isin(user_record[user_record>=30].index)]\n",
    "df_a['user_level']='A'\n",
    "\n",
    "df_ab=pd.concat([df_a,df_b])\n",
    "\n",
    "\n",
    "### loc --- need index \n",
    "## df[].isin().index"
   ]
  },
  {
   "cell_type": "code",
   "execution_count": 31,
   "id": "369a000b",
   "metadata": {},
   "outputs": [
    {
     "name": "stdout",
     "output_type": "stream",
     "text": [
      "<class 'pandas.core.frame.DataFrame'>\n",
      "Int64Index: 564169 entries, 35 to 564168\n",
      "Data columns (total 16 columns):\n",
      " #   Column         Non-Null Count   Dtype   \n",
      "---  ------         --------------   -----   \n",
      " 0   Unnamed: 0     564169 non-null  int64   \n",
      " 1   event_time     564169 non-null  object  \n",
      " 2   order_id       564169 non-null  int64   \n",
      " 3   product_id     564169 non-null  int64   \n",
      " 4   category_id    564169 non-null  float64 \n",
      " 5   category_code  434799 non-null  object  \n",
      " 6   brand          564169 non-null  object  \n",
      " 7   price          564169 non-null  float64 \n",
      " 8   user_id        564169 non-null  float64 \n",
      " 9   age            549065 non-null  category\n",
      " 10  sex            564169 non-null  object  \n",
      " 11  local          564169 non-null  object  \n",
      " 12  year           564169 non-null  object  \n",
      " 13  month          564169 non-null  object  \n",
      " 14  day            564169 non-null  object  \n",
      " 15  user_level     564169 non-null  object  \n",
      "dtypes: category(1), float64(3), int64(3), object(9)\n",
      "memory usage: 69.4+ MB\n"
     ]
    }
   ],
   "source": [
    "df_ab.info()"
   ]
  },
  {
   "cell_type": "code",
   "execution_count": 32,
   "id": "e0195374",
   "metadata": {},
   "outputs": [
    {
     "data": {
      "text/plain": [
       "<AxesSubplot:ylabel='user_id'>"
      ]
     },
     "execution_count": 32,
     "metadata": {},
     "output_type": "execute_result"
    },
    {
     "data": {
      "image/png": "[encoded data removed]",
      "text/plain": [
       "<Figure size 864x576 with 1 Axes>"
      ]
     },
     "metadata": {},
     "output_type": "display_data"
    }
   ],
   "source": [
    "df_ab.groupby('user_level')['user_id'].nunique().plot(kind='pie',autopct='%.0f%%')"
   ]
  },
  {
   "cell_type": "code",
   "execution_count": 33,
   "id": "717b478b",
   "metadata": {},
   "outputs": [
    {
     "data": {
      "text/plain": [
       "<AxesSubplot:xlabel='user_level'>"
      ]
     },
     "execution_count": 33,
     "metadata": {},
     "output_type": "execute_result"
    },
    {
     "data": {
      "image/png": "[encoded data removed]",
      "text/plain": [
       "<Figure size 864x576 with 1 Axes>"
      ]
     },
     "metadata": {},
     "output_type": "display_data"
    }
   ],
   "source": [
    "df_ab.groupby('user_level')['price'].sum().plot(kind='bar')"
   ]
  },
  {
   "cell_type": "code",
   "execution_count": 34,
   "id": "fb478d5b",
   "metadata": {},
   "outputs": [
    {
     "data": {
      "text/plain": [
       "<AxesSubplot:xlabel='user_level'>"
      ]
     },
     "execution_count": 34,
     "metadata": {},
     "output_type": "execute_result"
    },
    {
     "data": {
      "image/png": "[encoded data removed]",
      "text/plain": [
       "<Figure size 864x576 with 1 Axes>"
      ]
     },
     "metadata": {},
     "output_type": "display_data"
    }
   ],
   "source": [
    "df_ab.groupby('user_level')['order_id'].count().plot(kind='bar')"
   ]
  },
  {
   "cell_type": "code",
   "execution_count": 35,
   "id": "1e036536",
   "metadata": {},
   "outputs": [
    {
     "data": {
      "text/plain": [
       "<AxesSubplot:xlabel='brand'>"
      ]
     },
     "execution_count": 35,
     "metadata": {},
     "output_type": "execute_result"
    },
    {
     "data": {
      "image/png": "[encoded data removed]",
      "text/plain": [
       "<Figure size 864x576 with 1 Axes>"
      ]
     },
     "metadata": {},
     "output_type": "display_data"
    }
   ],
   "source": [
    "brand=df_ab.groupby(['brand','user_level'])['price'].sum().unstack()\n",
    "\n",
    "\n",
    "\n",
    "\n",
    "brand =df_ab.groupby(['brand','user_level'])['price'].sum().unstack()\n",
    "brand['total']=brand.A+brand.B\n",
    "brand = brand.sort_values('total',ascending= False).head(10)\n",
    "brand.iloc[:,0:2].plot(kind='bar',stacked=True)"
   ]
  },
  {
   "cell_type": "code",
   "execution_count": 36,
   "id": "f0320392",
   "metadata": {},
   "outputs": [
    {
     "name": "stderr",
     "output_type": "stream",
     "text": [
      "/Users/ypi/PycharmProjects/pythonProject/venv/lib/python3.6/site-packages/pandas/plotting/_matplotlib/core.py:1192: UserWarning: FixedFormatter should only be used together with FixedLocator\n",
      "  ax.set_xticklabels(xticklabels)\n"
     ]
    },
    {
     "data": {
      "text/plain": [
       "<AxesSubplot:title={'center':'销售额-月度统计'}, xlabel='month'>"
      ]
     },
     "execution_count": 36,
     "metadata": {},
     "output_type": "execute_result"
    },
    {
     "data": {
      "image/png": "[encoded data removed]",
      "text/plain": [
       "<Figure size 864x576 with 1 Axes>"
      ]
     },
     "metadata": {},
     "output_type": "display_data"
    }
   ],
   "source": [
    "df_ab.groupby([df_ab['month']])['price'].sum().plot(grid=True,title='销售额-月度统计')"
   ]
  },
  {
   "cell_type": "code",
   "execution_count": 37,
   "id": "94354865",
   "metadata": {},
   "outputs": [
    {
     "name": "stderr",
     "output_type": "stream",
     "text": [
      "/Users/ypi/PycharmProjects/pythonProject/venv/lib/python3.6/site-packages/pandas/plotting/_matplotlib/core.py:1192: UserWarning: FixedFormatter should only be used together with FixedLocator\n",
      "  ax.set_xticklabels(xticklabels)\n",
      "/Users/ypi/PycharmProjects/pythonProject/venv/lib/python3.6/site-packages/pandas/plotting/_matplotlib/core.py:1192: UserWarning: FixedFormatter should only be used together with FixedLocator\n",
      "  ax.set_xticklabels(xticklabels)\n"
     ]
    },
    {
     "data": {
      "text/plain": [
       "<AxesSubplot:title={'center':'订单数-月度统计'}, xlabel='month'>"
      ]
     },
     "execution_count": 37,
     "metadata": {},
     "output_type": "execute_result"
    },
    {
     "data": {
      "image/png": "[encoded data removed]",
      "text/plain": [
       "<Figure size 1296x576 with 2 Axes>"
      ]
     },
     "metadata": {},
     "output_type": "display_data"
    }
   ],
   "source": [
    "fig,axs = plt.subplots(1,2,figsize=(18,8))\n",
    "df_ab.groupby(['month','user_level'])['price'].sum().unstack().plot(title='销售额-月度统计',ax=axs[0])\n",
    "df_ab.groupby('month').price.sum().rename('A+B').plot(ax=axs[0],color='r').legend(loc=2)\n",
    "df_ab.groupby(['month','user_level'])['order_id'].count().unstack().plot(grid=True,title='订单数-月度统计',ax=axs[1])\n"
   ]
  },
  {
   "cell_type": "code",
   "execution_count": 38,
   "id": "c7051fff",
   "metadata": {},
   "outputs": [],
   "source": [
    "def active_status(x):\n",
    "    status = []\n",
    "    for i in range(11):\n",
    "        if i == 0:\n",
    "            status.append('unreg') if x[i] == 0 else status.append('new')\n",
    "        else:\n",
    "            if x[i] == 0:\n",
    "                status.append('unreg') if status[i -1] == 'unreg' else status.append('unactive')\n",
    "\n",
    "            else:\n",
    "                if status[i-1] == 'unreg':\n",
    "                    status.append('new')\n",
    "                else:\n",
    "                    status.append('return') if status[i-1] == 'unactive' else status.append('active')\n",
    "    return pd.Series(status)"
   ]
  },
  {
   "cell_type": "code",
   "execution_count": 39,
   "id": "80715c06",
   "metadata": {},
   "outputs": [],
   "source": [
    "order_record = df.pivot_table(index='user_id',\n",
    "                            columns='month',values='price').fillna(0)\n"
   ]
  },
  {
   "cell_type": "code",
   "execution_count": 40,
   "id": "008bfd3d",
   "metadata": {},
   "outputs": [],
   "source": [
    "user_active_status = order_record.apply(active_status,axis = 1)"
   ]
  },
  {
   "cell_type": "code",
   "execution_count": 41,
   "id": "2616b604",
   "metadata": {},
   "outputs": [],
   "source": [
    "user_active_status.columns=[\"Jan\", \"Feb\", \"Mar\", \"Apr\", \"May\", \"Jun\", \"Jul\", \"Aug\", \"Sep\", \"Oct\", \"Nov\"]"
   ]
  },
  {
   "cell_type": "code",
   "execution_count": 42,
   "id": "12161a25",
   "metadata": {},
   "outputs": [],
   "source": [
    "# user_active_status=user_active_status.reset_index(name='status')\n",
    "# user_active_status[[\"Jan\", \"Feb\", \"Mar\", \"Apr\", \"May\", \"Jun\", \"Jul\", \"Aug\", \"Sep\", \"Oct\", \"Nov\"]] = pd.DataFrame(user_active_status['status'].tolist())\n"
   ]
  },
  {
   "cell_type": "code",
   "execution_count": 43,
   "id": "73d45b25",
   "metadata": {},
   "outputs": [
    {
     "name": "stderr",
     "output_type": "stream",
     "text": [
      "/Users/ypi/PycharmProjects/pythonProject/venv/lib/python3.6/site-packages/pandas/plotting/_matplotlib/core.py:1192: UserWarning: FixedFormatter should only be used together with FixedLocator\n",
      "  ax.set_xticklabels(xticklabels)\n"
     ]
    },
    {
     "data": {
      "text/plain": [
       "<AxesSubplot:>"
      ]
     },
     "execution_count": 43,
     "metadata": {},
     "output_type": "execute_result"
    },
    {
     "data": {
      "image/png": "[encoded data removed]",
      "text/plain": [
       "<Figure size 864x576 with 1 Axes>"
      ]
     },
     "metadata": {},
     "output_type": "display_data"
    }
   ],
   "source": [
    "user_active_status.apply(pd.Series.value_counts).drop('unreg').T.plot(kind='area')\n",
    "\n",
    "\n",
    "### apply(pd.series.value_counts).drop().T"
   ]
  },
  {
   "cell_type": "code",
   "execution_count": 47,
   "id": "ed495a46",
   "metadata": {},
   "outputs": [
    {
     "data": {
      "text/html": [
       "<div>\n",
       "<style scoped>\n",
       "    .dataframe tbody tr th:only-of-type {\n",
       "        vertical-align: middle;\n",
       "    }\n",
       "\n",
       "    .dataframe tbody tr th {\n",
       "        vertical-align: top;\n",
       "    }\n",
       "\n",
       "    .dataframe thead th {\n",
       "        text-align: right;\n",
       "    }\n",
       "</style>\n",
       "<table border=\"1\" class=\"dataframe\">\n",
       "  <thead>\n",
       "    <tr style=\"text-align: right;\">\n",
       "      <th>month</th>\n",
       "      <th>01</th>\n",
       "      <th>02</th>\n",
       "      <th>03</th>\n",
       "      <th>04</th>\n",
       "      <th>05</th>\n",
       "      <th>06</th>\n",
       "      <th>07</th>\n",
       "      <th>08</th>\n",
       "      <th>09</th>\n",
       "      <th>10</th>\n",
       "      <th>11</th>\n",
       "    </tr>\n",
       "    <tr>\n",
       "      <th>user_id</th>\n",
       "      <th></th>\n",
       "      <th></th>\n",
       "      <th></th>\n",
       "      <th></th>\n",
       "      <th></th>\n",
       "      <th></th>\n",
       "      <th></th>\n",
       "      <th></th>\n",
       "      <th></th>\n",
       "      <th></th>\n",
       "      <th></th>\n",
       "    </tr>\n",
       "  </thead>\n",
       "  <tbody>\n",
       "    <tr>\n",
       "      <th>1.515916e+18</th>\n",
       "      <td>0.0</td>\n",
       "      <td>0.0</td>\n",
       "      <td>0.0</td>\n",
       "      <td>0.0</td>\n",
       "      <td>0.000000</td>\n",
       "      <td>0.00</td>\n",
       "      <td>416.640</td>\n",
       "      <td>0.0</td>\n",
       "      <td>0.00</td>\n",
       "      <td>0.000000</td>\n",
       "      <td>0.000</td>\n",
       "    </tr>\n",
       "    <tr>\n",
       "      <th>1.515916e+18</th>\n",
       "      <td>0.0</td>\n",
       "      <td>0.0</td>\n",
       "      <td>0.0</td>\n",
       "      <td>0.0</td>\n",
       "      <td>0.000000</td>\n",
       "      <td>0.00</td>\n",
       "      <td>0.000</td>\n",
       "      <td>0.0</td>\n",
       "      <td>21.04</td>\n",
       "      <td>35.390000</td>\n",
       "      <td>0.000</td>\n",
       "    </tr>\n",
       "    <tr>\n",
       "      <th>1.515916e+18</th>\n",
       "      <td>0.0</td>\n",
       "      <td>0.0</td>\n",
       "      <td>0.0</td>\n",
       "      <td>0.0</td>\n",
       "      <td>0.000000</td>\n",
       "      <td>0.00</td>\n",
       "      <td>0.000</td>\n",
       "      <td>0.0</td>\n",
       "      <td>0.00</td>\n",
       "      <td>253.242500</td>\n",
       "      <td>651.737</td>\n",
       "    </tr>\n",
       "    <tr>\n",
       "      <th>1.515916e+18</th>\n",
       "      <td>0.0</td>\n",
       "      <td>0.0</td>\n",
       "      <td>0.0</td>\n",
       "      <td>0.0</td>\n",
       "      <td>214.483333</td>\n",
       "      <td>324.05</td>\n",
       "      <td>630.185</td>\n",
       "      <td>0.0</td>\n",
       "      <td>414.33</td>\n",
       "      <td>60.142727</td>\n",
       "      <td>56.690</td>\n",
       "    </tr>\n",
       "    <tr>\n",
       "      <th>1.515916e+18</th>\n",
       "      <td>0.0</td>\n",
       "      <td>0.0</td>\n",
       "      <td>0.0</td>\n",
       "      <td>0.0</td>\n",
       "      <td>43.960000</td>\n",
       "      <td>0.00</td>\n",
       "      <td>138.870</td>\n",
       "      <td>0.0</td>\n",
       "      <td>0.00</td>\n",
       "      <td>0.000000</td>\n",
       "      <td>0.000</td>\n",
       "    </tr>\n",
       "    <tr>\n",
       "      <th>...</th>\n",
       "      <td>...</td>\n",
       "      <td>...</td>\n",
       "      <td>...</td>\n",
       "      <td>...</td>\n",
       "      <td>...</td>\n",
       "      <td>...</td>\n",
       "      <td>...</td>\n",
       "      <td>...</td>\n",
       "      <td>...</td>\n",
       "      <td>...</td>\n",
       "      <td>...</td>\n",
       "    </tr>\n",
       "    <tr>\n",
       "      <th>1.515916e+18</th>\n",
       "      <td>0.0</td>\n",
       "      <td>0.0</td>\n",
       "      <td>0.0</td>\n",
       "      <td>0.0</td>\n",
       "      <td>0.000000</td>\n",
       "      <td>0.00</td>\n",
       "      <td>0.000</td>\n",
       "      <td>0.0</td>\n",
       "      <td>0.00</td>\n",
       "      <td>0.000000</td>\n",
       "      <td>208.310</td>\n",
       "    </tr>\n",
       "    <tr>\n",
       "      <th>1.515916e+18</th>\n",
       "      <td>0.0</td>\n",
       "      <td>0.0</td>\n",
       "      <td>0.0</td>\n",
       "      <td>0.0</td>\n",
       "      <td>0.000000</td>\n",
       "      <td>0.00</td>\n",
       "      <td>0.000</td>\n",
       "      <td>0.0</td>\n",
       "      <td>0.00</td>\n",
       "      <td>0.000000</td>\n",
       "      <td>3472.200</td>\n",
       "    </tr>\n",
       "    <tr>\n",
       "      <th>1.515916e+18</th>\n",
       "      <td>0.0</td>\n",
       "      <td>0.0</td>\n",
       "      <td>0.0</td>\n",
       "      <td>0.0</td>\n",
       "      <td>0.000000</td>\n",
       "      <td>0.00</td>\n",
       "      <td>0.000</td>\n",
       "      <td>0.0</td>\n",
       "      <td>0.00</td>\n",
       "      <td>0.000000</td>\n",
       "      <td>250.830</td>\n",
       "    </tr>\n",
       "    <tr>\n",
       "      <th>1.515916e+18</th>\n",
       "      <td>0.0</td>\n",
       "      <td>0.0</td>\n",
       "      <td>0.0</td>\n",
       "      <td>0.0</td>\n",
       "      <td>0.000000</td>\n",
       "      <td>0.00</td>\n",
       "      <td>0.000</td>\n",
       "      <td>0.0</td>\n",
       "      <td>0.00</td>\n",
       "      <td>0.000000</td>\n",
       "      <td>925.670</td>\n",
       "    </tr>\n",
       "    <tr>\n",
       "      <th>1.515916e+18</th>\n",
       "      <td>0.0</td>\n",
       "      <td>0.0</td>\n",
       "      <td>0.0</td>\n",
       "      <td>0.0</td>\n",
       "      <td>0.000000</td>\n",
       "      <td>0.00</td>\n",
       "      <td>0.000</td>\n",
       "      <td>0.0</td>\n",
       "      <td>0.00</td>\n",
       "      <td>0.000000</td>\n",
       "      <td>418.960</td>\n",
       "    </tr>\n",
       "  </tbody>\n",
       "</table>\n",
       "<p>93823 rows × 11 columns</p>\n",
       "</div>"
      ],
      "text/plain": [
       "month          01   02   03   04          05      06       07   08      09  \\\n",
       "user_id                                                                      \n",
       "1.515916e+18  0.0  0.0  0.0  0.0    0.000000    0.00  416.640  0.0    0.00   \n",
       "1.515916e+18  0.0  0.0  0.0  0.0    0.000000    0.00    0.000  0.0   21.04   \n",
       "1.515916e+18  0.0  0.0  0.0  0.0    0.000000    0.00    0.000  0.0    0.00   \n",
       "1.515916e+18  0.0  0.0  0.0  0.0  214.483333  324.05  630.185  0.0  414.33   \n",
       "1.515916e+18  0.0  0.0  0.0  0.0   43.960000    0.00  138.870  0.0    0.00   \n",
       "...           ...  ...  ...  ...         ...     ...      ...  ...     ...   \n",
       "1.515916e+18  0.0  0.0  0.0  0.0    0.000000    0.00    0.000  0.0    0.00   \n",
       "1.515916e+18  0.0  0.0  0.0  0.0    0.000000    0.00    0.000  0.0    0.00   \n",
       "1.515916e+18  0.0  0.0  0.0  0.0    0.000000    0.00    0.000  0.0    0.00   \n",
       "1.515916e+18  0.0  0.0  0.0  0.0    0.000000    0.00    0.000  0.0    0.00   \n",
       "1.515916e+18  0.0  0.0  0.0  0.0    0.000000    0.00    0.000  0.0    0.00   \n",
       "\n",
       "month                 10        11  \n",
       "user_id                             \n",
       "1.515916e+18    0.000000     0.000  \n",
       "1.515916e+18   35.390000     0.000  \n",
       "1.515916e+18  253.242500   651.737  \n",
       "1.515916e+18   60.142727    56.690  \n",
       "1.515916e+18    0.000000     0.000  \n",
       "...                  ...       ...  \n",
       "1.515916e+18    0.000000   208.310  \n",
       "1.515916e+18    0.000000  3472.200  \n",
       "1.515916e+18    0.000000   250.830  \n",
       "1.515916e+18    0.000000   925.670  \n",
       "1.515916e+18    0.000000   418.960  \n",
       "\n",
       "[93823 rows x 11 columns]"
      ]
     },
     "execution_count": 47,
     "metadata": {},
     "output_type": "execute_result"
    }
   ],
   "source": [
    "order_record"
   ]
  },
  {
   "cell_type": "code",
   "execution_count": 48,
   "id": "aace47ef",
   "metadata": {},
   "outputs": [],
   "source": [
    "\n",
    "def unactive_period(x):\n",
    "    largest= 0\n",
    "    unactive=0\n",
    "    sum=0\n",
    "    for i in range(10):\n",
    "        sum+=x[i]\n",
    "\n",
    "        if sum!=0:\n",
    "\n",
    "\n",
    "            if x[i]==0:\n",
    "                unactive+=1\n",
    "                if largest < unactive:\n",
    "                    largest=unactive\n",
    "\n",
    "                if x[i+1]!=0:\n",
    "                    unactive = 0\n",
    "    return largest\n",
    "        "
   ]
  },
  {
   "cell_type": "code",
   "execution_count": 50,
   "id": "f0e538ff",
   "metadata": {},
   "outputs": [],
   "source": [
    "unactive_count= order_record.apply(unactive_period,axis=1)"
   ]
  },
  {
   "cell_type": "code",
   "execution_count": 76,
   "id": "5bfbe23e",
   "metadata": {},
   "outputs": [
    {
     "data": {
      "text/plain": [
       "2    0.301344\n",
       "3    0.210108\n",
       "1    0.157818\n",
       "0    0.130405\n",
       "5    0.094209\n",
       "4    0.078467\n",
       "6    0.019963\n",
       "7    0.003411\n",
       "8    0.002494\n",
       "9    0.001780\n",
       "dtype: float64"
      ]
     },
     "execution_count": 76,
     "metadata": {},
     "output_type": "execute_result"
    }
   ],
   "source": [
    "unactive_count.value_counts(normalize=True)"
   ]
  },
  {
   "cell_type": "code",
   "execution_count": 56,
   "id": "050bc372",
   "metadata": {},
   "outputs": [
    {
     "data": {
      "text/plain": [
       "0.8695948754569774"
      ]
     },
     "execution_count": 56,
     "metadata": {},
     "output_type": "execute_result"
    }
   ],
   "source": [
    "len(unactive_count[unactive_count!=0])/len(order_record)"
   ]
  },
  {
   "cell_type": "code",
   "execution_count": 58,
   "id": "8c1b89ba",
   "metadata": {},
   "outputs": [
    {
     "data": {
      "text/html": [
       "<div>\n",
       "<style scoped>\n",
       "    .dataframe tbody tr th:only-of-type {\n",
       "        vertical-align: middle;\n",
       "    }\n",
       "\n",
       "    .dataframe tbody tr th {\n",
       "        vertical-align: top;\n",
       "    }\n",
       "\n",
       "    .dataframe thead th {\n",
       "        text-align: right;\n",
       "    }\n",
       "</style>\n",
       "<table border=\"1\" class=\"dataframe\">\n",
       "  <thead>\n",
       "    <tr style=\"text-align: right;\">\n",
       "      <th></th>\n",
       "      <th>order_id</th>\n",
       "      <th>price</th>\n",
       "    </tr>\n",
       "    <tr>\n",
       "      <th>user_id</th>\n",
       "      <th></th>\n",
       "      <th></th>\n",
       "    </tr>\n",
       "  </thead>\n",
       "  <tbody>\n",
       "    <tr>\n",
       "      <th>1.515916e+18</th>\n",
       "      <td>1</td>\n",
       "      <td>416.64</td>\n",
       "    </tr>\n",
       "    <tr>\n",
       "      <th>1.515916e+18</th>\n",
       "      <td>2</td>\n",
       "      <td>56.43</td>\n",
       "    </tr>\n",
       "    <tr>\n",
       "      <th>1.515916e+18</th>\n",
       "      <td>14</td>\n",
       "      <td>7530.34</td>\n",
       "    </tr>\n",
       "    <tr>\n",
       "      <th>1.515916e+18</th>\n",
       "      <td>24</td>\n",
       "      <td>5074.47</td>\n",
       "    </tr>\n",
       "    <tr>\n",
       "      <th>1.515916e+18</th>\n",
       "      <td>2</td>\n",
       "      <td>182.83</td>\n",
       "    </tr>\n",
       "    <tr>\n",
       "      <th>...</th>\n",
       "      <td>...</td>\n",
       "      <td>...</td>\n",
       "    </tr>\n",
       "    <tr>\n",
       "      <th>1.515916e+18</th>\n",
       "      <td>1</td>\n",
       "      <td>208.31</td>\n",
       "    </tr>\n",
       "    <tr>\n",
       "      <th>1.515916e+18</th>\n",
       "      <td>1</td>\n",
       "      <td>3472.20</td>\n",
       "    </tr>\n",
       "    <tr>\n",
       "      <th>1.515916e+18</th>\n",
       "      <td>3</td>\n",
       "      <td>752.49</td>\n",
       "    </tr>\n",
       "    <tr>\n",
       "      <th>1.515916e+18</th>\n",
       "      <td>1</td>\n",
       "      <td>925.67</td>\n",
       "    </tr>\n",
       "    <tr>\n",
       "      <th>1.515916e+18</th>\n",
       "      <td>1</td>\n",
       "      <td>418.96</td>\n",
       "    </tr>\n",
       "  </tbody>\n",
       "</table>\n",
       "<p>93823 rows × 2 columns</p>\n",
       "</div>"
      ],
      "text/plain": [
       "              order_id    price\n",
       "user_id                        \n",
       "1.515916e+18         1   416.64\n",
       "1.515916e+18         2    56.43\n",
       "1.515916e+18        14  7530.34\n",
       "1.515916e+18        24  5074.47\n",
       "1.515916e+18         2   182.83\n",
       "...                ...      ...\n",
       "1.515916e+18         1   208.31\n",
       "1.515916e+18         1  3472.20\n",
       "1.515916e+18         3   752.49\n",
       "1.515916e+18         1   925.67\n",
       "1.515916e+18         1   418.96\n",
       "\n",
       "[93823 rows x 2 columns]"
      ]
     },
     "execution_count": 58,
     "metadata": {},
     "output_type": "execute_result"
    }
   ],
   "source": [
    "df.groupby('user_id').agg({'order_id':pd.Series.count,'price':np.sum})"
   ]
  },
  {
   "cell_type": "code",
   "execution_count": 61,
   "id": "ac1d5d32",
   "metadata": {},
   "outputs": [],
   "source": [
    "order_total=df.groupby('user_id').agg({'order_id':pd.Series.count,'price':np.sum}).groupby('order_id').count().head(10)"
   ]
  },
  {
   "cell_type": "code",
   "execution_count": 77,
   "id": "1a4b52fd",
   "metadata": {},
   "outputs": [
    {
     "data": {
      "text/html": [
       "<div>\n",
       "<style scoped>\n",
       "    .dataframe tbody tr th:only-of-type {\n",
       "        vertical-align: middle;\n",
       "    }\n",
       "\n",
       "    .dataframe tbody tr th {\n",
       "        vertical-align: top;\n",
       "    }\n",
       "\n",
       "    .dataframe thead th {\n",
       "        text-align: right;\n",
       "    }\n",
       "</style>\n",
       "<table border=\"1\" class=\"dataframe\">\n",
       "  <thead>\n",
       "    <tr style=\"text-align: right;\">\n",
       "      <th></th>\n",
       "      <th>price</th>\n",
       "    </tr>\n",
       "    <tr>\n",
       "      <th>order_id</th>\n",
       "      <th></th>\n",
       "    </tr>\n",
       "  </thead>\n",
       "  <tbody>\n",
       "    <tr>\n",
       "      <th>1</th>\n",
       "      <td>34349</td>\n",
       "    </tr>\n",
       "    <tr>\n",
       "      <th>2</th>\n",
       "      <td>18412</td>\n",
       "    </tr>\n",
       "    <tr>\n",
       "      <th>3</th>\n",
       "      <td>10864</td>\n",
       "    </tr>\n",
       "    <tr>\n",
       "      <th>4</th>\n",
       "      <td>7307</td>\n",
       "    </tr>\n",
       "    <tr>\n",
       "      <th>5</th>\n",
       "      <td>4931</td>\n",
       "    </tr>\n",
       "    <tr>\n",
       "      <th>...</th>\n",
       "      <td>...</td>\n",
       "    </tr>\n",
       "    <tr>\n",
       "      <th>1002</th>\n",
       "      <td>1</td>\n",
       "    </tr>\n",
       "    <tr>\n",
       "      <th>1028</th>\n",
       "      <td>1</td>\n",
       "    </tr>\n",
       "    <tr>\n",
       "      <th>1040</th>\n",
       "      <td>1</td>\n",
       "    </tr>\n",
       "    <tr>\n",
       "      <th>1073</th>\n",
       "      <td>1</td>\n",
       "    </tr>\n",
       "    <tr>\n",
       "      <th>1092</th>\n",
       "      <td>1</td>\n",
       "    </tr>\n",
       "  </tbody>\n",
       "</table>\n",
       "<p>448 rows × 1 columns</p>\n",
       "</div>"
      ],
      "text/plain": [
       "          price\n",
       "order_id       \n",
       "1         34349\n",
       "2         18412\n",
       "3         10864\n",
       "4          7307\n",
       "5          4931\n",
       "...         ...\n",
       "1002          1\n",
       "1028          1\n",
       "1040          1\n",
       "1073          1\n",
       "1092          1\n",
       "\n",
       "[448 rows x 1 columns]"
      ]
     },
     "execution_count": 77,
     "metadata": {},
     "output_type": "execute_result"
    }
   ],
   "source": [
    "df.groupby('user_id').agg({'order_id':pd.Series.count,'price':np.sum}).groupby('order_id').count()"
   ]
  },
  {
   "cell_type": "code",
   "execution_count": null,
   "id": "8a7cc4b5",
   "metadata": {},
   "outputs": [],
   "source": []
  }
 ],
 "metadata": {
  "kernelspec": {
   "display_name": "Python 3",
   "language": "python",
   "name": "python3"
  },
  "language_info": {
   "codemirror_mode": {
    "name": "ipython",
    "version": 3
   },
   "file_extension": ".py",
   "mimetype": "text/x-python",
   "name": "python",
   "nbconvert_exporter": "python",
   "pygments_lexer": "ipython3",
   "version": "3.6.4"
  }
 },
 "nbformat": 4,
 "nbformat_minor": 5
}
